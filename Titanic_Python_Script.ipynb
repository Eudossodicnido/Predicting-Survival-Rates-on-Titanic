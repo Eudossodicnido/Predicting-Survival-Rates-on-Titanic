{
 "cells": [
  {
   "cell_type": "markdown",
   "metadata": {
    "papermill": {
     "duration": 0.057555,
     "end_time": "2021-01-17T15:35:11.926664",
     "exception": false,
     "start_time": "2021-01-17T15:35:11.869109",
     "status": "completed"
    },
    "tags": []
   },
   "source": [
    "# Titanic Dataset\n",
    "\n",
    "### 1.0 Importing libraries and data"
   ]
  },
  {
   "cell_type": "code",
   "execution_count": 2,
   "metadata": {
    "execution": {
     "iopub.execute_input": "2021-01-17T15:35:12.054805Z",
     "iopub.status.busy": "2021-01-17T15:35:12.054070Z",
     "iopub.status.idle": "2021-01-17T15:35:14.080340Z",
     "shell.execute_reply": "2021-01-17T15:35:14.081723Z"
    },
    "papermill": {
     "duration": 2.097836,
     "end_time": "2021-01-17T15:35:14.081937",
     "exception": false,
     "start_time": "2021-01-17T15:35:11.984101",
     "status": "completed"
    },
    "tags": []
   },
   "outputs": [],
   "source": [
    "#importing the relevant libraries\n",
    "import pandas as pd\n",
    "import matplotlib.pyplot as plt\n",
    "import seaborn as sns\n",
    "sns.set\n",
    "%matplotlib inline\n",
    "#plt.rcParams['figure.dpi'] = 200\n",
    "import missingno as msno\n",
    "import statsmodels.api as sm\n",
    "from sklearn.linear_model import LogisticRegression\n",
    "from sklearn.model_selection import cross_val_score\n",
    "from sklearn.neighbors import KNeighborsClassifier\n",
    "from sklearn.naive_bayes import GaussianNB\n",
    "from sklearn.tree import DecisionTreeClassifier\n",
    "from sklearn.ensemble import RandomForestClassifier\n",
    "from sklearn.svm import SVC\n",
    "from sklearn.model_selection import GridSearchCV\n",
    "from xgboost import XGBClassifier"
   ]
  },
  {
   "cell_type": "code",
   "execution_count": 3,
   "metadata": {
    "execution": {
     "iopub.execute_input": "2021-01-17T15:35:14.234647Z",
     "iopub.status.busy": "2021-01-17T15:35:14.233914Z",
     "iopub.status.idle": "2021-01-17T15:35:14.259312Z",
     "shell.execute_reply": "2021-01-17T15:35:14.258587Z"
    },
    "papermill": {
     "duration": 0.099055,
     "end_time": "2021-01-17T15:35:14.259428",
     "exception": false,
     "start_time": "2021-01-17T15:35:14.160373",
     "status": "completed"
    },
    "tags": []
   },
   "outputs": [],
   "source": [
    "training_data=pd.read_csv('/kaggle/input/titanic/train.csv')\n",
    "test_data=pd.read_csv('/kaggle/input/titanic/test.csv')"
   ]
  },
  {
   "cell_type": "markdown",
   "metadata": {
    "papermill": {
     "duration": 0.056732,
     "end_time": "2021-01-17T15:35:14.374578",
     "exception": false,
     "start_time": "2021-01-17T15:35:14.317846",
     "status": "completed"
    },
    "tags": []
   },
   "source": [
    "### 2. EDA (Exploratory data analysis)"
   ]
  },
  {
   "cell_type": "markdown",
   "metadata": {
    "papermill": {
     "duration": 0.06575,
     "end_time": "2021-01-17T15:35:14.496997",
     "exception": false,
     "start_time": "2021-01-17T15:35:14.431247",
     "status": "completed"
    },
    "tags": []
   },
   "source": [
    "I will take a look at the general info about data"
   ]
  },
  {
   "cell_type": "code",
   "execution_count": 4,
   "metadata": {
    "execution": {
     "iopub.execute_input": "2021-01-17T15:35:14.631109Z",
     "iopub.status.busy": "2021-01-17T15:35:14.621434Z",
     "iopub.status.idle": "2021-01-17T15:35:14.642361Z",
     "shell.execute_reply": "2021-01-17T15:35:14.642957Z"
    },
    "papermill": {
     "duration": 0.088877,
     "end_time": "2021-01-17T15:35:14.643110",
     "exception": false,
     "start_time": "2021-01-17T15:35:14.554233",
     "status": "completed"
    },
    "tags": []
   },
   "outputs": [
    {
     "data": {
      "text/html": [
       "<div>\n",
       "<style scoped>\n",
       "    .dataframe tbody tr th:only-of-type {\n",
       "        vertical-align: middle;\n",
       "    }\n",
       "\n",
       "    .dataframe tbody tr th {\n",
       "        vertical-align: top;\n",
       "    }\n",
       "\n",
       "    .dataframe thead th {\n",
       "        text-align: right;\n",
       "    }\n",
       "</style>\n",
       "<table border=\"1\" class=\"dataframe\">\n",
       "  <thead>\n",
       "    <tr style=\"text-align: right;\">\n",
       "      <th></th>\n",
       "      <th>PassengerId</th>\n",
       "      <th>Survived</th>\n",
       "      <th>Pclass</th>\n",
       "      <th>Name</th>\n",
       "      <th>Sex</th>\n",
       "      <th>Age</th>\n",
       "      <th>SibSp</th>\n",
       "      <th>Parch</th>\n",
       "      <th>Ticket</th>\n",
       "      <th>Fare</th>\n",
       "      <th>Cabin</th>\n",
       "      <th>Embarked</th>\n",
       "    </tr>\n",
       "  </thead>\n",
       "  <tbody>\n",
       "    <tr>\n",
       "      <th>0</th>\n",
       "      <td>1</td>\n",
       "      <td>0</td>\n",
       "      <td>3</td>\n",
       "      <td>Braund, Mr. Owen Harris</td>\n",
       "      <td>male</td>\n",
       "      <td>22.0</td>\n",
       "      <td>1</td>\n",
       "      <td>0</td>\n",
       "      <td>A/5 21171</td>\n",
       "      <td>7.2500</td>\n",
       "      <td>NaN</td>\n",
       "      <td>S</td>\n",
       "    </tr>\n",
       "    <tr>\n",
       "      <th>1</th>\n",
       "      <td>2</td>\n",
       "      <td>1</td>\n",
       "      <td>1</td>\n",
       "      <td>Cumings, Mrs. John Bradley (Florence Briggs Th...</td>\n",
       "      <td>female</td>\n",
       "      <td>38.0</td>\n",
       "      <td>1</td>\n",
       "      <td>0</td>\n",
       "      <td>PC 17599</td>\n",
       "      <td>71.2833</td>\n",
       "      <td>C85</td>\n",
       "      <td>C</td>\n",
       "    </tr>\n",
       "    <tr>\n",
       "      <th>2</th>\n",
       "      <td>3</td>\n",
       "      <td>1</td>\n",
       "      <td>3</td>\n",
       "      <td>Heikkinen, Miss. Laina</td>\n",
       "      <td>female</td>\n",
       "      <td>26.0</td>\n",
       "      <td>0</td>\n",
       "      <td>0</td>\n",
       "      <td>STON/O2. 3101282</td>\n",
       "      <td>7.9250</td>\n",
       "      <td>NaN</td>\n",
       "      <td>S</td>\n",
       "    </tr>\n",
       "    <tr>\n",
       "      <th>3</th>\n",
       "      <td>4</td>\n",
       "      <td>1</td>\n",
       "      <td>1</td>\n",
       "      <td>Futrelle, Mrs. Jacques Heath (Lily May Peel)</td>\n",
       "      <td>female</td>\n",
       "      <td>35.0</td>\n",
       "      <td>1</td>\n",
       "      <td>0</td>\n",
       "      <td>113803</td>\n",
       "      <td>53.1000</td>\n",
       "      <td>C123</td>\n",
       "      <td>S</td>\n",
       "    </tr>\n",
       "    <tr>\n",
       "      <th>4</th>\n",
       "      <td>5</td>\n",
       "      <td>0</td>\n",
       "      <td>3</td>\n",
       "      <td>Allen, Mr. William Henry</td>\n",
       "      <td>male</td>\n",
       "      <td>35.0</td>\n",
       "      <td>0</td>\n",
       "      <td>0</td>\n",
       "      <td>373450</td>\n",
       "      <td>8.0500</td>\n",
       "      <td>NaN</td>\n",
       "      <td>S</td>\n",
       "    </tr>\n",
       "  </tbody>\n",
       "</table>\n",
       "</div>"
      ],
      "text/plain": [
       "   PassengerId  Survived  Pclass  \\\n",
       "0            1         0       3   \n",
       "1            2         1       1   \n",
       "2            3         1       3   \n",
       "3            4         1       1   \n",
       "4            5         0       3   \n",
       "\n",
       "                                                Name     Sex   Age  SibSp  \\\n",
       "0                            Braund, Mr. Owen Harris    male  22.0      1   \n",
       "1  Cumings, Mrs. John Bradley (Florence Briggs Th...  female  38.0      1   \n",
       "2                             Heikkinen, Miss. Laina  female  26.0      0   \n",
       "3       Futrelle, Mrs. Jacques Heath (Lily May Peel)  female  35.0      1   \n",
       "4                           Allen, Mr. William Henry    male  35.0      0   \n",
       "\n",
       "   Parch            Ticket     Fare Cabin Embarked  \n",
       "0      0         A/5 21171   7.2500   NaN        S  \n",
       "1      0          PC 17599  71.2833   C85        C  \n",
       "2      0  STON/O2. 3101282   7.9250   NaN        S  \n",
       "3      0            113803  53.1000  C123        S  \n",
       "4      0            373450   8.0500   NaN        S  "
      ]
     },
     "execution_count": 4,
     "metadata": {},
     "output_type": "execute_result"
    }
   ],
   "source": [
    "#exploring data\n",
    "training_data.head()"
   ]
  },
  {
   "cell_type": "code",
   "execution_count": 5,
   "metadata": {
    "execution": {
     "iopub.execute_input": "2021-01-17T15:35:14.775328Z",
     "iopub.status.busy": "2021-01-17T15:35:14.774467Z",
     "iopub.status.idle": "2021-01-17T15:35:14.778185Z",
     "shell.execute_reply": "2021-01-17T15:35:14.778659Z"
    },
    "papermill": {
     "duration": 0.077521,
     "end_time": "2021-01-17T15:35:14.778807",
     "exception": false,
     "start_time": "2021-01-17T15:35:14.701286",
     "status": "completed"
    },
    "tags": []
   },
   "outputs": [
    {
     "name": "stdout",
     "output_type": "stream",
     "text": [
      "<class 'pandas.core.frame.DataFrame'>\n",
      "RangeIndex: 891 entries, 0 to 890\n",
      "Data columns (total 12 columns):\n",
      " #   Column       Non-Null Count  Dtype  \n",
      "---  ------       --------------  -----  \n",
      " 0   PassengerId  891 non-null    int64  \n",
      " 1   Survived     891 non-null    int64  \n",
      " 2   Pclass       891 non-null    int64  \n",
      " 3   Name         891 non-null    object \n",
      " 4   Sex          891 non-null    object \n",
      " 5   Age          714 non-null    float64\n",
      " 6   SibSp        891 non-null    int64  \n",
      " 7   Parch        891 non-null    int64  \n",
      " 8   Ticket       891 non-null    object \n",
      " 9   Fare         891 non-null    float64\n",
      " 10  Cabin        204 non-null    object \n",
      " 11  Embarked     889 non-null    object \n",
      "dtypes: float64(2), int64(5), object(5)\n",
      "memory usage: 83.7+ KB\n"
     ]
    }
   ],
   "source": [
    "#checking data types and missing values\n",
    "training_data.info()"
   ]
  },
  {
   "cell_type": "code",
   "execution_count": 6,
   "metadata": {
    "execution": {
     "iopub.execute_input": "2021-01-17T15:35:14.903793Z",
     "iopub.status.busy": "2021-01-17T15:35:14.903130Z",
     "iopub.status.idle": "2021-01-17T15:35:15.344082Z",
     "shell.execute_reply": "2021-01-17T15:35:15.343364Z"
    },
    "papermill": {
     "duration": 0.506062,
     "end_time": "2021-01-17T15:35:15.344208",
     "exception": false,
     "start_time": "2021-01-17T15:35:14.838146",
     "status": "completed"
    },
    "tags": []
   },
   "outputs": [
    {
     "data": {
      "text/plain": [
       "<matplotlib.axes._subplots.AxesSubplot at 0x7f5938c75810>"
      ]
     },
     "execution_count": 6,
     "metadata": {},
     "output_type": "execute_result"
    },
    {
     "data": {
      "image/png": "[encoded data removed]",
      "text/plain": [
       "<Figure size 1800x720 with 2 Axes>"
      ]
     },
     "metadata": {
      "needs_background": "light"
     },
     "output_type": "display_data"
    }
   ],
   "source": [
    "#visualising missing values\n",
    "msno.matrix(training_data, sort='descending')"
   ]
  },
  {
   "cell_type": "code",
   "execution_count": 7,
   "metadata": {
    "execution": {
     "iopub.execute_input": "2021-01-17T15:35:15.472450Z",
     "iopub.status.busy": "2021-01-17T15:35:15.471811Z",
     "iopub.status.idle": "2021-01-17T15:35:15.517628Z",
     "shell.execute_reply": "2021-01-17T15:35:15.516983Z"
    },
    "papermill": {
     "duration": 0.112299,
     "end_time": "2021-01-17T15:35:15.517748",
     "exception": false,
     "start_time": "2021-01-17T15:35:15.405449",
     "status": "completed"
    },
    "tags": []
   },
   "outputs": [
    {
     "data": {
      "text/html": [
       "<div>\n",
       "<style scoped>\n",
       "    .dataframe tbody tr th:only-of-type {\n",
       "        vertical-align: middle;\n",
       "    }\n",
       "\n",
       "    .dataframe tbody tr th {\n",
       "        vertical-align: top;\n",
       "    }\n",
       "\n",
       "    .dataframe thead th {\n",
       "        text-align: right;\n",
       "    }\n",
       "</style>\n",
       "<table border=\"1\" class=\"dataframe\">\n",
       "  <thead>\n",
       "    <tr style=\"text-align: right;\">\n",
       "      <th></th>\n",
       "      <th>PassengerId</th>\n",
       "      <th>Survived</th>\n",
       "      <th>Pclass</th>\n",
       "      <th>Name</th>\n",
       "      <th>Sex</th>\n",
       "      <th>Age</th>\n",
       "      <th>SibSp</th>\n",
       "      <th>Parch</th>\n",
       "      <th>Ticket</th>\n",
       "      <th>Fare</th>\n",
       "      <th>Cabin</th>\n",
       "      <th>Embarked</th>\n",
       "    </tr>\n",
       "  </thead>\n",
       "  <tbody>\n",
       "    <tr>\n",
       "      <th>count</th>\n",
       "      <td>891.000000</td>\n",
       "      <td>891.000000</td>\n",
       "      <td>891.000000</td>\n",
       "      <td>891</td>\n",
       "      <td>891</td>\n",
       "      <td>714.000000</td>\n",
       "      <td>891.000000</td>\n",
       "      <td>891.000000</td>\n",
       "      <td>891</td>\n",
       "      <td>891.000000</td>\n",
       "      <td>204</td>\n",
       "      <td>889</td>\n",
       "    </tr>\n",
       "    <tr>\n",
       "      <th>unique</th>\n",
       "      <td>NaN</td>\n",
       "      <td>NaN</td>\n",
       "      <td>NaN</td>\n",
       "      <td>891</td>\n",
       "      <td>2</td>\n",
       "      <td>NaN</td>\n",
       "      <td>NaN</td>\n",
       "      <td>NaN</td>\n",
       "      <td>681</td>\n",
       "      <td>NaN</td>\n",
       "      <td>147</td>\n",
       "      <td>3</td>\n",
       "    </tr>\n",
       "    <tr>\n",
       "      <th>top</th>\n",
       "      <td>NaN</td>\n",
       "      <td>NaN</td>\n",
       "      <td>NaN</td>\n",
       "      <td>Gee, Mr. Arthur H</td>\n",
       "      <td>male</td>\n",
       "      <td>NaN</td>\n",
       "      <td>NaN</td>\n",
       "      <td>NaN</td>\n",
       "      <td>1601</td>\n",
       "      <td>NaN</td>\n",
       "      <td>B96 B98</td>\n",
       "      <td>S</td>\n",
       "    </tr>\n",
       "    <tr>\n",
       "      <th>freq</th>\n",
       "      <td>NaN</td>\n",
       "      <td>NaN</td>\n",
       "      <td>NaN</td>\n",
       "      <td>1</td>\n",
       "      <td>577</td>\n",
       "      <td>NaN</td>\n",
       "      <td>NaN</td>\n",
       "      <td>NaN</td>\n",
       "      <td>7</td>\n",
       "      <td>NaN</td>\n",
       "      <td>4</td>\n",
       "      <td>644</td>\n",
       "    </tr>\n",
       "    <tr>\n",
       "      <th>mean</th>\n",
       "      <td>446.000000</td>\n",
       "      <td>0.383838</td>\n",
       "      <td>2.308642</td>\n",
       "      <td>NaN</td>\n",
       "      <td>NaN</td>\n",
       "      <td>29.699118</td>\n",
       "      <td>0.523008</td>\n",
       "      <td>0.381594</td>\n",
       "      <td>NaN</td>\n",
       "      <td>32.204208</td>\n",
       "      <td>NaN</td>\n",
       "      <td>NaN</td>\n",
       "    </tr>\n",
       "    <tr>\n",
       "      <th>std</th>\n",
       "      <td>257.353842</td>\n",
       "      <td>0.486592</td>\n",
       "      <td>0.836071</td>\n",
       "      <td>NaN</td>\n",
       "      <td>NaN</td>\n",
       "      <td>14.526497</td>\n",
       "      <td>1.102743</td>\n",
       "      <td>0.806057</td>\n",
       "      <td>NaN</td>\n",
       "      <td>49.693429</td>\n",
       "      <td>NaN</td>\n",
       "      <td>NaN</td>\n",
       "    </tr>\n",
       "    <tr>\n",
       "      <th>min</th>\n",
       "      <td>1.000000</td>\n",
       "      <td>0.000000</td>\n",
       "      <td>1.000000</td>\n",
       "      <td>NaN</td>\n",
       "      <td>NaN</td>\n",
       "      <td>0.420000</td>\n",
       "      <td>0.000000</td>\n",
       "      <td>0.000000</td>\n",
       "      <td>NaN</td>\n",
       "      <td>0.000000</td>\n",
       "      <td>NaN</td>\n",
       "      <td>NaN</td>\n",
       "    </tr>\n",
       "    <tr>\n",
       "      <th>25%</th>\n",
       "      <td>223.500000</td>\n",
       "      <td>0.000000</td>\n",
       "      <td>2.000000</td>\n",
       "      <td>NaN</td>\n",
       "      <td>NaN</td>\n",
       "      <td>20.125000</td>\n",
       "      <td>0.000000</td>\n",
       "      <td>0.000000</td>\n",
       "      <td>NaN</td>\n",
       "      <td>7.910400</td>\n",
       "      <td>NaN</td>\n",
       "      <td>NaN</td>\n",
       "    </tr>\n",
       "    <tr>\n",
       "      <th>50%</th>\n",
       "      <td>446.000000</td>\n",
       "      <td>0.000000</td>\n",
       "      <td>3.000000</td>\n",
       "      <td>NaN</td>\n",
       "      <td>NaN</td>\n",
       "      <td>28.000000</td>\n",
       "      <td>0.000000</td>\n",
       "      <td>0.000000</td>\n",
       "      <td>NaN</td>\n",
       "      <td>14.454200</td>\n",
       "      <td>NaN</td>\n",
       "      <td>NaN</td>\n",
       "    </tr>\n",
       "    <tr>\n",
       "      <th>75%</th>\n",
       "      <td>668.500000</td>\n",
       "      <td>1.000000</td>\n",
       "      <td>3.000000</td>\n",
       "      <td>NaN</td>\n",
       "      <td>NaN</td>\n",
       "      <td>38.000000</td>\n",
       "      <td>1.000000</td>\n",
       "      <td>0.000000</td>\n",
       "      <td>NaN</td>\n",
       "      <td>31.000000</td>\n",
       "      <td>NaN</td>\n",
       "      <td>NaN</td>\n",
       "    </tr>\n",
       "    <tr>\n",
       "      <th>max</th>\n",
       "      <td>891.000000</td>\n",
       "      <td>1.000000</td>\n",
       "      <td>3.000000</td>\n",
       "      <td>NaN</td>\n",
       "      <td>NaN</td>\n",
       "      <td>80.000000</td>\n",
       "      <td>8.000000</td>\n",
       "      <td>6.000000</td>\n",
       "      <td>NaN</td>\n",
       "      <td>512.329200</td>\n",
       "      <td>NaN</td>\n",
       "      <td>NaN</td>\n",
       "    </tr>\n",
       "  </tbody>\n",
       "</table>\n",
       "</div>"
      ],
      "text/plain": [
       "        PassengerId    Survived      Pclass               Name   Sex  \\\n",
       "count    891.000000  891.000000  891.000000                891   891   \n",
       "unique          NaN         NaN         NaN                891     2   \n",
       "top             NaN         NaN         NaN  Gee, Mr. Arthur H  male   \n",
       "freq            NaN         NaN         NaN                  1   577   \n",
       "mean     446.000000    0.383838    2.308642                NaN   NaN   \n",
       "std      257.353842    0.486592    0.836071                NaN   NaN   \n",
       "min        1.000000    0.000000    1.000000                NaN   NaN   \n",
       "25%      223.500000    0.000000    2.000000                NaN   NaN   \n",
       "50%      446.000000    0.000000    3.000000                NaN   NaN   \n",
       "75%      668.500000    1.000000    3.000000                NaN   NaN   \n",
       "max      891.000000    1.000000    3.000000                NaN   NaN   \n",
       "\n",
       "               Age       SibSp       Parch Ticket        Fare    Cabin  \\\n",
       "count   714.000000  891.000000  891.000000    891  891.000000      204   \n",
       "unique         NaN         NaN         NaN    681         NaN      147   \n",
       "top            NaN         NaN         NaN   1601         NaN  B96 B98   \n",
       "freq           NaN         NaN         NaN      7         NaN        4   \n",
       "mean     29.699118    0.523008    0.381594    NaN   32.204208      NaN   \n",
       "std      14.526497    1.102743    0.806057    NaN   49.693429      NaN   \n",
       "min       0.420000    0.000000    0.000000    NaN    0.000000      NaN   \n",
       "25%      20.125000    0.000000    0.000000    NaN    7.910400      NaN   \n",
       "50%      28.000000    0.000000    0.000000    NaN   14.454200      NaN   \n",
       "75%      38.000000    1.000000    0.000000    NaN   31.000000      NaN   \n",
       "max      80.000000    8.000000    6.000000    NaN  512.329200      NaN   \n",
       "\n",
       "       Embarked  \n",
       "count       889  \n",
       "unique        3  \n",
       "top           S  \n",
       "freq        644  \n",
       "mean        NaN  \n",
       "std         NaN  \n",
       "min         NaN  \n",
       "25%         NaN  \n",
       "50%         NaN  \n",
       "75%         NaN  \n",
       "max         NaN  "
      ]
     },
     "execution_count": 7,
     "metadata": {},
     "output_type": "execute_result"
    }
   ],
   "source": [
    "training_data.describe(include=\"all\")"
   ]
  },
  {
   "cell_type": "markdown",
   "metadata": {
    "papermill": {
     "duration": 0.061127,
     "end_time": "2021-01-17T15:35:15.640013",
     "exception": false,
     "start_time": "2021-01-17T15:35:15.578886",
     "status": "completed"
    },
    "tags": []
   },
   "source": [
    "We are aware that mostly women survived, let's see more precisely.\n"
   ]
  },
  {
   "cell_type": "code",
   "execution_count": 8,
   "metadata": {
    "execution": {
     "iopub.execute_input": "2021-01-17T15:35:15.771367Z",
     "iopub.status.busy": "2021-01-17T15:35:15.770340Z",
     "iopub.status.idle": "2021-01-17T15:35:15.777066Z",
     "shell.execute_reply": "2021-01-17T15:35:15.776513Z"
    },
    "papermill": {
     "duration": 0.075737,
     "end_time": "2021-01-17T15:35:15.777187",
     "exception": false,
     "start_time": "2021-01-17T15:35:15.701450",
     "status": "completed"
    },
    "tags": []
   },
   "outputs": [
    {
     "name": "stdout",
     "output_type": "stream",
     "text": [
      "% of women who survived: 0.7420382165605095\n",
      "% of men who survived: 0.18890814558058924\n"
     ]
    }
   ],
   "source": [
    "women = training_data.loc[training_data.Sex == 'female'][\"Survived\"]\n",
    "rate_women = sum(women)/len(women)\n",
    "print(\"% of women who survived:\", rate_women)\n",
    "\n",
    "men = training_data.loc[training_data.Sex == 'male'][\"Survived\"]\n",
    "rate_men = sum(men)/len(men)\n",
    "print(\"% of men who survived:\", rate_men)"
   ]
  },
  {
   "cell_type": "markdown",
   "metadata": {
    "papermill": {
     "duration": 0.061852,
     "end_time": "2021-01-17T15:35:15.900705",
     "exception": false,
     "start_time": "2021-01-17T15:35:15.838853",
     "status": "completed"
    },
    "tags": []
   },
   "source": [
    "I will now explore all the variables individually."
   ]
  },
  {
   "cell_type": "markdown",
   "metadata": {
    "papermill": {
     "duration": 0.060932,
     "end_time": "2021-01-17T15:35:16.022888",
     "exception": false,
     "start_time": "2021-01-17T15:35:15.961956",
     "status": "completed"
    },
    "tags": []
   },
   "source": [
    "## 2.1 Numerical Variables\n",
    "To understand and get familiar with the data, I will start by exploring the numerical data with the aim to see how \n",
    "the different variables relate to the survival rate"
   ]
  },
  {
   "cell_type": "code",
   "execution_count": 9,
   "metadata": {
    "execution": {
     "iopub.execute_input": "2021-01-17T15:35:16.151868Z",
     "iopub.status.busy": "2021-01-17T15:35:16.151174Z",
     "iopub.status.idle": "2021-01-17T15:35:16.403216Z",
     "shell.execute_reply": "2021-01-17T15:35:16.402546Z"
    },
    "papermill": {
     "duration": 0.319432,
     "end_time": "2021-01-17T15:35:16.403328",
     "exception": false,
     "start_time": "2021-01-17T15:35:16.083896",
     "status": "completed"
    },
    "tags": []
   },
   "outputs": [
    {
     "name": "stdout",
     "output_type": "stream",
     "text": [
      "          Survived       Age     SibSp     Parch      Fare\n",
      "Survived  1.000000 -0.077221 -0.035322  0.081629  0.257307\n",
      "Age      -0.077221  1.000000 -0.308247 -0.189119  0.096067\n",
      "SibSp    -0.035322 -0.308247  1.000000  0.414838  0.159651\n",
      "Parch     0.081629 -0.189119  0.414838  1.000000  0.216225\n",
      "Fare      0.257307  0.096067  0.159651  0.216225  1.000000\n"
     ]
    },
    {
     "data": {
      "text/plain": [
       "<matplotlib.axes._subplots.AxesSubplot at 0x7f5938ff6650>"
      ]
     },
     "execution_count": 9,
     "metadata": {},
     "output_type": "execute_result"
    },
    {
     "data": {
      "image/png": "[encoded data removed]",
      "text/plain": [
       "<Figure size 432x288 with 2 Axes>"
      ]
     },
     "metadata": {
      "needs_background": "light"
     },
     "output_type": "display_data"
    }
   ],
   "source": [
    "#let's look at the correlations first\n",
    "df_num=training_data[['Survived','Age','SibSp','Parch','Fare']]\n",
    "print(df_num.corr())\n",
    "sns.heatmap(df_num.corr(),annot=True, fmt = \".2f\",cmap = \"coolwarm\")"
   ]
  },
  {
   "cell_type": "markdown",
   "metadata": {
    "papermill": {
     "duration": 0.06283,
     "end_time": "2021-01-17T15:35:16.529730",
     "exception": false,
     "start_time": "2021-01-17T15:35:16.466900",
     "status": "completed"
    },
    "tags": []
   },
   "source": [
    "### 2.1.1 Age"
   ]
  },
  {
   "cell_type": "code",
   "execution_count": 10,
   "metadata": {
    "execution": {
     "iopub.execute_input": "2021-01-17T15:35:16.670206Z",
     "iopub.status.busy": "2021-01-17T15:35:16.664899Z",
     "iopub.status.idle": "2021-01-17T15:35:17.600900Z",
     "shell.execute_reply": "2021-01-17T15:35:17.600079Z"
    },
    "papermill": {
     "duration": 1.007824,
     "end_time": "2021-01-17T15:35:17.601017",
     "exception": false,
     "start_time": "2021-01-17T15:35:16.593193",
     "status": "completed"
    },
    "tags": []
   },
   "outputs": [
    {
     "data": {
      "image/png": "[encoded data removed]",
      "text/plain": [
       "<Figure size 864x864 with 4 Axes>"
      ]
     },
     "metadata": {
      "needs_background": "light"
     },
     "output_type": "display_data"
    }
   ],
   "source": [
    "fig, axs = plt.subplots(2, 2, figsize = (12,12)) \n",
    "\n",
    "ax1 = plt.subplot2grid((8,8), (0,0), rowspan=3, colspan=3) \n",
    "ax2 = plt.subplot2grid((8,8), (4,0), rowspan=3, colspan=3)\n",
    "ax3 = plt.subplot2grid((8,8), (0, 4), rowspan=3, colspan=3)\n",
    "ax4 = plt.subplot2grid((8,8), (4, 4), rowspan=3, colspan=3)\n",
    "\n",
    "fig.tight_layout()\n",
    "\n",
    "ax1.set_title(\"Age distribution\", fontsize =18)\n",
    "ax2.set_title(\"Age Vs Survived\", fontsize =18)\n",
    "ax3.set_title(\"Age Vs Not Survived\", fontsize =18)\n",
    "ax4.set_title(\"Age: Survived VS Not Surivived\", fontsize =18)\n",
    "\n",
    "# Plot 1\n",
    "sns.distplot(training_data['Age'], ax=ax1)\n",
    "\n",
    "#Plot 2\n",
    "sns.distplot(training_data[\"Age\"][(training_data[\"Survived\"] == 1) & (training_data[\"Age\"].notnull())], ax=ax2)\n",
    "\n",
    "#Plot 3\n",
    "sns.distplot(training_data[\"Age\"][(training_data[\"Survived\"] == 0) & (training_data[\"Age\"].notnull())], ax=ax3)\n",
    "\n",
    "#Plot 4\n",
    "g2=sns.kdeplot(training_data[\"Age\"][(training_data[\"Survived\"] == 0) & (training_data[\"Age\"].notnull())], color='Green',shade = True, ax=ax4)\n",
    "g2=sns.kdeplot(training_data[\"Age\"][(training_data[\"Survived\"] == 1) & (training_data[\"Age\"].notnull())], color='Blue',shade = True, ax=ax4)\n",
    "g2.set_xlabel(\"Age\")\n",
    "g2.set_ylabel(\"Frequency\")\n",
    "g2 = g2.legend([\"Not Survived\",\"Survived\"])\n"
   ]
  },
  {
   "cell_type": "markdown",
   "metadata": {
    "papermill": {
     "duration": 0.066746,
     "end_time": "2021-01-17T15:35:17.735806",
     "exception": false,
     "start_time": "2021-01-17T15:35:17.669060",
     "status": "completed"
    },
    "tags": []
   },
   "source": [
    "We can see that children have a good survival chance while the group of age 60-75 has quite low chances.\n",
    "### 2.1.2 SibSp (Sibling or Spouse)"
   ]
  },
  {
   "cell_type": "code",
   "execution_count": 11,
   "metadata": {
    "execution": {
     "iopub.execute_input": "2021-01-17T15:35:17.880025Z",
     "iopub.status.busy": "2021-01-17T15:35:17.878957Z",
     "iopub.status.idle": "2021-01-17T15:35:18.461355Z",
     "shell.execute_reply": "2021-01-17T15:35:18.460814Z"
    },
    "papermill": {
     "duration": 0.658883,
     "end_time": "2021-01-17T15:35:18.461473",
     "exception": false,
     "start_time": "2021-01-17T15:35:17.802590",
     "status": "completed"
    },
    "tags": []
   },
   "outputs": [
    {
     "name": "stderr",
     "output_type": "stream",
     "text": [
      "/opt/conda/lib/python3.7/site-packages/seaborn/categorical.py:3669: UserWarning: The `factorplot` function has been renamed to `catplot`. The original name will be removed in a future release. Please update your code. Note that the default `kind` in `factorplot` (`'point'`) has changed `'strip'` in `catplot`.\n",
      "  warnings.warn(msg)\n"
     ]
    },
    {
     "data": {
      "text/plain": [
       "<seaborn.axisgrid.FacetGrid at 0x7f5938776510>"
      ]
     },
     "execution_count": 11,
     "metadata": {},
     "output_type": "execute_result"
    },
    {
     "data": {
      "image/png": "[encoded data removed]",
      "text/plain": [
       "<Figure size 432x288 with 1 Axes>"
      ]
     },
     "metadata": {
      "needs_background": "light"
     },
     "output_type": "display_data"
    },
    {
     "data": {
      "image/png": "[encoded data removed]",
      "text/plain": [
       "<Figure size 360x360 with 1 Axes>"
      ]
     },
     "metadata": {
      "needs_background": "light"
     },
     "output_type": "display_data"
    }
   ],
   "source": [
    "sns.countplot(training_data[\"SibSp\"])\n",
    "sns.factorplot(x=\"SibSp\",y=\"Survived\",data=training_data,kind=\"bar\")"
   ]
  },
  {
   "cell_type": "code",
   "execution_count": 12,
   "metadata": {
    "execution": {
     "iopub.execute_input": "2021-01-17T15:35:18.612117Z",
     "iopub.status.busy": "2021-01-17T15:35:18.604443Z",
     "iopub.status.idle": "2021-01-17T15:35:18.783958Z",
     "shell.execute_reply": "2021-01-17T15:35:18.784414Z"
    },
    "papermill": {
     "duration": 0.256074,
     "end_time": "2021-01-17T15:35:18.784565",
     "exception": false,
     "start_time": "2021-01-17T15:35:18.528491",
     "status": "completed"
    },
    "tags": []
   },
   "outputs": [
    {
     "data": {
      "image/png": "[encoded data removed]",
      "text/plain": [
       "<Figure size 432x288 with 1 Axes>"
      ]
     },
     "metadata": {
      "needs_background": "light"
     },
     "output_type": "display_data"
    }
   ],
   "source": [
    "g=sns.kdeplot(training_data[\"SibSp\"][(training_data[\"Survived\"] == 0)], color='Green',shade = True)\n",
    "g=sns.kdeplot(training_data[\"SibSp\"][(training_data[\"Survived\"] == 1)], color='Blue',shade = True)\n",
    "\n",
    "g.set_title('SibSp Vs Survival', fontsize=15)\n",
    "g = g.legend([\"Not Survived\",\"Survived\"])"
   ]
  },
  {
   "cell_type": "markdown",
   "metadata": {
    "papermill": {
     "duration": 0.069352,
     "end_time": "2021-01-17T15:35:18.923841",
     "exception": false,
     "start_time": "2021-01-17T15:35:18.854489",
     "status": "completed"
    },
    "tags": []
   },
   "source": [
    "We can see that people that had 0 to 2 siblings/spouses had better survival rates.\n",
    "### 2.1.3 Parch (Parent/children)"
   ]
  },
  {
   "cell_type": "code",
   "execution_count": 13,
   "metadata": {
    "execution": {
     "iopub.execute_input": "2021-01-17T15:35:19.065399Z",
     "iopub.status.busy": "2021-01-17T15:35:19.064755Z",
     "iopub.status.idle": "2021-01-17T15:35:19.606900Z",
     "shell.execute_reply": "2021-01-17T15:35:19.606382Z"
    },
    "papermill": {
     "duration": 0.613912,
     "end_time": "2021-01-17T15:35:19.607016",
     "exception": false,
     "start_time": "2021-01-17T15:35:18.993104",
     "status": "completed"
    },
    "tags": []
   },
   "outputs": [
    {
     "name": "stderr",
     "output_type": "stream",
     "text": [
      "/opt/conda/lib/python3.7/site-packages/seaborn/categorical.py:3669: UserWarning: The `factorplot` function has been renamed to `catplot`. The original name will be removed in a future release. Please update your code. Note that the default `kind` in `factorplot` (`'point'`) has changed `'strip'` in `catplot`.\n",
      "  warnings.warn(msg)\n"
     ]
    },
    {
     "data": {
      "text/plain": [
       "<seaborn.axisgrid.FacetGrid at 0x7f5938540b50>"
      ]
     },
     "execution_count": 13,
     "metadata": {},
     "output_type": "execute_result"
    },
    {
     "data": {
      "image/png": "[encoded data removed]",
      "text/plain": [
       "<Figure size 432x288 with 1 Axes>"
      ]
     },
     "metadata": {
      "needs_background": "light"
     },
     "output_type": "display_data"
    },
    {
     "data": {
      "image/png": "[encoded data removed]",
      "text/plain": [
       "<Figure size 360x360 with 1 Axes>"
      ]
     },
     "metadata": {
      "needs_background": "light"
     },
     "output_type": "display_data"
    }
   ],
   "source": [
    "sns.countplot(training_data[\"Parch\"])\n",
    "sns.factorplot(x=\"Parch\",y=\"Survived\",data=training_data,kind=\"bar\")\n"
   ]
  },
  {
   "cell_type": "code",
   "execution_count": 14,
   "metadata": {
    "execution": {
     "iopub.execute_input": "2021-01-17T15:35:19.761906Z",
     "iopub.status.busy": "2021-01-17T15:35:19.757102Z",
     "iopub.status.idle": "2021-01-17T15:35:19.936825Z",
     "shell.execute_reply": "2021-01-17T15:35:19.937302Z"
    },
    "papermill": {
     "duration": 0.258762,
     "end_time": "2021-01-17T15:35:19.937453",
     "exception": false,
     "start_time": "2021-01-17T15:35:19.678691",
     "status": "completed"
    },
    "tags": []
   },
   "outputs": [
    {
     "data": {
      "image/png": "[encoded data removed]",
      "text/plain": [
       "<Figure size 432x288 with 1 Axes>"
      ]
     },
     "metadata": {
      "needs_background": "light"
     },
     "output_type": "display_data"
    }
   ],
   "source": [
    "g=sns.kdeplot(training_data[\"Parch\"][(training_data[\"Survived\"] == 0)], color='Green',shade = True, bw= 0.1)\n",
    "g=sns.kdeplot(training_data[\"Parch\"][(training_data[\"Survived\"] == 1)], color='Blue',shade = True, bw= 0.1)\n",
    "\n",
    "g.set_title('Parch Vs Survival', fontsize=15)\n",
    "g = g.legend([\"Not Survived\",\"Survived\"])"
   ]
  },
  {
   "cell_type": "markdown",
   "metadata": {
    "papermill": {
     "duration": 0.071495,
     "end_time": "2021-01-17T15:35:20.081257",
     "exception": false,
     "start_time": "2021-01-17T15:35:20.009762",
     "status": "completed"
    },
    "tags": []
   },
   "source": [
    "We can see that small families up to the values of 2-3 (which has a very important std) have quite good chances of survival compared to bigger ones."
   ]
  },
  {
   "cell_type": "code",
   "execution_count": 15,
   "metadata": {
    "execution": {
     "iopub.execute_input": "2021-01-17T15:35:20.231976Z",
     "iopub.status.busy": "2021-01-17T15:35:20.231278Z",
     "iopub.status.idle": "2021-01-17T15:35:20.253547Z",
     "shell.execute_reply": "2021-01-17T15:35:20.252863Z"
    },
    "papermill": {
     "duration": 0.101028,
     "end_time": "2021-01-17T15:35:20.253686",
     "exception": false,
     "start_time": "2021-01-17T15:35:20.152658",
     "status": "completed"
    },
    "tags": []
   },
   "outputs": [
    {
     "data": {
      "text/html": [
       "<div>\n",
       "<style scoped>\n",
       "    .dataframe tbody tr th:only-of-type {\n",
       "        vertical-align: middle;\n",
       "    }\n",
       "\n",
       "    .dataframe tbody tr th {\n",
       "        vertical-align: top;\n",
       "    }\n",
       "\n",
       "    .dataframe thead th {\n",
       "        text-align: right;\n",
       "    }\n",
       "</style>\n",
       "<table border=\"1\" class=\"dataframe\">\n",
       "  <thead>\n",
       "    <tr style=\"text-align: right;\">\n",
       "      <th>Pclass</th>\n",
       "      <th>1</th>\n",
       "      <th>2</th>\n",
       "      <th>3</th>\n",
       "    </tr>\n",
       "    <tr>\n",
       "      <th>Parch</th>\n",
       "      <th></th>\n",
       "      <th></th>\n",
       "      <th></th>\n",
       "    </tr>\n",
       "  </thead>\n",
       "  <tbody>\n",
       "    <tr>\n",
       "      <th>0</th>\n",
       "      <td>163</td>\n",
       "      <td>134</td>\n",
       "      <td>381</td>\n",
       "    </tr>\n",
       "    <tr>\n",
       "      <th>1</th>\n",
       "      <td>31</td>\n",
       "      <td>32</td>\n",
       "      <td>55</td>\n",
       "    </tr>\n",
       "    <tr>\n",
       "      <th>2</th>\n",
       "      <td>21</td>\n",
       "      <td>16</td>\n",
       "      <td>43</td>\n",
       "    </tr>\n",
       "    <tr>\n",
       "      <th>3</th>\n",
       "      <td>0</td>\n",
       "      <td>2</td>\n",
       "      <td>3</td>\n",
       "    </tr>\n",
       "    <tr>\n",
       "      <th>4</th>\n",
       "      <td>1</td>\n",
       "      <td>0</td>\n",
       "      <td>3</td>\n",
       "    </tr>\n",
       "    <tr>\n",
       "      <th>5</th>\n",
       "      <td>0</td>\n",
       "      <td>0</td>\n",
       "      <td>5</td>\n",
       "    </tr>\n",
       "    <tr>\n",
       "      <th>6</th>\n",
       "      <td>0</td>\n",
       "      <td>0</td>\n",
       "      <td>1</td>\n",
       "    </tr>\n",
       "  </tbody>\n",
       "</table>\n",
       "</div>"
      ],
      "text/plain": [
       "Pclass    1    2    3\n",
       "Parch                \n",
       "0       163  134  381\n",
       "1        31   32   55\n",
       "2        21   16   43\n",
       "3         0    2    3\n",
       "4         1    0    3\n",
       "5         0    0    5\n",
       "6         0    0    1"
      ]
     },
     "execution_count": 15,
     "metadata": {},
     "output_type": "execute_result"
    }
   ],
   "source": [
    "pd.crosstab(training_data.Parch,training_data.Pclass)"
   ]
  },
  {
   "cell_type": "markdown",
   "metadata": {
    "papermill": {
     "duration": 0.072197,
     "end_time": "2021-01-17T15:35:20.398283",
     "exception": false,
     "start_time": "2021-01-17T15:35:20.326086",
     "status": "completed"
    },
    "tags": []
   },
   "source": [
    "Not surprisingly, the biggest families are from 3rd class.\n",
    "### 2.1.4 Fare"
   ]
  },
  {
   "cell_type": "code",
   "execution_count": 16,
   "metadata": {
    "execution": {
     "iopub.execute_input": "2021-01-17T15:35:20.558962Z",
     "iopub.status.busy": "2021-01-17T15:35:20.555105Z",
     "iopub.status.idle": "2021-01-17T15:35:20.716886Z",
     "shell.execute_reply": "2021-01-17T15:35:20.717440Z"
    },
    "papermill": {
     "duration": 0.246147,
     "end_time": "2021-01-17T15:35:20.717583",
     "exception": false,
     "start_time": "2021-01-17T15:35:20.471436",
     "status": "completed"
    },
    "tags": []
   },
   "outputs": [
    {
     "data": {
      "text/plain": [
       "(array([732., 106.,  31.,   2.,  11.,   6.,   0.,   0.,   0.,   3.]),\n",
       " array([  0.     ,  51.23292, 102.46584, 153.69876, 204.93168, 256.1646 ,\n",
       "        307.39752, 358.63044, 409.86336, 461.09628, 512.3292 ]),\n",
       " <a list of 10 Patch objects>)"
      ]
     },
     "execution_count": 16,
     "metadata": {},
     "output_type": "execute_result"
    },
    {
     "data": {
      "image/png": "[encoded data removed]",
      "text/plain": [
       "<Figure size 432x288 with 1 Axes>"
      ]
     },
     "metadata": {
      "needs_background": "light"
     },
     "output_type": "display_data"
    }
   ],
   "source": [
    "plt.hist(training_data[\"Fare\"])"
   ]
  },
  {
   "cell_type": "markdown",
   "metadata": {
    "papermill": {
     "duration": 0.075297,
     "end_time": "2021-01-17T15:35:20.866855",
     "exception": false,
     "start_time": "2021-01-17T15:35:20.791558",
     "status": "completed"
    },
    "tags": []
   },
   "source": [
    "The fare graph, given it skewness, seems to suggest that most passengers are from the third class (lower fares)"
   ]
  },
  {
   "cell_type": "code",
   "execution_count": 17,
   "metadata": {
    "execution": {
     "iopub.execute_input": "2021-01-17T15:35:21.030500Z",
     "iopub.status.busy": "2021-01-17T15:35:21.029311Z",
     "iopub.status.idle": "2021-01-17T15:35:21.198190Z",
     "shell.execute_reply": "2021-01-17T15:35:21.197681Z"
    },
    "papermill": {
     "duration": 0.256866,
     "end_time": "2021-01-17T15:35:21.198301",
     "exception": false,
     "start_time": "2021-01-17T15:35:20.941435",
     "status": "completed"
    },
    "tags": []
   },
   "outputs": [
    {
     "data": {
      "image/png": "[encoded data removed]",
      "text/plain": [
       "<Figure size 432x288 with 1 Axes>"
      ]
     },
     "metadata": {
      "needs_background": "light"
     },
     "output_type": "display_data"
    }
   ],
   "source": [
    "g=sns.kdeplot(training_data[\"Fare\"][(training_data[\"Survived\"] == 0)], color='Green',shade = True)\n",
    "g=sns.kdeplot(training_data[\"Fare\"][(training_data[\"Survived\"] == 1)], color='Blue',shade = True)\n",
    "\n",
    "g.set_title('Fare Vs Survival', fontsize=15)\n",
    "g = g.legend([\"Not Survived\",\"Survived\"])"
   ]
  },
  {
   "cell_type": "markdown",
   "metadata": {
    "papermill": {
     "duration": 0.07461,
     "end_time": "2021-01-17T15:35:21.347927",
     "exception": false,
     "start_time": "2021-01-17T15:35:21.273317",
     "status": "completed"
    },
    "tags": []
   },
   "source": [
    "This seems to be confirmed by the fact that higher fares have better survival rates and also by the graph below"
   ]
  },
  {
   "cell_type": "code",
   "execution_count": 18,
   "metadata": {
    "execution": {
     "iopub.execute_input": "2021-01-17T15:35:21.507868Z",
     "iopub.status.busy": "2021-01-17T15:35:21.507173Z",
     "iopub.status.idle": "2021-01-17T15:35:25.993913Z",
     "shell.execute_reply": "2021-01-17T15:35:25.994818Z"
    },
    "papermill": {
     "duration": 4.57033,
     "end_time": "2021-01-17T15:35:25.995035",
     "exception": false,
     "start_time": "2021-01-17T15:35:21.424705",
     "status": "completed"
    },
    "tags": []
   },
   "outputs": [
    {
     "data": {
      "text/plain": [
       "<matplotlib.axes._subplots.AxesSubplot at 0x7f59381a0790>"
      ]
     },
     "execution_count": 18,
     "metadata": {},
     "output_type": "execute_result"
    },
    {
     "data": {
      "image/png": "[encoded data removed]",
      "text/plain": [
       "<Figure size 432x288 with 1 Axes>"
      ]
     },
     "metadata": {
      "needs_background": "light"
     },
     "output_type": "display_data"
    }
   ],
   "source": [
    "sns.countplot(training_data[\"Fare\"], hue=training_data['Pclass'])"
   ]
  },
  {
   "cell_type": "markdown",
   "metadata": {
    "papermill": {
     "duration": 0.084744,
     "end_time": "2021-01-17T15:35:26.179495",
     "exception": false,
     "start_time": "2021-01-17T15:35:26.094751",
     "status": "completed"
    },
    "tags": []
   },
   "source": [
    "## 2.2 Categorical Variables\n",
    "### 2.2.1 Sex"
   ]
  },
  {
   "cell_type": "code",
   "execution_count": 19,
   "metadata": {
    "execution": {
     "iopub.execute_input": "2021-01-17T15:35:26.338500Z",
     "iopub.status.busy": "2021-01-17T15:35:26.337793Z",
     "iopub.status.idle": "2021-01-17T15:35:26.445551Z",
     "shell.execute_reply": "2021-01-17T15:35:26.446171Z"
    },
    "papermill": {
     "duration": 0.190525,
     "end_time": "2021-01-17T15:35:26.446328",
     "exception": false,
     "start_time": "2021-01-17T15:35:26.255803",
     "status": "completed"
    },
    "tags": []
   },
   "outputs": [
    {
     "data": {
      "text/plain": [
       "<matplotlib.axes._subplots.AxesSubplot at 0x7f59381e3510>"
      ]
     },
     "execution_count": 19,
     "metadata": {},
     "output_type": "execute_result"
    },
    {
     "data": {
      "image/png": "[encoded data removed]",
      "text/plain": [
       "<Figure size 432x288 with 1 Axes>"
      ]
     },
     "metadata": {
      "needs_background": "light"
     },
     "output_type": "display_data"
    }
   ],
   "source": [
    "sns.countplot(training_data['Sex'])"
   ]
  },
  {
   "cell_type": "code",
   "execution_count": 20,
   "metadata": {
    "execution": {
     "iopub.execute_input": "2021-01-17T15:35:26.770091Z",
     "iopub.status.busy": "2021-01-17T15:35:26.769407Z",
     "iopub.status.idle": "2021-01-17T15:35:26.894897Z",
     "shell.execute_reply": "2021-01-17T15:35:26.893733Z"
    },
    "papermill": {
     "duration": 0.361012,
     "end_time": "2021-01-17T15:35:26.895074",
     "exception": false,
     "start_time": "2021-01-17T15:35:26.534062",
     "status": "completed"
    },
    "tags": []
   },
   "outputs": [
    {
     "data": {
      "text/plain": [
       "<matplotlib.axes._subplots.AxesSubplot at 0x7f591930d3d0>"
      ]
     },
     "execution_count": 20,
     "metadata": {},
     "output_type": "execute_result"
    },
    {
     "data": {
      "image/png": "[encoded data removed]",
      "text/plain": [
       "<Figure size 432x288 with 1 Axes>"
      ]
     },
     "metadata": {
      "needs_background": "light"
     },
     "output_type": "display_data"
    }
   ],
   "source": [
    "sns.countplot(training_data['Sex'], hue=training_data['Survived'])"
   ]
  },
  {
   "cell_type": "markdown",
   "metadata": {
    "papermill": {
     "duration": 0.135763,
     "end_time": "2021-01-17T15:35:27.148446",
     "exception": false,
     "start_time": "2021-01-17T15:35:27.012683",
     "status": "completed"
    },
    "tags": []
   },
   "source": [
    "As we already knew, around 19% of men and 75% of women survived, even though the vast majority of the passengers were men.\n",
    "### 2.2.2 Pclass (Passenger class)"
   ]
  },
  {
   "cell_type": "markdown",
   "metadata": {
    "papermill": {
     "duration": 0.080426,
     "end_time": "2021-01-17T15:35:27.307301",
     "exception": false,
     "start_time": "2021-01-17T15:35:27.226875",
     "status": "completed"
    },
    "tags": []
   },
   "source": [
    "This is a very interesting variable as my assumption is that class, being a proxy for wealth, plays a big role in terms of survival opportunities; we already had a couple of hints, while exploring the \"Fare\" and \" Parch\" variables."
   ]
  },
  {
   "cell_type": "code",
   "execution_count": 21,
   "metadata": {
    "execution": {
     "iopub.execute_input": "2021-01-17T15:35:27.474443Z",
     "iopub.status.busy": "2021-01-17T15:35:27.473255Z",
     "iopub.status.idle": "2021-01-17T15:35:27.587973Z",
     "shell.execute_reply": "2021-01-17T15:35:27.588479Z"
    },
    "papermill": {
     "duration": 0.201352,
     "end_time": "2021-01-17T15:35:27.588648",
     "exception": false,
     "start_time": "2021-01-17T15:35:27.387296",
     "status": "completed"
    },
    "tags": []
   },
   "outputs": [
    {
     "data": {
      "text/plain": [
       "<matplotlib.axes._subplots.AxesSubplot at 0x7f5938392250>"
      ]
     },
     "execution_count": 21,
     "metadata": {},
     "output_type": "execute_result"
    },
    {
     "data": {
      "image/png": "[encoded data removed]",
      "text/plain": [
       "<Figure size 432x288 with 1 Axes>"
      ]
     },
     "metadata": {
      "needs_background": "light"
     },
     "output_type": "display_data"
    }
   ],
   "source": [
    "sns.countplot(training_data['Pclass'])"
   ]
  },
  {
   "cell_type": "code",
   "execution_count": 22,
   "metadata": {
    "execution": {
     "iopub.execute_input": "2021-01-17T15:35:27.751949Z",
     "iopub.status.busy": "2021-01-17T15:35:27.751156Z",
     "iopub.status.idle": "2021-01-17T15:35:27.903293Z",
     "shell.execute_reply": "2021-01-17T15:35:27.903882Z"
    },
    "papermill": {
     "duration": 0.236173,
     "end_time": "2021-01-17T15:35:27.904056",
     "exception": false,
     "start_time": "2021-01-17T15:35:27.667883",
     "status": "completed"
    },
    "tags": []
   },
   "outputs": [
    {
     "data": {
      "text/plain": [
       "<matplotlib.axes._subplots.AxesSubplot at 0x7f593820d2d0>"
      ]
     },
     "execution_count": 22,
     "metadata": {},
     "output_type": "execute_result"
    },
    {
     "data": {
      "image/png": "[encoded data removed]",
      "text/plain": [
       "<Figure size 432x288 with 1 Axes>"
      ]
     },
     "metadata": {
      "needs_background": "light"
     },
     "output_type": "display_data"
    }
   ],
   "source": [
    "sns.countplot(x=\"Pclass\", hue=\"Sex\", data=training_data)"
   ]
  },
  {
   "cell_type": "code",
   "execution_count": 23,
   "metadata": {
    "execution": {
     "iopub.execute_input": "2021-01-17T15:35:28.087250Z",
     "iopub.status.busy": "2021-01-17T15:35:28.081140Z",
     "iopub.status.idle": "2021-01-17T15:35:28.548578Z",
     "shell.execute_reply": "2021-01-17T15:35:28.549072Z"
    },
    "papermill": {
     "duration": 0.559303,
     "end_time": "2021-01-17T15:35:28.549221",
     "exception": false,
     "start_time": "2021-01-17T15:35:27.989918",
     "status": "completed"
    },
    "tags": []
   },
   "outputs": [
    {
     "name": "stderr",
     "output_type": "stream",
     "text": [
      "/opt/conda/lib/python3.7/site-packages/seaborn/categorical.py:3669: UserWarning: The `factorplot` function has been renamed to `catplot`. The original name will be removed in a future release. Please update your code. Note that the default `kind` in `factorplot` (`'point'`) has changed `'strip'` in `catplot`.\n",
      "  warnings.warn(msg)\n",
      "/opt/conda/lib/python3.7/site-packages/seaborn/categorical.py:3675: UserWarning: The `size` parameter has been renamed to `height`; please update your code.\n",
      "  warnings.warn(msg, UserWarning)\n"
     ]
    },
    {
     "data": {
      "image/png": "[encoded data removed]",
      "text/plain": [
       "<Figure size 502.5x432 with 1 Axes>"
      ]
     },
     "metadata": {
      "needs_background": "light"
     },
     "output_type": "display_data"
    }
   ],
   "source": [
    "g = sns.factorplot(x=\"Pclass\", y=\"Survived\", hue=\"Sex\", data=training_data,\n",
    "                   size=6, kind=\"bar\")\n",
    "g = g.set_ylabels(\"survival probability\")"
   ]
  },
  {
   "cell_type": "markdown",
   "metadata": {
    "papermill": {
     "duration": 0.083368,
     "end_time": "2021-01-17T15:35:28.718921",
     "exception": false,
     "start_time": "2021-01-17T15:35:28.635553",
     "status": "completed"
    },
    "tags": []
   },
   "source": [
    "The assumption seems indeed confirmed, especially for women. Women from the first two classes have basically 100% chance of survival. It is interesting to note that even if men from the first class have lower chances compared to women from the third class, they still are around three more likely to save themselves compared to men from the 3rd class. "
   ]
  },
  {
   "cell_type": "markdown",
   "metadata": {
    "papermill": {
     "duration": 0.085293,
     "end_time": "2021-01-17T15:35:28.890192",
     "exception": false,
     "start_time": "2021-01-17T15:35:28.804899",
     "status": "completed"
    },
    "tags": []
   },
   "source": [
    "### 2.2.3 Embarked (C = Cherbourg, Q = Queenstown, S = Southampton)\n",
    "Since we have only two missing values, it makes sense to replace them with the mode"
   ]
  },
  {
   "cell_type": "code",
   "execution_count": 24,
   "metadata": {
    "execution": {
     "iopub.execute_input": "2021-01-17T15:35:29.069720Z",
     "iopub.status.busy": "2021-01-17T15:35:29.068903Z",
     "iopub.status.idle": "2021-01-17T15:35:29.071673Z",
     "shell.execute_reply": "2021-01-17T15:35:29.072207Z"
    },
    "papermill": {
     "duration": 0.09656,
     "end_time": "2021-01-17T15:35:29.072370",
     "exception": false,
     "start_time": "2021-01-17T15:35:28.975810",
     "status": "completed"
    },
    "tags": []
   },
   "outputs": [],
   "source": [
    "#Replacing Embarked nan values with the most frequent value\n",
    "training_data[\"Embarked\"] = training_data[\"Embarked\"].fillna(\"S\")"
   ]
  },
  {
   "cell_type": "code",
   "execution_count": 25,
   "metadata": {
    "execution": {
     "iopub.execute_input": "2021-01-17T15:35:29.249522Z",
     "iopub.status.busy": "2021-01-17T15:35:29.248854Z",
     "iopub.status.idle": "2021-01-17T15:35:29.372084Z",
     "shell.execute_reply": "2021-01-17T15:35:29.371472Z"
    },
    "papermill": {
     "duration": 0.215595,
     "end_time": "2021-01-17T15:35:29.372223",
     "exception": false,
     "start_time": "2021-01-17T15:35:29.156628",
     "status": "completed"
    },
    "tags": []
   },
   "outputs": [
    {
     "data": {
      "text/plain": [
       "<matplotlib.axes._subplots.AxesSubplot at 0x7f5919104bd0>"
      ]
     },
     "execution_count": 25,
     "metadata": {},
     "output_type": "execute_result"
    },
    {
     "data": {
      "image/png": "[encoded data removed]",
      "text/plain": [
       "<Figure size 432x288 with 1 Axes>"
      ]
     },
     "metadata": {
      "needs_background": "light"
     },
     "output_type": "display_data"
    }
   ],
   "source": [
    "sns.countplot(training_data['Embarked'])"
   ]
  },
  {
   "cell_type": "code",
   "execution_count": 26,
   "metadata": {
    "execution": {
     "iopub.execute_input": "2021-01-17T15:35:29.553428Z",
     "iopub.status.busy": "2021-01-17T15:35:29.551206Z",
     "iopub.status.idle": "2021-01-17T15:35:29.988515Z",
     "shell.execute_reply": "2021-01-17T15:35:29.987792Z"
    },
    "papermill": {
     "duration": 0.530354,
     "end_time": "2021-01-17T15:35:29.988653",
     "exception": false,
     "start_time": "2021-01-17T15:35:29.458299",
     "status": "completed"
    },
    "tags": []
   },
   "outputs": [
    {
     "name": "stderr",
     "output_type": "stream",
     "text": [
      "/opt/conda/lib/python3.7/site-packages/seaborn/categorical.py:3669: UserWarning: The `factorplot` function has been renamed to `catplot`. The original name will be removed in a future release. Please update your code. Note that the default `kind` in `factorplot` (`'point'`) has changed `'strip'` in `catplot`.\n",
      "  warnings.warn(msg)\n"
     ]
    },
    {
     "data": {
      "image/png": "[encoded data removed]",
      "text/plain": [
       "<Figure size 432x288 with 1 Axes>"
      ]
     },
     "metadata": {
      "needs_background": "light"
     },
     "output_type": "display_data"
    },
    {
     "data": {
      "image/png": "[encoded data removed]",
      "text/plain": [
       "<Figure size 360x360 with 1 Axes>"
      ]
     },
     "metadata": {
      "needs_background": "light"
     },
     "output_type": "display_data"
    }
   ],
   "source": [
    "sns.countplot(training_data['Embarked'], hue=training_data['Survived'])\n",
    "g = sns.factorplot(x=\"Embarked\", y=\"Survived\",  data=training_data, kind='bar')"
   ]
  },
  {
   "cell_type": "code",
   "execution_count": 27,
   "metadata": {
    "execution": {
     "iopub.execute_input": "2021-01-17T15:35:30.177450Z",
     "iopub.status.busy": "2021-01-17T15:35:30.168710Z",
     "iopub.status.idle": "2021-01-17T15:35:30.340155Z",
     "shell.execute_reply": "2021-01-17T15:35:30.339462Z"
    },
    "papermill": {
     "duration": 0.265096,
     "end_time": "2021-01-17T15:35:30.340281",
     "exception": false,
     "start_time": "2021-01-17T15:35:30.075185",
     "status": "completed"
    },
    "tags": []
   },
   "outputs": [
    {
     "data": {
      "text/plain": [
       "<matplotlib.axes._subplots.AxesSubplot at 0x7f59190a4b10>"
      ]
     },
     "execution_count": 27,
     "metadata": {},
     "output_type": "execute_result"
    },
    {
     "data": {
      "image/png": "[encoded data removed]",
      "text/plain": [
       "<Figure size 432x288 with 1 Axes>"
      ]
     },
     "metadata": {
      "needs_background": "light"
     },
     "output_type": "display_data"
    }
   ],
   "source": [
    "sns.countplot(training_data['Embarked'], hue=training_data['Pclass'])"
   ]
  },
  {
   "cell_type": "markdown",
   "metadata": {
    "papermill": {
     "duration": 0.090215,
     "end_time": "2021-01-17T15:35:30.516265",
     "exception": false,
     "start_time": "2021-01-17T15:35:30.426050",
     "status": "completed"
    },
    "tags": []
   },
   "source": [
    "We can see that people that embarked at Cherbourg have the highest survival chances. It is interesting to note that people embarking at Queenstown, have quite good chances, even though they are mostly 3rd class passengers."
   ]
  },
  {
   "cell_type": "markdown",
   "metadata": {
    "papermill": {
     "duration": 0.09871,
     "end_time": "2021-01-17T15:35:30.702586",
     "exception": false,
     "start_time": "2021-01-17T15:35:30.603876",
     "status": "completed"
    },
    "tags": []
   },
   "source": [
    "### 2.2.4 Cabin"
   ]
  },
  {
   "cell_type": "code",
   "execution_count": 28,
   "metadata": {
    "execution": {
     "iopub.execute_input": "2021-01-17T15:35:30.891314Z",
     "iopub.status.busy": "2021-01-17T15:35:30.890226Z",
     "iopub.status.idle": "2021-01-17T15:35:30.895036Z",
     "shell.execute_reply": "2021-01-17T15:35:30.894420Z"
    },
    "papermill": {
     "duration": 0.099823,
     "end_time": "2021-01-17T15:35:30.895158",
     "exception": false,
     "start_time": "2021-01-17T15:35:30.795335",
     "status": "completed"
    },
    "tags": []
   },
   "outputs": [
    {
     "data": {
      "text/plain": [
       "687"
      ]
     },
     "execution_count": 28,
     "metadata": {},
     "output_type": "execute_result"
    }
   ],
   "source": [
    "training_data['Cabin'].isnull().sum()"
   ]
  },
  {
   "cell_type": "markdown",
   "metadata": {
    "papermill": {
     "duration": 0.103874,
     "end_time": "2021-01-17T15:35:31.088239",
     "exception": false,
     "start_time": "2021-01-17T15:35:30.984365",
     "status": "completed"
    },
    "tags": []
   },
   "source": [
    "we have a lot of missing values; let us understand the variable some more"
   ]
  },
  {
   "cell_type": "code",
   "execution_count": 29,
   "metadata": {
    "execution": {
     "iopub.execute_input": "2021-01-17T15:35:31.274291Z",
     "iopub.status.busy": "2021-01-17T15:35:31.273245Z",
     "iopub.status.idle": "2021-01-17T15:35:31.277708Z",
     "shell.execute_reply": "2021-01-17T15:35:31.277075Z"
    },
    "papermill": {
     "duration": 0.101454,
     "end_time": "2021-01-17T15:35:31.277819",
     "exception": false,
     "start_time": "2021-01-17T15:35:31.176365",
     "status": "completed"
    },
    "tags": []
   },
   "outputs": [
    {
     "data": {
      "text/plain": [
       "1              C85\n",
       "3             C123\n",
       "6              E46\n",
       "10              G6\n",
       "11            C103\n",
       "          ...     \n",
       "871            D35\n",
       "872    B51 B53 B55\n",
       "879            C50\n",
       "887            B42\n",
       "889           C148\n",
       "Name: Cabin, Length: 204, dtype: object"
      ]
     },
     "execution_count": 29,
     "metadata": {},
     "output_type": "execute_result"
    }
   ],
   "source": [
    "training_data[\"Cabin\"][training_data[\"Cabin\"].notnull()]"
   ]
  },
  {
   "cell_type": "code",
   "execution_count": 30,
   "metadata": {
    "execution": {
     "iopub.execute_input": "2021-01-17T15:35:31.457966Z",
     "iopub.status.busy": "2021-01-17T15:35:31.456939Z",
     "iopub.status.idle": "2021-01-17T15:35:31.464173Z",
     "shell.execute_reply": "2021-01-17T15:35:31.464895Z"
    },
    "papermill": {
     "duration": 0.099706,
     "end_time": "2021-01-17T15:35:31.465090",
     "exception": false,
     "start_time": "2021-01-17T15:35:31.365384",
     "status": "completed"
    },
    "tags": []
   },
   "outputs": [
    {
     "data": {
      "text/plain": [
       "array([nan, 'C85', 'C123', 'E46', 'G6', 'C103', 'D56', 'A6',\n",
       "       'C23 C25 C27', 'B78', 'D33', 'B30', 'C52', 'B28', 'C83', 'F33',\n",
       "       'F G73', 'E31', 'A5', 'D10 D12', 'D26', 'C110', 'B58 B60', 'E101',\n",
       "       'F E69', 'D47', 'B86', 'F2', 'C2', 'E33', 'B19', 'A7', 'C49', 'F4',\n",
       "       'A32', 'B4', 'B80', 'A31', 'D36', 'D15', 'C93', 'C78', 'D35',\n",
       "       'C87', 'B77', 'E67', 'B94', 'C125', 'C99', 'C118', 'D7', 'A19',\n",
       "       'B49', 'D', 'C22 C26', 'C106', 'C65', 'E36', 'C54',\n",
       "       'B57 B59 B63 B66', 'C7', 'E34', 'C32', 'B18', 'C124', 'C91', 'E40',\n",
       "       'T', 'C128', 'D37', 'B35', 'E50', 'C82', 'B96 B98', 'E10', 'E44',\n",
       "       'A34', 'C104', 'C111', 'C92', 'E38', 'D21', 'E12', 'E63', 'A14',\n",
       "       'B37', 'C30', 'D20', 'B79', 'E25', 'D46', 'B73', 'C95', 'B38',\n",
       "       'B39', 'B22', 'C86', 'C70', 'A16', 'C101', 'C68', 'A10', 'E68',\n",
       "       'B41', 'A20', 'D19', 'D50', 'D9', 'A23', 'B50', 'A26', 'D48',\n",
       "       'E58', 'C126', 'B71', 'B51 B53 B55', 'D49', 'B5', 'B20', 'F G63',\n",
       "       'C62 C64', 'E24', 'C90', 'C45', 'E8', 'B101', 'D45', 'C46', 'D30',\n",
       "       'E121', 'D11', 'E77', 'F38', 'B3', 'D6', 'B82 B84', 'D17', 'A36',\n",
       "       'B102', 'B69', 'E49', 'C47', 'D28', 'E17', 'A24', 'C50', 'B42',\n",
       "       'C148'], dtype=object)"
      ]
     },
     "execution_count": 30,
     "metadata": {},
     "output_type": "execute_result"
    }
   ],
   "source": [
    "training_data['Cabin'].unique()"
   ]
  },
  {
   "cell_type": "markdown",
   "metadata": {
    "papermill": {
     "duration": 0.089314,
     "end_time": "2021-01-17T15:35:31.648345",
     "exception": false,
     "start_time": "2021-01-17T15:35:31.559031",
     "status": "completed"
    },
    "tags": []
   },
   "source": [
    "This variable is quite messy and difficult to read. \n",
    "It could be useful to group togheter the null values (X) and sort the other ones with their first letter."
   ]
  },
  {
   "cell_type": "code",
   "execution_count": 31,
   "metadata": {
    "execution": {
     "iopub.execute_input": "2021-01-17T15:35:31.836365Z",
     "iopub.status.busy": "2021-01-17T15:35:31.835375Z",
     "iopub.status.idle": "2021-01-17T15:35:31.842438Z",
     "shell.execute_reply": "2021-01-17T15:35:31.843048Z"
    },
    "papermill": {
     "duration": 0.105033,
     "end_time": "2021-01-17T15:35:31.843193",
     "exception": false,
     "start_time": "2021-01-17T15:35:31.738160",
     "status": "completed"
    },
    "tags": []
   },
   "outputs": [],
   "source": [
    "training_data[\"Cabin\"] = pd.Series([i[0] if not pd.isnull(i) else 'X' for i in training_data['Cabin'] ])"
   ]
  },
  {
   "cell_type": "code",
   "execution_count": 32,
   "metadata": {
    "execution": {
     "iopub.execute_input": "2021-01-17T15:35:32.030074Z",
     "iopub.status.busy": "2021-01-17T15:35:32.029127Z",
     "iopub.status.idle": "2021-01-17T15:35:32.032811Z",
     "shell.execute_reply": "2021-01-17T15:35:32.033379Z"
    },
    "papermill": {
     "duration": 0.101086,
     "end_time": "2021-01-17T15:35:32.033523",
     "exception": false,
     "start_time": "2021-01-17T15:35:31.932437",
     "status": "completed"
    },
    "tags": []
   },
   "outputs": [
    {
     "data": {
      "text/plain": [
       "X    687\n",
       "C     59\n",
       "B     47\n",
       "D     33\n",
       "E     32\n",
       "A     15\n",
       "F     13\n",
       "G      4\n",
       "T      1\n",
       "Name: Cabin, dtype: int64"
      ]
     },
     "execution_count": 32,
     "metadata": {},
     "output_type": "execute_result"
    }
   ],
   "source": [
    "training_data[\"Cabin\"].value_counts()"
   ]
  },
  {
   "cell_type": "code",
   "execution_count": 33,
   "metadata": {
    "execution": {
     "iopub.execute_input": "2021-01-17T15:35:32.218387Z",
     "iopub.status.busy": "2021-01-17T15:35:32.217364Z",
     "iopub.status.idle": "2021-01-17T15:35:32.377158Z",
     "shell.execute_reply": "2021-01-17T15:35:32.377653Z"
    },
    "papermill": {
     "duration": 0.252422,
     "end_time": "2021-01-17T15:35:32.377805",
     "exception": false,
     "start_time": "2021-01-17T15:35:32.125383",
     "status": "completed"
    },
    "tags": []
   },
   "outputs": [
    {
     "data": {
      "text/plain": [
       "<matplotlib.axes._subplots.AxesSubplot at 0x7f5918f6b990>"
      ]
     },
     "execution_count": 33,
     "metadata": {},
     "output_type": "execute_result"
    },
    {
     "data": {
      "image/png": "[encoded data removed]",
      "text/plain": [
       "<Figure size 432x288 with 1 Axes>"
      ]
     },
     "metadata": {
      "needs_background": "light"
     },
     "output_type": "display_data"
    }
   ],
   "source": [
    "sns.countplot(training_data[\"Cabin\"],order=['A','B','C','D','E','F','G','T','X'])"
   ]
  },
  {
   "cell_type": "code",
   "execution_count": 34,
   "metadata": {
    "execution": {
     "iopub.execute_input": "2021-01-17T15:35:32.567413Z",
     "iopub.status.busy": "2021-01-17T15:35:32.566345Z",
     "iopub.status.idle": "2021-01-17T15:35:33.037052Z",
     "shell.execute_reply": "2021-01-17T15:35:33.036480Z"
    },
    "papermill": {
     "duration": 0.568862,
     "end_time": "2021-01-17T15:35:33.037184",
     "exception": false,
     "start_time": "2021-01-17T15:35:32.468322",
     "status": "completed"
    },
    "tags": []
   },
   "outputs": [
    {
     "name": "stderr",
     "output_type": "stream",
     "text": [
      "/opt/conda/lib/python3.7/site-packages/seaborn/categorical.py:3669: UserWarning: The `factorplot` function has been renamed to `catplot`. The original name will be removed in a future release. Please update your code. Note that the default `kind` in `factorplot` (`'point'`) has changed `'strip'` in `catplot`.\n",
      "  warnings.warn(msg)\n"
     ]
    },
    {
     "data": {
      "image/png": "[encoded data removed]",
      "text/plain": [
       "<Figure size 360x360 with 1 Axes>"
      ]
     },
     "metadata": {
      "needs_background": "light"
     },
     "output_type": "display_data"
    }
   ],
   "source": [
    "    g = sns.factorplot(x=\"Cabin\", y=\"Survived\",order=['A','B','C','D','E','F','G','T','X'],data=training_data, kind='bar')"
   ]
  },
  {
   "cell_type": "markdown",
   "metadata": {
    "papermill": {
     "duration": 0.090503,
     "end_time": "2021-01-17T15:35:33.218559",
     "exception": false,
     "start_time": "2021-01-17T15:35:33.128056",
     "status": "completed"
    },
    "tags": []
   },
   "source": [
    "We can see that the cabins without a name are the ones that accommodate most people and that at the same time are the ones with the worst survival rates"
   ]
  },
  {
   "cell_type": "code",
   "execution_count": 35,
   "metadata": {
    "execution": {
     "iopub.execute_input": "2021-01-17T15:35:33.409054Z",
     "iopub.status.busy": "2021-01-17T15:35:33.407827Z",
     "iopub.status.idle": "2021-01-17T15:35:33.637405Z",
     "shell.execute_reply": "2021-01-17T15:35:33.637976Z"
    },
    "papermill": {
     "duration": 0.329139,
     "end_time": "2021-01-17T15:35:33.638129",
     "exception": false,
     "start_time": "2021-01-17T15:35:33.308990",
     "status": "completed"
    },
    "tags": []
   },
   "outputs": [
    {
     "data": {
      "image/png": "[encoded data removed]",
      "text/plain": [
       "<Figure size 432x288 with 1 Axes>"
      ]
     },
     "metadata": {
      "needs_background": "light"
     },
     "output_type": "display_data"
    }
   ],
   "source": [
    "g = sns.countplot(training_data[\"Cabin\"],order=['A','B','C','D','E','F','G','T','X'], hue=training_data[\"Pclass\"])"
   ]
  },
  {
   "cell_type": "markdown",
   "metadata": {
    "papermill": {
     "duration": 0.092612,
     "end_time": "2021-01-17T15:35:33.823321",
     "exception": false,
     "start_time": "2021-01-17T15:35:33.730709",
     "status": "completed"
    },
    "tags": []
   },
   "source": [
    "Almost all of the passengers from the third class belong to it, maybe the cabin with letters are associated with big rooms fancy rooms? (or maybe not considering that almost all of the second class passengers don't have a cabin number). \n",
    "However, unfortunately, there are way too many missing also in the test data (327 out of 418, that's 78%) and it would probably be better to drop it.\n",
    "### 2.2.5 Name"
   ]
  },
  {
   "cell_type": "code",
   "execution_count": 36,
   "metadata": {
    "execution": {
     "iopub.execute_input": "2021-01-17T15:35:34.015179Z",
     "iopub.status.busy": "2021-01-17T15:35:34.014479Z",
     "iopub.status.idle": "2021-01-17T15:35:34.023298Z",
     "shell.execute_reply": "2021-01-17T15:35:34.023858Z"
    },
    "papermill": {
     "duration": 0.107656,
     "end_time": "2021-01-17T15:35:34.024008",
     "exception": false,
     "start_time": "2021-01-17T15:35:33.916352",
     "status": "completed"
    },
    "tags": []
   },
   "outputs": [
    {
     "data": {
      "text/plain": [
       "Gee, Mr. Arthur H                                       1\n",
       "Bowen, Mr. David John \"Dai\"                             1\n",
       "Hagland, Mr. Ingvald Olai Olsen                         1\n",
       "Hedman, Mr. Oskar Arvid                                 1\n",
       "Thayer, Mrs. John Borland (Marian Longstreth Morris)    1\n",
       "                                                       ..\n",
       "Turpin, Mr. William John Robert                         1\n",
       "Johnston, Mr. Andrew G                                  1\n",
       "de Mulder, Mr. Theodore                                 1\n",
       "van Billiard, Mr. Austin Blyler                         1\n",
       "Vanden Steen, Mr. Leo Peter                             1\n",
       "Name: Name, Length: 891, dtype: int64"
      ]
     },
     "execution_count": 36,
     "metadata": {},
     "output_type": "execute_result"
    }
   ],
   "source": [
    "training_data['Name'].value_counts()"
   ]
  },
  {
   "cell_type": "markdown",
   "metadata": {
    "papermill": {
     "duration": 0.091866,
     "end_time": "2021-01-17T15:35:34.208432",
     "exception": false,
     "start_time": "2021-01-17T15:35:34.116566",
     "status": "completed"
    },
    "tags": []
   },
   "source": [
    "The Name variable has an interesting feature: it contains the title of the individuals. Let's see if we can extract some valuable information."
   ]
  },
  {
   "cell_type": "code",
   "execution_count": 37,
   "metadata": {
    "execution": {
     "iopub.execute_input": "2021-01-17T15:35:34.396213Z",
     "iopub.status.busy": "2021-01-17T15:35:34.395537Z",
     "iopub.status.idle": "2021-01-17T15:35:34.406361Z",
     "shell.execute_reply": "2021-01-17T15:35:34.406901Z"
    },
    "papermill": {
     "duration": 0.106296,
     "end_time": "2021-01-17T15:35:34.407038",
     "exception": false,
     "start_time": "2021-01-17T15:35:34.300742",
     "status": "completed"
    },
    "tags": []
   },
   "outputs": [
    {
     "data": {
      "text/plain": [
       "Mr              517\n",
       "Miss            182\n",
       "Mrs             125\n",
       "Master           40\n",
       "Dr                7\n",
       "Rev               6\n",
       "Col               2\n",
       "Mlle              2\n",
       "Major             2\n",
       "Sir               1\n",
       "Lady              1\n",
       "Ms                1\n",
       "Don               1\n",
       "the Countess      1\n",
       "Capt              1\n",
       "Jonkheer          1\n",
       "Mme               1\n",
       "Name: Title, dtype: int64"
      ]
     },
     "execution_count": 37,
     "metadata": {},
     "output_type": "execute_result"
    }
   ],
   "source": [
    "df_title = [i.split(\",\")[1].split(\".\")[0].strip() for i in training_data[\"Name\"]]\n",
    "training_data[\"Title\"] = pd.Series(df_title)\n",
    "training_data[\"Title\"].value_counts()"
   ]
  },
  {
   "cell_type": "markdown",
   "metadata": {
    "papermill": {
     "duration": 0.092682,
     "end_time": "2021-01-17T15:35:34.592753",
     "exception": false,
     "start_time": "2021-01-17T15:35:34.500071",
     "status": "completed"
    },
    "tags": []
   },
   "source": [
    "There are very few titles that are not \"Mr\" or \"Miss\" or \"Mrs\". We could group them togheter and check their survival rates"
   ]
  },
  {
   "cell_type": "code",
   "execution_count": 38,
   "metadata": {
    "execution": {
     "iopub.execute_input": "2021-01-17T15:35:34.783653Z",
     "iopub.status.busy": "2021-01-17T15:35:34.782957Z",
     "iopub.status.idle": "2021-01-17T15:35:34.792929Z",
     "shell.execute_reply": "2021-01-17T15:35:34.793472Z"
    },
    "papermill": {
     "duration": 0.107095,
     "end_time": "2021-01-17T15:35:34.794036",
     "exception": false,
     "start_time": "2021-01-17T15:35:34.686941",
     "status": "completed"
    },
    "tags": []
   },
   "outputs": [],
   "source": [
    "# Converting into categorical values\n",
    "#training data\n",
    "training_data[\"Title\"] = training_data[\"Title\"].replace(['Lady', 'the Countess','Countess','Capt', 'Col','Don', 'Dr', 'Major', 'Rev', 'Sir', 'Jonkheer', 'Dona'], 'Special Title')\n",
    "training_data[\"Title\"] = training_data[\"Title\"].map({\"Master\":0, \"Miss\":1, \"Ms\" : 1 , \"Mme\":1, \"Mlle\":1, \"Mrs\":1, \"Mr\":2, \"Special Title\":3})\n",
    "training_data[\"Title\"] = training_data[\"Title\"].astype(int)"
   ]
  },
  {
   "cell_type": "code",
   "execution_count": 39,
   "metadata": {
    "execution": {
     "iopub.execute_input": "2021-01-17T15:35:34.983706Z",
     "iopub.status.busy": "2021-01-17T15:35:34.983098Z",
     "iopub.status.idle": "2021-01-17T15:35:34.989397Z",
     "shell.execute_reply": "2021-01-17T15:35:34.989911Z"
    },
    "papermill": {
     "duration": 0.102894,
     "end_time": "2021-01-17T15:35:34.990048",
     "exception": false,
     "start_time": "2021-01-17T15:35:34.887154",
     "status": "completed"
    },
    "tags": []
   },
   "outputs": [],
   "source": [
    "#test data\n",
    "df_title_test = [i.split(\",\")[1].split(\".\")[0].strip() for i in test_data[\"Name\"]]\n",
    "test_data[\"Title\"] = pd.Series(df_title_test)"
   ]
  },
  {
   "cell_type": "code",
   "execution_count": 40,
   "metadata": {
    "execution": {
     "iopub.execute_input": "2021-01-17T15:35:35.179008Z",
     "iopub.status.busy": "2021-01-17T15:35:35.178349Z",
     "iopub.status.idle": "2021-01-17T15:35:35.188705Z",
     "shell.execute_reply": "2021-01-17T15:35:35.189267Z"
    },
    "papermill": {
     "duration": 0.105844,
     "end_time": "2021-01-17T15:35:35.189407",
     "exception": false,
     "start_time": "2021-01-17T15:35:35.083563",
     "status": "completed"
    },
    "tags": []
   },
   "outputs": [],
   "source": [
    "#test data\n",
    "test_data[\"Title\"] = test_data[\"Title\"].replace(['Lady', 'the Countess','Countess','Capt', 'Col','Don', 'Dr', 'Major', 'Rev', 'Sir', 'Jonkheer', 'Dona'], 'Special Title')\n",
    "test_data[\"Title\"] = test_data[\"Title\"].map({\"Master\":0, \"Miss\":1, \"Ms\" : 1 , \"Mme\":1, \"Mlle\":1, \"Mrs\":1, \"Mr\":2, \"Special Title\":3})\n",
    "test_data[\"Title\"] = test_data[\"Title\"].astype(int)"
   ]
  },
  {
   "cell_type": "code",
   "execution_count": 41,
   "metadata": {
    "execution": {
     "iopub.execute_input": "2021-01-17T15:35:35.377430Z",
     "iopub.status.busy": "2021-01-17T15:35:35.376744Z",
     "iopub.status.idle": "2021-01-17T15:35:35.695976Z",
     "shell.execute_reply": "2021-01-17T15:35:35.696555Z"
    },
    "papermill": {
     "duration": 0.414958,
     "end_time": "2021-01-17T15:35:35.696719",
     "exception": false,
     "start_time": "2021-01-17T15:35:35.281761",
     "status": "completed"
    },
    "tags": []
   },
   "outputs": [
    {
     "name": "stderr",
     "output_type": "stream",
     "text": [
      "/opt/conda/lib/python3.7/site-packages/seaborn/categorical.py:3669: UserWarning: The `factorplot` function has been renamed to `catplot`. The original name will be removed in a future release. Please update your code. Note that the default `kind` in `factorplot` (`'point'`) has changed `'strip'` in `catplot`.\n",
      "  warnings.warn(msg)\n"
     ]
    },
    {
     "data": {
      "image/png": "[encoded data removed]",
      "text/plain": [
       "<Figure size 360x360 with 1 Axes>"
      ]
     },
     "metadata": {
      "needs_background": "light"
     },
     "output_type": "display_data"
    }
   ],
   "source": [
    "g=sns.factorplot(x=\"Title\",y=\"Survived\",data=training_data,kind=\"bar\")\n",
    "g = g.set_xticklabels([\"Master\",\"Miss-Mrs\",\"Mr\",\"Special Title\"])"
   ]
  },
  {
   "cell_type": "code",
   "execution_count": 42,
   "metadata": {
    "execution": {
     "iopub.execute_input": "2021-01-17T15:35:35.889292Z",
     "iopub.status.busy": "2021-01-17T15:35:35.888552Z",
     "iopub.status.idle": "2021-01-17T15:35:35.923379Z",
     "shell.execute_reply": "2021-01-17T15:35:35.923902Z"
    },
    "papermill": {
     "duration": 0.132724,
     "end_time": "2021-01-17T15:35:35.924041",
     "exception": false,
     "start_time": "2021-01-17T15:35:35.791317",
     "status": "completed"
    },
    "tags": []
   },
   "outputs": [
    {
     "data": {
      "text/html": [
       "<div>\n",
       "<style scoped>\n",
       "    .dataframe tbody tr th:only-of-type {\n",
       "        vertical-align: middle;\n",
       "    }\n",
       "\n",
       "    .dataframe tbody tr th {\n",
       "        vertical-align: top;\n",
       "    }\n",
       "\n",
       "    .dataframe thead th {\n",
       "        text-align: right;\n",
       "    }\n",
       "</style>\n",
       "<table border=\"1\" class=\"dataframe\">\n",
       "  <thead>\n",
       "    <tr style=\"text-align: right;\">\n",
       "      <th></th>\n",
       "      <th>PassengerId</th>\n",
       "      <th>Survived</th>\n",
       "      <th>Pclass</th>\n",
       "      <th>Name</th>\n",
       "      <th>Sex</th>\n",
       "      <th>Age</th>\n",
       "      <th>SibSp</th>\n",
       "      <th>Parch</th>\n",
       "      <th>Ticket</th>\n",
       "      <th>Fare</th>\n",
       "      <th>Cabin</th>\n",
       "      <th>Embarked</th>\n",
       "      <th>Title</th>\n",
       "    </tr>\n",
       "  </thead>\n",
       "  <tbody>\n",
       "    <tr>\n",
       "      <th>7</th>\n",
       "      <td>8</td>\n",
       "      <td>0</td>\n",
       "      <td>3</td>\n",
       "      <td>Palsson, Master. Gosta Leonard</td>\n",
       "      <td>male</td>\n",
       "      <td>2.00</td>\n",
       "      <td>3</td>\n",
       "      <td>1</td>\n",
       "      <td>349909</td>\n",
       "      <td>21.0750</td>\n",
       "      <td>X</td>\n",
       "      <td>S</td>\n",
       "      <td>0</td>\n",
       "    </tr>\n",
       "    <tr>\n",
       "      <th>16</th>\n",
       "      <td>17</td>\n",
       "      <td>0</td>\n",
       "      <td>3</td>\n",
       "      <td>Rice, Master. Eugene</td>\n",
       "      <td>male</td>\n",
       "      <td>2.00</td>\n",
       "      <td>4</td>\n",
       "      <td>1</td>\n",
       "      <td>382652</td>\n",
       "      <td>29.1250</td>\n",
       "      <td>X</td>\n",
       "      <td>Q</td>\n",
       "      <td>0</td>\n",
       "    </tr>\n",
       "    <tr>\n",
       "      <th>50</th>\n",
       "      <td>51</td>\n",
       "      <td>0</td>\n",
       "      <td>3</td>\n",
       "      <td>Panula, Master. Juha Niilo</td>\n",
       "      <td>male</td>\n",
       "      <td>7.00</td>\n",
       "      <td>4</td>\n",
       "      <td>1</td>\n",
       "      <td>3101295</td>\n",
       "      <td>39.6875</td>\n",
       "      <td>X</td>\n",
       "      <td>S</td>\n",
       "      <td>0</td>\n",
       "    </tr>\n",
       "    <tr>\n",
       "      <th>59</th>\n",
       "      <td>60</td>\n",
       "      <td>0</td>\n",
       "      <td>3</td>\n",
       "      <td>Goodwin, Master. William Frederick</td>\n",
       "      <td>male</td>\n",
       "      <td>11.00</td>\n",
       "      <td>5</td>\n",
       "      <td>2</td>\n",
       "      <td>CA 2144</td>\n",
       "      <td>46.9000</td>\n",
       "      <td>X</td>\n",
       "      <td>S</td>\n",
       "      <td>0</td>\n",
       "    </tr>\n",
       "    <tr>\n",
       "      <th>63</th>\n",
       "      <td>64</td>\n",
       "      <td>0</td>\n",
       "      <td>3</td>\n",
       "      <td>Skoog, Master. Harald</td>\n",
       "      <td>male</td>\n",
       "      <td>4.00</td>\n",
       "      <td>3</td>\n",
       "      <td>2</td>\n",
       "      <td>347088</td>\n",
       "      <td>27.9000</td>\n",
       "      <td>X</td>\n",
       "      <td>S</td>\n",
       "      <td>0</td>\n",
       "    </tr>\n",
       "    <tr>\n",
       "      <th>65</th>\n",
       "      <td>66</td>\n",
       "      <td>1</td>\n",
       "      <td>3</td>\n",
       "      <td>Moubarek, Master. Gerios</td>\n",
       "      <td>male</td>\n",
       "      <td>NaN</td>\n",
       "      <td>1</td>\n",
       "      <td>1</td>\n",
       "      <td>2661</td>\n",
       "      <td>15.2458</td>\n",
       "      <td>X</td>\n",
       "      <td>C</td>\n",
       "      <td>0</td>\n",
       "    </tr>\n",
       "    <tr>\n",
       "      <th>78</th>\n",
       "      <td>79</td>\n",
       "      <td>1</td>\n",
       "      <td>2</td>\n",
       "      <td>Caldwell, Master. Alden Gates</td>\n",
       "      <td>male</td>\n",
       "      <td>0.83</td>\n",
       "      <td>0</td>\n",
       "      <td>2</td>\n",
       "      <td>248738</td>\n",
       "      <td>29.0000</td>\n",
       "      <td>X</td>\n",
       "      <td>S</td>\n",
       "      <td>0</td>\n",
       "    </tr>\n",
       "    <tr>\n",
       "      <th>125</th>\n",
       "      <td>126</td>\n",
       "      <td>1</td>\n",
       "      <td>3</td>\n",
       "      <td>Nicola-Yarred, Master. Elias</td>\n",
       "      <td>male</td>\n",
       "      <td>12.00</td>\n",
       "      <td>1</td>\n",
       "      <td>0</td>\n",
       "      <td>2651</td>\n",
       "      <td>11.2417</td>\n",
       "      <td>X</td>\n",
       "      <td>C</td>\n",
       "      <td>0</td>\n",
       "    </tr>\n",
       "    <tr>\n",
       "      <th>159</th>\n",
       "      <td>160</td>\n",
       "      <td>0</td>\n",
       "      <td>3</td>\n",
       "      <td>Sage, Master. Thomas Henry</td>\n",
       "      <td>male</td>\n",
       "      <td>NaN</td>\n",
       "      <td>8</td>\n",
       "      <td>2</td>\n",
       "      <td>CA. 2343</td>\n",
       "      <td>69.5500</td>\n",
       "      <td>X</td>\n",
       "      <td>S</td>\n",
       "      <td>0</td>\n",
       "    </tr>\n",
       "    <tr>\n",
       "      <th>164</th>\n",
       "      <td>165</td>\n",
       "      <td>0</td>\n",
       "      <td>3</td>\n",
       "      <td>Panula, Master. Eino Viljami</td>\n",
       "      <td>male</td>\n",
       "      <td>1.00</td>\n",
       "      <td>4</td>\n",
       "      <td>1</td>\n",
       "      <td>3101295</td>\n",
       "      <td>39.6875</td>\n",
       "      <td>X</td>\n",
       "      <td>S</td>\n",
       "      <td>0</td>\n",
       "    </tr>\n",
       "    <tr>\n",
       "      <th>165</th>\n",
       "      <td>166</td>\n",
       "      <td>1</td>\n",
       "      <td>3</td>\n",
       "      <td>Goldsmith, Master. Frank John William \"Frankie\"</td>\n",
       "      <td>male</td>\n",
       "      <td>9.00</td>\n",
       "      <td>0</td>\n",
       "      <td>2</td>\n",
       "      <td>363291</td>\n",
       "      <td>20.5250</td>\n",
       "      <td>X</td>\n",
       "      <td>S</td>\n",
       "      <td>0</td>\n",
       "    </tr>\n",
       "    <tr>\n",
       "      <th>171</th>\n",
       "      <td>172</td>\n",
       "      <td>0</td>\n",
       "      <td>3</td>\n",
       "      <td>Rice, Master. Arthur</td>\n",
       "      <td>male</td>\n",
       "      <td>4.00</td>\n",
       "      <td>4</td>\n",
       "      <td>1</td>\n",
       "      <td>382652</td>\n",
       "      <td>29.1250</td>\n",
       "      <td>X</td>\n",
       "      <td>Q</td>\n",
       "      <td>0</td>\n",
       "    </tr>\n",
       "    <tr>\n",
       "      <th>176</th>\n",
       "      <td>177</td>\n",
       "      <td>0</td>\n",
       "      <td>3</td>\n",
       "      <td>Lefebre, Master. Henry Forbes</td>\n",
       "      <td>male</td>\n",
       "      <td>NaN</td>\n",
       "      <td>3</td>\n",
       "      <td>1</td>\n",
       "      <td>4133</td>\n",
       "      <td>25.4667</td>\n",
       "      <td>X</td>\n",
       "      <td>S</td>\n",
       "      <td>0</td>\n",
       "    </tr>\n",
       "    <tr>\n",
       "      <th>182</th>\n",
       "      <td>183</td>\n",
       "      <td>0</td>\n",
       "      <td>3</td>\n",
       "      <td>Asplund, Master. Clarence Gustaf Hugo</td>\n",
       "      <td>male</td>\n",
       "      <td>9.00</td>\n",
       "      <td>4</td>\n",
       "      <td>2</td>\n",
       "      <td>347077</td>\n",
       "      <td>31.3875</td>\n",
       "      <td>X</td>\n",
       "      <td>S</td>\n",
       "      <td>0</td>\n",
       "    </tr>\n",
       "    <tr>\n",
       "      <th>183</th>\n",
       "      <td>184</td>\n",
       "      <td>1</td>\n",
       "      <td>2</td>\n",
       "      <td>Becker, Master. Richard F</td>\n",
       "      <td>male</td>\n",
       "      <td>1.00</td>\n",
       "      <td>2</td>\n",
       "      <td>1</td>\n",
       "      <td>230136</td>\n",
       "      <td>39.0000</td>\n",
       "      <td>F</td>\n",
       "      <td>S</td>\n",
       "      <td>0</td>\n",
       "    </tr>\n",
       "    <tr>\n",
       "      <th>193</th>\n",
       "      <td>194</td>\n",
       "      <td>1</td>\n",
       "      <td>2</td>\n",
       "      <td>Navratil, Master. Michel M</td>\n",
       "      <td>male</td>\n",
       "      <td>3.00</td>\n",
       "      <td>1</td>\n",
       "      <td>1</td>\n",
       "      <td>230080</td>\n",
       "      <td>26.0000</td>\n",
       "      <td>F</td>\n",
       "      <td>S</td>\n",
       "      <td>0</td>\n",
       "    </tr>\n",
       "    <tr>\n",
       "      <th>261</th>\n",
       "      <td>262</td>\n",
       "      <td>1</td>\n",
       "      <td>3</td>\n",
       "      <td>Asplund, Master. Edvin Rojj Felix</td>\n",
       "      <td>male</td>\n",
       "      <td>3.00</td>\n",
       "      <td>4</td>\n",
       "      <td>2</td>\n",
       "      <td>347077</td>\n",
       "      <td>31.3875</td>\n",
       "      <td>X</td>\n",
       "      <td>S</td>\n",
       "      <td>0</td>\n",
       "    </tr>\n",
       "    <tr>\n",
       "      <th>278</th>\n",
       "      <td>279</td>\n",
       "      <td>0</td>\n",
       "      <td>3</td>\n",
       "      <td>Rice, Master. Eric</td>\n",
       "      <td>male</td>\n",
       "      <td>7.00</td>\n",
       "      <td>4</td>\n",
       "      <td>1</td>\n",
       "      <td>382652</td>\n",
       "      <td>29.1250</td>\n",
       "      <td>X</td>\n",
       "      <td>Q</td>\n",
       "      <td>0</td>\n",
       "    </tr>\n",
       "    <tr>\n",
       "      <th>305</th>\n",
       "      <td>306</td>\n",
       "      <td>1</td>\n",
       "      <td>1</td>\n",
       "      <td>Allison, Master. Hudson Trevor</td>\n",
       "      <td>male</td>\n",
       "      <td>0.92</td>\n",
       "      <td>1</td>\n",
       "      <td>2</td>\n",
       "      <td>113781</td>\n",
       "      <td>151.5500</td>\n",
       "      <td>C</td>\n",
       "      <td>S</td>\n",
       "      <td>0</td>\n",
       "    </tr>\n",
       "    <tr>\n",
       "      <th>340</th>\n",
       "      <td>341</td>\n",
       "      <td>1</td>\n",
       "      <td>2</td>\n",
       "      <td>Navratil, Master. Edmond Roger</td>\n",
       "      <td>male</td>\n",
       "      <td>2.00</td>\n",
       "      <td>1</td>\n",
       "      <td>1</td>\n",
       "      <td>230080</td>\n",
       "      <td>26.0000</td>\n",
       "      <td>F</td>\n",
       "      <td>S</td>\n",
       "      <td>0</td>\n",
       "    </tr>\n",
       "    <tr>\n",
       "      <th>348</th>\n",
       "      <td>349</td>\n",
       "      <td>1</td>\n",
       "      <td>3</td>\n",
       "      <td>Coutts, Master. William Loch \"William\"</td>\n",
       "      <td>male</td>\n",
       "      <td>3.00</td>\n",
       "      <td>1</td>\n",
       "      <td>1</td>\n",
       "      <td>C.A. 37671</td>\n",
       "      <td>15.9000</td>\n",
       "      <td>X</td>\n",
       "      <td>S</td>\n",
       "      <td>0</td>\n",
       "    </tr>\n",
       "    <tr>\n",
       "      <th>386</th>\n",
       "      <td>387</td>\n",
       "      <td>0</td>\n",
       "      <td>3</td>\n",
       "      <td>Goodwin, Master. Sidney Leonard</td>\n",
       "      <td>male</td>\n",
       "      <td>1.00</td>\n",
       "      <td>5</td>\n",
       "      <td>2</td>\n",
       "      <td>CA 2144</td>\n",
       "      <td>46.9000</td>\n",
       "      <td>X</td>\n",
       "      <td>S</td>\n",
       "      <td>0</td>\n",
       "    </tr>\n",
       "    <tr>\n",
       "      <th>407</th>\n",
       "      <td>408</td>\n",
       "      <td>1</td>\n",
       "      <td>2</td>\n",
       "      <td>Richards, Master. William Rowe</td>\n",
       "      <td>male</td>\n",
       "      <td>3.00</td>\n",
       "      <td>1</td>\n",
       "      <td>1</td>\n",
       "      <td>29106</td>\n",
       "      <td>18.7500</td>\n",
       "      <td>X</td>\n",
       "      <td>S</td>\n",
       "      <td>0</td>\n",
       "    </tr>\n",
       "    <tr>\n",
       "      <th>445</th>\n",
       "      <td>446</td>\n",
       "      <td>1</td>\n",
       "      <td>1</td>\n",
       "      <td>Dodge, Master. Washington</td>\n",
       "      <td>male</td>\n",
       "      <td>4.00</td>\n",
       "      <td>0</td>\n",
       "      <td>2</td>\n",
       "      <td>33638</td>\n",
       "      <td>81.8583</td>\n",
       "      <td>A</td>\n",
       "      <td>S</td>\n",
       "      <td>0</td>\n",
       "    </tr>\n",
       "    <tr>\n",
       "      <th>480</th>\n",
       "      <td>481</td>\n",
       "      <td>0</td>\n",
       "      <td>3</td>\n",
       "      <td>Goodwin, Master. Harold Victor</td>\n",
       "      <td>male</td>\n",
       "      <td>9.00</td>\n",
       "      <td>5</td>\n",
       "      <td>2</td>\n",
       "      <td>CA 2144</td>\n",
       "      <td>46.9000</td>\n",
       "      <td>X</td>\n",
       "      <td>S</td>\n",
       "      <td>0</td>\n",
       "    </tr>\n",
       "    <tr>\n",
       "      <th>489</th>\n",
       "      <td>490</td>\n",
       "      <td>1</td>\n",
       "      <td>3</td>\n",
       "      <td>Coutts, Master. Eden Leslie \"Neville\"</td>\n",
       "      <td>male</td>\n",
       "      <td>9.00</td>\n",
       "      <td>1</td>\n",
       "      <td>1</td>\n",
       "      <td>C.A. 37671</td>\n",
       "      <td>15.9000</td>\n",
       "      <td>X</td>\n",
       "      <td>S</td>\n",
       "      <td>0</td>\n",
       "    </tr>\n",
       "    <tr>\n",
       "      <th>549</th>\n",
       "      <td>550</td>\n",
       "      <td>1</td>\n",
       "      <td>2</td>\n",
       "      <td>Davies, Master. John Morgan Jr</td>\n",
       "      <td>male</td>\n",
       "      <td>8.00</td>\n",
       "      <td>1</td>\n",
       "      <td>1</td>\n",
       "      <td>C.A. 33112</td>\n",
       "      <td>36.7500</td>\n",
       "      <td>X</td>\n",
       "      <td>S</td>\n",
       "      <td>0</td>\n",
       "    </tr>\n",
       "    <tr>\n",
       "      <th>709</th>\n",
       "      <td>710</td>\n",
       "      <td>1</td>\n",
       "      <td>3</td>\n",
       "      <td>Moubarek, Master. Halim Gonios (\"William George\")</td>\n",
       "      <td>male</td>\n",
       "      <td>NaN</td>\n",
       "      <td>1</td>\n",
       "      <td>1</td>\n",
       "      <td>2661</td>\n",
       "      <td>15.2458</td>\n",
       "      <td>X</td>\n",
       "      <td>C</td>\n",
       "      <td>0</td>\n",
       "    </tr>\n",
       "    <tr>\n",
       "      <th>751</th>\n",
       "      <td>752</td>\n",
       "      <td>1</td>\n",
       "      <td>3</td>\n",
       "      <td>Moor, Master. Meier</td>\n",
       "      <td>male</td>\n",
       "      <td>6.00</td>\n",
       "      <td>0</td>\n",
       "      <td>1</td>\n",
       "      <td>392096</td>\n",
       "      <td>12.4750</td>\n",
       "      <td>E</td>\n",
       "      <td>S</td>\n",
       "      <td>0</td>\n",
       "    </tr>\n",
       "    <tr>\n",
       "      <th>755</th>\n",
       "      <td>756</td>\n",
       "      <td>1</td>\n",
       "      <td>2</td>\n",
       "      <td>Hamalainen, Master. Viljo</td>\n",
       "      <td>male</td>\n",
       "      <td>0.67</td>\n",
       "      <td>1</td>\n",
       "      <td>1</td>\n",
       "      <td>250649</td>\n",
       "      <td>14.5000</td>\n",
       "      <td>X</td>\n",
       "      <td>S</td>\n",
       "      <td>0</td>\n",
       "    </tr>\n",
       "    <tr>\n",
       "      <th>787</th>\n",
       "      <td>788</td>\n",
       "      <td>0</td>\n",
       "      <td>3</td>\n",
       "      <td>Rice, Master. George Hugh</td>\n",
       "      <td>male</td>\n",
       "      <td>8.00</td>\n",
       "      <td>4</td>\n",
       "      <td>1</td>\n",
       "      <td>382652</td>\n",
       "      <td>29.1250</td>\n",
       "      <td>X</td>\n",
       "      <td>Q</td>\n",
       "      <td>0</td>\n",
       "    </tr>\n",
       "    <tr>\n",
       "      <th>788</th>\n",
       "      <td>789</td>\n",
       "      <td>1</td>\n",
       "      <td>3</td>\n",
       "      <td>Dean, Master. Bertram Vere</td>\n",
       "      <td>male</td>\n",
       "      <td>1.00</td>\n",
       "      <td>1</td>\n",
       "      <td>2</td>\n",
       "      <td>C.A. 2315</td>\n",
       "      <td>20.5750</td>\n",
       "      <td>X</td>\n",
       "      <td>S</td>\n",
       "      <td>0</td>\n",
       "    </tr>\n",
       "    <tr>\n",
       "      <th>802</th>\n",
       "      <td>803</td>\n",
       "      <td>1</td>\n",
       "      <td>1</td>\n",
       "      <td>Carter, Master. William Thornton II</td>\n",
       "      <td>male</td>\n",
       "      <td>11.00</td>\n",
       "      <td>1</td>\n",
       "      <td>2</td>\n",
       "      <td>113760</td>\n",
       "      <td>120.0000</td>\n",
       "      <td>B</td>\n",
       "      <td>S</td>\n",
       "      <td>0</td>\n",
       "    </tr>\n",
       "    <tr>\n",
       "      <th>803</th>\n",
       "      <td>804</td>\n",
       "      <td>1</td>\n",
       "      <td>3</td>\n",
       "      <td>Thomas, Master. Assad Alexander</td>\n",
       "      <td>male</td>\n",
       "      <td>0.42</td>\n",
       "      <td>0</td>\n",
       "      <td>1</td>\n",
       "      <td>2625</td>\n",
       "      <td>8.5167</td>\n",
       "      <td>X</td>\n",
       "      <td>C</td>\n",
       "      <td>0</td>\n",
       "    </tr>\n",
       "    <tr>\n",
       "      <th>819</th>\n",
       "      <td>820</td>\n",
       "      <td>0</td>\n",
       "      <td>3</td>\n",
       "      <td>Skoog, Master. Karl Thorsten</td>\n",
       "      <td>male</td>\n",
       "      <td>10.00</td>\n",
       "      <td>3</td>\n",
       "      <td>2</td>\n",
       "      <td>347088</td>\n",
       "      <td>27.9000</td>\n",
       "      <td>X</td>\n",
       "      <td>S</td>\n",
       "      <td>0</td>\n",
       "    </tr>\n",
       "    <tr>\n",
       "      <th>824</th>\n",
       "      <td>825</td>\n",
       "      <td>0</td>\n",
       "      <td>3</td>\n",
       "      <td>Panula, Master. Urho Abraham</td>\n",
       "      <td>male</td>\n",
       "      <td>2.00</td>\n",
       "      <td>4</td>\n",
       "      <td>1</td>\n",
       "      <td>3101295</td>\n",
       "      <td>39.6875</td>\n",
       "      <td>X</td>\n",
       "      <td>S</td>\n",
       "      <td>0</td>\n",
       "    </tr>\n",
       "    <tr>\n",
       "      <th>827</th>\n",
       "      <td>828</td>\n",
       "      <td>1</td>\n",
       "      <td>2</td>\n",
       "      <td>Mallet, Master. Andre</td>\n",
       "      <td>male</td>\n",
       "      <td>1.00</td>\n",
       "      <td>0</td>\n",
       "      <td>2</td>\n",
       "      <td>S.C./PARIS 2079</td>\n",
       "      <td>37.0042</td>\n",
       "      <td>X</td>\n",
       "      <td>C</td>\n",
       "      <td>0</td>\n",
       "    </tr>\n",
       "    <tr>\n",
       "      <th>831</th>\n",
       "      <td>832</td>\n",
       "      <td>1</td>\n",
       "      <td>2</td>\n",
       "      <td>Richards, Master. George Sibley</td>\n",
       "      <td>male</td>\n",
       "      <td>0.83</td>\n",
       "      <td>1</td>\n",
       "      <td>1</td>\n",
       "      <td>29106</td>\n",
       "      <td>18.7500</td>\n",
       "      <td>X</td>\n",
       "      <td>S</td>\n",
       "      <td>0</td>\n",
       "    </tr>\n",
       "    <tr>\n",
       "      <th>850</th>\n",
       "      <td>851</td>\n",
       "      <td>0</td>\n",
       "      <td>3</td>\n",
       "      <td>Andersson, Master. Sigvard Harald Elias</td>\n",
       "      <td>male</td>\n",
       "      <td>4.00</td>\n",
       "      <td>4</td>\n",
       "      <td>2</td>\n",
       "      <td>347082</td>\n",
       "      <td>31.2750</td>\n",
       "      <td>X</td>\n",
       "      <td>S</td>\n",
       "      <td>0</td>\n",
       "    </tr>\n",
       "    <tr>\n",
       "      <th>869</th>\n",
       "      <td>870</td>\n",
       "      <td>1</td>\n",
       "      <td>3</td>\n",
       "      <td>Johnson, Master. Harold Theodor</td>\n",
       "      <td>male</td>\n",
       "      <td>4.00</td>\n",
       "      <td>1</td>\n",
       "      <td>1</td>\n",
       "      <td>347742</td>\n",
       "      <td>11.1333</td>\n",
       "      <td>X</td>\n",
       "      <td>S</td>\n",
       "      <td>0</td>\n",
       "    </tr>\n",
       "  </tbody>\n",
       "</table>\n",
       "</div>"
      ],
      "text/plain": [
       "     PassengerId  Survived  Pclass  \\\n",
       "7              8         0       3   \n",
       "16            17         0       3   \n",
       "50            51         0       3   \n",
       "59            60         0       3   \n",
       "63            64         0       3   \n",
       "65            66         1       3   \n",
       "78            79         1       2   \n",
       "125          126         1       3   \n",
       "159          160         0       3   \n",
       "164          165         0       3   \n",
       "165          166         1       3   \n",
       "171          172         0       3   \n",
       "176          177         0       3   \n",
       "182          183         0       3   \n",
       "183          184         1       2   \n",
       "193          194         1       2   \n",
       "261          262         1       3   \n",
       "278          279         0       3   \n",
       "305          306         1       1   \n",
       "340          341         1       2   \n",
       "348          349         1       3   \n",
       "386          387         0       3   \n",
       "407          408         1       2   \n",
       "445          446         1       1   \n",
       "480          481         0       3   \n",
       "489          490         1       3   \n",
       "549          550         1       2   \n",
       "709          710         1       3   \n",
       "751          752         1       3   \n",
       "755          756         1       2   \n",
       "787          788         0       3   \n",
       "788          789         1       3   \n",
       "802          803         1       1   \n",
       "803          804         1       3   \n",
       "819          820         0       3   \n",
       "824          825         0       3   \n",
       "827          828         1       2   \n",
       "831          832         1       2   \n",
       "850          851         0       3   \n",
       "869          870         1       3   \n",
       "\n",
       "                                                  Name   Sex    Age  SibSp  \\\n",
       "7                       Palsson, Master. Gosta Leonard  male   2.00      3   \n",
       "16                                Rice, Master. Eugene  male   2.00      4   \n",
       "50                          Panula, Master. Juha Niilo  male   7.00      4   \n",
       "59                  Goodwin, Master. William Frederick  male  11.00      5   \n",
       "63                               Skoog, Master. Harald  male   4.00      3   \n",
       "65                            Moubarek, Master. Gerios  male    NaN      1   \n",
       "78                       Caldwell, Master. Alden Gates  male   0.83      0   \n",
       "125                       Nicola-Yarred, Master. Elias  male  12.00      1   \n",
       "159                         Sage, Master. Thomas Henry  male    NaN      8   \n",
       "164                       Panula, Master. Eino Viljami  male   1.00      4   \n",
       "165    Goldsmith, Master. Frank John William \"Frankie\"  male   9.00      0   \n",
       "171                               Rice, Master. Arthur  male   4.00      4   \n",
       "176                      Lefebre, Master. Henry Forbes  male    NaN      3   \n",
       "182              Asplund, Master. Clarence Gustaf Hugo  male   9.00      4   \n",
       "183                          Becker, Master. Richard F  male   1.00      2   \n",
       "193                         Navratil, Master. Michel M  male   3.00      1   \n",
       "261                  Asplund, Master. Edvin Rojj Felix  male   3.00      4   \n",
       "278                                 Rice, Master. Eric  male   7.00      4   \n",
       "305                     Allison, Master. Hudson Trevor  male   0.92      1   \n",
       "340                     Navratil, Master. Edmond Roger  male   2.00      1   \n",
       "348             Coutts, Master. William Loch \"William\"  male   3.00      1   \n",
       "386                    Goodwin, Master. Sidney Leonard  male   1.00      5   \n",
       "407                     Richards, Master. William Rowe  male   3.00      1   \n",
       "445                          Dodge, Master. Washington  male   4.00      0   \n",
       "480                     Goodwin, Master. Harold Victor  male   9.00      5   \n",
       "489              Coutts, Master. Eden Leslie \"Neville\"  male   9.00      1   \n",
       "549                     Davies, Master. John Morgan Jr  male   8.00      1   \n",
       "709  Moubarek, Master. Halim Gonios (\"William George\")  male    NaN      1   \n",
       "751                                Moor, Master. Meier  male   6.00      0   \n",
       "755                          Hamalainen, Master. Viljo  male   0.67      1   \n",
       "787                          Rice, Master. George Hugh  male   8.00      4   \n",
       "788                         Dean, Master. Bertram Vere  male   1.00      1   \n",
       "802                Carter, Master. William Thornton II  male  11.00      1   \n",
       "803                    Thomas, Master. Assad Alexander  male   0.42      0   \n",
       "819                       Skoog, Master. Karl Thorsten  male  10.00      3   \n",
       "824                       Panula, Master. Urho Abraham  male   2.00      4   \n",
       "827                              Mallet, Master. Andre  male   1.00      0   \n",
       "831                    Richards, Master. George Sibley  male   0.83      1   \n",
       "850            Andersson, Master. Sigvard Harald Elias  male   4.00      4   \n",
       "869                    Johnson, Master. Harold Theodor  male   4.00      1   \n",
       "\n",
       "     Parch           Ticket      Fare Cabin Embarked  Title  \n",
       "7        1           349909   21.0750     X        S      0  \n",
       "16       1           382652   29.1250     X        Q      0  \n",
       "50       1          3101295   39.6875     X        S      0  \n",
       "59       2          CA 2144   46.9000     X        S      0  \n",
       "63       2           347088   27.9000     X        S      0  \n",
       "65       1             2661   15.2458     X        C      0  \n",
       "78       2           248738   29.0000     X        S      0  \n",
       "125      0             2651   11.2417     X        C      0  \n",
       "159      2         CA. 2343   69.5500     X        S      0  \n",
       "164      1          3101295   39.6875     X        S      0  \n",
       "165      2           363291   20.5250     X        S      0  \n",
       "171      1           382652   29.1250     X        Q      0  \n",
       "176      1             4133   25.4667     X        S      0  \n",
       "182      2           347077   31.3875     X        S      0  \n",
       "183      1           230136   39.0000     F        S      0  \n",
       "193      1           230080   26.0000     F        S      0  \n",
       "261      2           347077   31.3875     X        S      0  \n",
       "278      1           382652   29.1250     X        Q      0  \n",
       "305      2           113781  151.5500     C        S      0  \n",
       "340      1           230080   26.0000     F        S      0  \n",
       "348      1       C.A. 37671   15.9000     X        S      0  \n",
       "386      2          CA 2144   46.9000     X        S      0  \n",
       "407      1            29106   18.7500     X        S      0  \n",
       "445      2            33638   81.8583     A        S      0  \n",
       "480      2          CA 2144   46.9000     X        S      0  \n",
       "489      1       C.A. 37671   15.9000     X        S      0  \n",
       "549      1       C.A. 33112   36.7500     X        S      0  \n",
       "709      1             2661   15.2458     X        C      0  \n",
       "751      1           392096   12.4750     E        S      0  \n",
       "755      1           250649   14.5000     X        S      0  \n",
       "787      1           382652   29.1250     X        Q      0  \n",
       "788      2        C.A. 2315   20.5750     X        S      0  \n",
       "802      2           113760  120.0000     B        S      0  \n",
       "803      1             2625    8.5167     X        C      0  \n",
       "819      2           347088   27.9000     X        S      0  \n",
       "824      1          3101295   39.6875     X        S      0  \n",
       "827      2  S.C./PARIS 2079   37.0042     X        C      0  \n",
       "831      1            29106   18.7500     X        S      0  \n",
       "850      2           347082   31.2750     X        S      0  \n",
       "869      1           347742   11.1333     X        S      0  "
      ]
     },
     "execution_count": 42,
     "metadata": {},
     "output_type": "execute_result"
    }
   ],
   "source": [
    "M=training_data.copy()\n",
    "Master=M[(M.Title==0)]\n",
    "Master"
   ]
  },
  {
   "cell_type": "markdown",
   "metadata": {
    "papermill": {
     "duration": 0.111824,
     "end_time": "2021-01-17T15:35:36.133097",
     "exception": false,
     "start_time": "2021-01-17T15:35:36.021273",
     "status": "completed"
    },
    "tags": []
   },
   "source": [
    "We can see that the people with the title \"Master\" are children (0 - 12 years).\n",
    "### 2.2.6 Ticket"
   ]
  },
  {
   "cell_type": "code",
   "execution_count": 43,
   "metadata": {
    "execution": {
     "iopub.execute_input": "2021-01-17T15:35:36.351315Z",
     "iopub.status.busy": "2021-01-17T15:35:36.350687Z",
     "iopub.status.idle": "2021-01-17T15:35:36.358681Z",
     "shell.execute_reply": "2021-01-17T15:35:36.359214Z"
    },
    "papermill": {
     "duration": 0.113263,
     "end_time": "2021-01-17T15:35:36.359361",
     "exception": false,
     "start_time": "2021-01-17T15:35:36.246098",
     "status": "completed"
    },
    "tags": []
   },
   "outputs": [
    {
     "data": {
      "text/plain": [
       "array(['A/5 21171', 'PC 17599', 'STON/O2. 3101282', '113803', '373450',\n",
       "       '330877', '17463', '349909', '347742', '237736', 'PP 9549',\n",
       "       '113783', 'A/5. 2151', '347082', '350406', '248706', '382652',\n",
       "       '244373', '345763', '2649', '239865', '248698', '330923', '113788',\n",
       "       '347077', '2631', '19950', '330959', '349216', 'PC 17601',\n",
       "       'PC 17569', '335677', 'C.A. 24579', 'PC 17604', '113789', '2677',\n",
       "       'A./5. 2152', '345764', '2651', '7546', '11668', '349253',\n",
       "       'SC/Paris 2123', '330958', 'S.C./A.4. 23567', '370371', '14311',\n",
       "       '2662', '349237', '3101295', 'A/4. 39886', 'PC 17572', '2926',\n",
       "       '113509', '19947', 'C.A. 31026', '2697', 'C.A. 34651', 'CA 2144',\n",
       "       '2669', '113572', '36973', '347088', 'PC 17605', '2661',\n",
       "       'C.A. 29395', 'S.P. 3464', '3101281', '315151', 'C.A. 33111',\n",
       "       'S.O.C. 14879', '2680', '1601', '348123', '349208', '374746',\n",
       "       '248738', '364516', '345767', '345779', '330932', '113059',\n",
       "       'SO/C 14885', '3101278', 'W./C. 6608', 'SOTON/OQ 392086', '343275',\n",
       "       '343276', '347466', 'W.E.P. 5734', 'C.A. 2315', '364500', '374910',\n",
       "       'PC 17754', 'PC 17759', '231919', '244367', '349245', '349215',\n",
       "       '35281', '7540', '3101276', '349207', '343120', '312991', '349249',\n",
       "       '371110', '110465', '2665', '324669', '4136', '2627',\n",
       "       'STON/O 2. 3101294', '370369', 'PC 17558', 'A4. 54510', '27267',\n",
       "       '370372', 'C 17369', '2668', '347061', '349241',\n",
       "       'SOTON/O.Q. 3101307', 'A/5. 3337', '228414', 'C.A. 29178',\n",
       "       'SC/PARIS 2133', '11752', '7534', 'PC 17593', '2678', '347081',\n",
       "       'STON/O2. 3101279', '365222', '231945', 'C.A. 33112', '350043',\n",
       "       '230080', '244310', 'S.O.P. 1166', '113776', 'A.5. 11206',\n",
       "       'A/5. 851', 'Fa 265302', 'PC 17597', '35851', 'SOTON/OQ 392090',\n",
       "       '315037', 'CA. 2343', '371362', 'C.A. 33595', '347068', '315093',\n",
       "       '363291', '113505', 'PC 17318', '111240', 'STON/O 2. 3101280',\n",
       "       '17764', '350404', '4133', 'PC 17595', '250653', 'LINE',\n",
       "       'SC/PARIS 2131', '230136', '315153', '113767', '370365', '111428',\n",
       "       '364849', '349247', '234604', '28424', '350046', 'PC 17610',\n",
       "       '368703', '4579', '370370', '248747', '345770', '3101264', '2628',\n",
       "       'A/5 3540', '347054', '2699', '367231', '112277',\n",
       "       'SOTON/O.Q. 3101311', 'F.C.C. 13528', 'A/5 21174', '250646',\n",
       "       '367229', '35273', 'STON/O2. 3101283', '243847', '11813',\n",
       "       'W/C 14208', 'SOTON/OQ 392089', '220367', '21440', '349234',\n",
       "       '19943', 'PP 4348', 'SW/PP 751', 'A/5 21173', '236171', '347067',\n",
       "       '237442', 'C.A. 29566', 'W./C. 6609', '26707', 'C.A. 31921',\n",
       "       '28665', 'SCO/W 1585', '367230', 'W./C. 14263',\n",
       "       'STON/O 2. 3101275', '2694', '19928', '347071', '250649', '11751',\n",
       "       '244252', '362316', '113514', 'A/5. 3336', '370129', '2650',\n",
       "       'PC 17585', '110152', 'PC 17755', '230433', '384461', '110413',\n",
       "       '112059', '382649', 'C.A. 17248', '347083', 'PC 17582', 'PC 17760',\n",
       "       '113798', '250644', 'PC 17596', '370375', '13502', '347073',\n",
       "       '239853', 'C.A. 2673', '336439', '347464', '345778', 'A/5. 10482',\n",
       "       '113056', '349239', '345774', '349206', '237798', '370373',\n",
       "       '19877', '11967', 'SC/Paris 2163', '349236', '349233', 'PC 17612',\n",
       "       '2693', '113781', '19988', '9234', '367226', '226593', 'A/5 2466',\n",
       "       '17421', 'PC 17758', 'P/PP 3381', 'PC 17485', '11767', 'PC 17608',\n",
       "       '250651', '349243', 'F.C.C. 13529', '347470', '29011', '36928',\n",
       "       '16966', 'A/5 21172', '349219', '234818', '345364', '28551',\n",
       "       '111361', '113043', 'PC 17611', '349225', '7598', '113784',\n",
       "       '248740', '244361', '229236', '248733', '31418', '386525',\n",
       "       'C.A. 37671', '315088', '7267', '113510', '2695', '2647', '345783',\n",
       "       '237671', '330931', '330980', 'SC/PARIS 2167', '2691',\n",
       "       'SOTON/O.Q. 3101310', 'C 7076', '110813', '2626', '14313',\n",
       "       'PC 17477', '11765', '3101267', '323951', 'C 7077', '113503',\n",
       "       '2648', '347069', 'PC 17757', '2653', 'STON/O 2. 3101293',\n",
       "       '349227', '27849', '367655', 'SC 1748', '113760', '350034',\n",
       "       '3101277', '350052', '350407', '28403', '244278', '240929',\n",
       "       'STON/O 2. 3101289', '341826', '4137', '315096', '28664', '347064',\n",
       "       '29106', '312992', '349222', '394140', 'STON/O 2. 3101269',\n",
       "       '343095', '28220', '250652', '28228', '345773', '349254',\n",
       "       'A/5. 13032', '315082', '347080', 'A/4. 34244', '2003', '250655',\n",
       "       '364851', 'SOTON/O.Q. 392078', '110564', '376564', 'SC/AH 3085',\n",
       "       'STON/O 2. 3101274', '13507', 'C.A. 18723', '345769', '347076',\n",
       "       '230434', '65306', '33638', '113794', '2666', '113786', '65303',\n",
       "       '113051', '17453', 'A/5 2817', '349240', '13509', '17464',\n",
       "       'F.C.C. 13531', '371060', '19952', '364506', '111320', '234360',\n",
       "       'A/S 2816', 'SOTON/O.Q. 3101306', '113792', '36209', '323592',\n",
       "       '315089', 'SC/AH Basle 541', '7553', '31027', '3460', '350060',\n",
       "       '3101298', '239854', 'A/5 3594', '4134', '11771', 'A.5. 18509',\n",
       "       '65304', 'SOTON/OQ 3101317', '113787', 'PC 17609', 'A/4 45380',\n",
       "       '36947', 'C.A. 6212', '350035', '315086', '364846', '330909',\n",
       "       '4135', '26360', '111427', 'C 4001', '382651', 'SOTON/OQ 3101316',\n",
       "       'PC 17473', 'PC 17603', '349209', '36967', 'C.A. 34260', '226875',\n",
       "       '349242', '12749', '349252', '2624', '2700', '367232',\n",
       "       'W./C. 14258', 'PC 17483', '3101296', '29104', '2641', '2690',\n",
       "       '315084', '113050', 'PC 17761', '364498', '13568', 'WE/P 5735',\n",
       "       '2908', '693', 'SC/PARIS 2146', '244358', '330979', '2620',\n",
       "       '347085', '113807', '11755', '345572', '372622', '349251',\n",
       "       '218629', 'SOTON/OQ 392082', 'SOTON/O.Q. 392087', 'A/4 48871',\n",
       "       '349205', '2686', '350417', 'S.W./PP 752', '11769', 'PC 17474',\n",
       "       '14312', 'A/4. 20589', '358585', '243880', '2689',\n",
       "       'STON/O 2. 3101286', '237789', '13049', '3411', '237565', '13567',\n",
       "       '14973', 'A./5. 3235', 'STON/O 2. 3101273', 'A/5 3902', '364848',\n",
       "       'SC/AH 29037', '248727', '2664', '349214', '113796', '364511',\n",
       "       '111426', '349910', '349246', '113804', 'SOTON/O.Q. 3101305',\n",
       "       '370377', '364512', '220845', '31028', '2659', '11753', '350029',\n",
       "       '54636', '36963', '219533', '349224', '334912', '27042', '347743',\n",
       "       '13214', '112052', '237668', 'STON/O 2. 3101292', '350050',\n",
       "       '349231', '13213', 'S.O./P.P. 751', 'CA. 2314', '349221', '8475',\n",
       "       '330919', '365226', '349223', '29751', '2623', '5727', '349210',\n",
       "       'STON/O 2. 3101285', '234686', '312993', 'A/5 3536', '19996',\n",
       "       '29750', 'F.C. 12750', 'C.A. 24580', '244270', '239856', '349912',\n",
       "       '342826', '4138', '330935', '6563', '349228', '350036', '24160',\n",
       "       '17474', '349256', '2672', '113800', '248731', '363592', '35852',\n",
       "       '348121', 'PC 17475', '36864', '350025', '223596', 'PC 17476',\n",
       "       'PC 17482', '113028', '7545', '250647', '348124', '34218', '36568',\n",
       "       '347062', '350048', '12233', '250643', '113806', '315094', '36866',\n",
       "       '236853', 'STON/O2. 3101271', '239855', '28425', '233639',\n",
       "       '349201', '349218', '16988', '376566', 'STON/O 2. 3101288',\n",
       "       '250648', '113773', '335097', '29103', '392096', '345780',\n",
       "       '349204', '350042', '29108', '363294', 'SOTON/O2 3101272', '2663',\n",
       "       '347074', '112379', '364850', '8471', '345781', '350047',\n",
       "       'S.O./P.P. 3', '2674', '29105', '347078', '383121', '36865',\n",
       "       '2687', '113501', 'W./C. 6607', 'SOTON/O.Q. 3101312', '374887',\n",
       "       '3101265', '12460', 'PC 17600', '349203', '28213', '17465',\n",
       "       '349244', '2685', '2625', '347089', '347063', '112050', '347087',\n",
       "       '248723', '3474', '28206', '364499', '112058', 'STON/O2. 3101290',\n",
       "       'S.C./PARIS 2079', 'C 7075', '315098', '19972', '368323', '367228',\n",
       "       '2671', '347468', '2223', 'PC 17756', '315097', '392092', '11774',\n",
       "       'SOTON/O2 3101287', '2683', '315090', 'C.A. 5547', '349213',\n",
       "       '347060', 'PC 17592', '392091', '113055', '2629', '350026',\n",
       "       '28134', '17466', '233866', '236852', 'SC/PARIS 2149', 'PC 17590',\n",
       "       '345777', '349248', '695', '345765', '2667', '349212', '349217',\n",
       "       '349257', '7552', 'C.A./SOTON 34068', 'SOTON/OQ 392076', '211536',\n",
       "       '112053', '111369', '370376'], dtype=object)"
      ]
     },
     "execution_count": 43,
     "metadata": {},
     "output_type": "execute_result"
    }
   ],
   "source": [
    "training_data['Ticket'].unique()"
   ]
  },
  {
   "cell_type": "code",
   "execution_count": 44,
   "metadata": {
    "execution": {
     "iopub.execute_input": "2021-01-17T15:35:36.570784Z",
     "iopub.status.busy": "2021-01-17T15:35:36.570162Z",
     "iopub.status.idle": "2021-01-17T15:35:36.578636Z",
     "shell.execute_reply": "2021-01-17T15:35:36.579173Z"
    },
    "papermill": {
     "duration": 0.121198,
     "end_time": "2021-01-17T15:35:36.579306",
     "exception": false,
     "start_time": "2021-01-17T15:35:36.458108",
     "status": "completed"
    },
    "tags": []
   },
   "outputs": [
    {
     "data": {
      "text/plain": [
       "1601        7\n",
       "CA. 2343    7\n",
       "347082      7\n",
       "347088      6\n",
       "CA 2144     6\n",
       "           ..\n",
       "236852      1\n",
       "345777      1\n",
       "370369      1\n",
       "11765       1\n",
       "330932      1\n",
       "Name: Ticket, Length: 681, dtype: int64"
      ]
     },
     "execution_count": 44,
     "metadata": {},
     "output_type": "execute_result"
    }
   ],
   "source": [
    "training_data['Ticket'].value_counts()"
   ]
  },
  {
   "cell_type": "markdown",
   "metadata": {
    "papermill": {
     "duration": 0.097367,
     "end_time": "2021-01-17T15:35:36.773292",
     "exception": false,
     "start_time": "2021-01-17T15:35:36.675925",
     "status": "completed"
    },
    "tags": []
   },
   "source": [
    "This variable is not quite easy to read, the only thing that is evident is that it contains some tickets with numbers only and some others with a prefix. These prefixes don't look like they are connected with the cabins.\n",
    "I will try to see if diving them into 2 categories (numbers and letters) can bring a better insight."
   ]
  },
  {
   "cell_type": "code",
   "execution_count": 45,
   "metadata": {
    "execution": {
     "iopub.execute_input": "2021-01-17T15:35:36.972039Z",
     "iopub.status.busy": "2021-01-17T15:35:36.971300Z",
     "iopub.status.idle": "2021-01-17T15:35:36.995776Z",
     "shell.execute_reply": "2021-01-17T15:35:36.996391Z"
    },
    "papermill": {
     "duration": 0.125292,
     "end_time": "2021-01-17T15:35:36.996524",
     "exception": false,
     "start_time": "2021-01-17T15:35:36.871232",
     "status": "completed"
    },
    "tags": []
   },
   "outputs": [
    {
     "data": {
      "text/plain": [
       "['Letter',\n",
       " 'Letter',\n",
       " 'Letter',\n",
       " 'Number',\n",
       " 'Number',\n",
       " 'Number',\n",
       " 'Number',\n",
       " 'Number',\n",
       " 'Number',\n",
       " 'Number',\n",
       " 'Letter',\n",
       " 'Number',\n",
       " 'Letter',\n",
       " 'Number',\n",
       " 'Number',\n",
       " 'Number',\n",
       " 'Number',\n",
       " 'Number',\n",
       " 'Number',\n",
       " 'Number',\n",
       " 'Number',\n",
       " 'Number',\n",
       " 'Number',\n",
       " 'Number',\n",
       " 'Number',\n",
       " 'Number',\n",
       " 'Number',\n",
       " 'Number',\n",
       " 'Number',\n",
       " 'Number',\n",
       " 'Letter',\n",
       " 'Letter',\n",
       " 'Number',\n",
       " 'Letter',\n",
       " 'Letter',\n",
       " 'Number',\n",
       " 'Number',\n",
       " 'Letter',\n",
       " 'Number',\n",
       " 'Number',\n",
       " 'Number',\n",
       " 'Number',\n",
       " 'Number',\n",
       " 'Letter',\n",
       " 'Number',\n",
       " 'Letter',\n",
       " 'Number',\n",
       " 'Number',\n",
       " 'Number',\n",
       " 'Number',\n",
       " 'Number',\n",
       " 'Letter',\n",
       " 'Letter',\n",
       " 'Number',\n",
       " 'Number',\n",
       " 'Number',\n",
       " 'Letter',\n",
       " 'Number',\n",
       " 'Letter',\n",
       " 'Letter',\n",
       " 'Number',\n",
       " 'Number',\n",
       " 'Number',\n",
       " 'Number',\n",
       " 'Letter',\n",
       " 'Number',\n",
       " 'Letter',\n",
       " 'Letter',\n",
       " 'Number',\n",
       " 'Number',\n",
       " 'Letter',\n",
       " 'Letter',\n",
       " 'Letter',\n",
       " 'Number',\n",
       " 'Number',\n",
       " 'Number',\n",
       " 'Number',\n",
       " 'Number',\n",
       " 'Number',\n",
       " 'Number',\n",
       " 'Number',\n",
       " 'Number',\n",
       " 'Number',\n",
       " 'Number',\n",
       " 'Letter',\n",
       " 'Number',\n",
       " 'Letter',\n",
       " 'Letter',\n",
       " 'Number',\n",
       " 'Number',\n",
       " 'Number',\n",
       " 'Number',\n",
       " 'Letter',\n",
       " 'Letter',\n",
       " 'Number',\n",
       " 'Number',\n",
       " 'Letter',\n",
       " 'Letter',\n",
       " 'Number',\n",
       " 'Number',\n",
       " 'Number',\n",
       " 'Number',\n",
       " 'Number',\n",
       " 'Number',\n",
       " 'Number',\n",
       " 'Number',\n",
       " 'Number',\n",
       " 'Number',\n",
       " 'Number',\n",
       " 'Number',\n",
       " 'Number',\n",
       " 'Number',\n",
       " 'Number',\n",
       " 'Number',\n",
       " 'Number',\n",
       " 'Letter',\n",
       " 'Number',\n",
       " 'Number',\n",
       " 'Letter',\n",
       " 'Number',\n",
       " 'Letter',\n",
       " 'Letter',\n",
       " 'Number',\n",
       " 'Number',\n",
       " 'Number',\n",
       " 'Number',\n",
       " 'Number',\n",
       " 'Letter',\n",
       " 'Number',\n",
       " 'Number',\n",
       " 'Number',\n",
       " 'Letter',\n",
       " 'Letter',\n",
       " 'Number',\n",
       " 'Letter',\n",
       " 'Letter',\n",
       " 'Number',\n",
       " 'Number',\n",
       " 'Number',\n",
       " 'Letter',\n",
       " 'Number',\n",
       " 'Number',\n",
       " 'Letter',\n",
       " 'Number',\n",
       " 'Number',\n",
       " 'Letter',\n",
       " 'Number',\n",
       " 'Letter',\n",
       " 'Number',\n",
       " 'Number',\n",
       " 'Letter',\n",
       " 'Number',\n",
       " 'Letter',\n",
       " 'Letter',\n",
       " 'Letter',\n",
       " 'Letter',\n",
       " 'Number',\n",
       " 'Letter',\n",
       " 'Number',\n",
       " 'Letter',\n",
       " 'Number',\n",
       " 'Letter',\n",
       " 'Number',\n",
       " 'Number',\n",
       " 'Number',\n",
       " 'Number',\n",
       " 'Number',\n",
       " 'Number',\n",
       " 'Letter',\n",
       " 'Number',\n",
       " 'Number',\n",
       " 'Number',\n",
       " 'Number',\n",
       " 'Letter',\n",
       " 'Number',\n",
       " 'Number',\n",
       " 'Number',\n",
       " 'Letter',\n",
       " 'Number',\n",
       " 'Letter',\n",
       " 'Letter',\n",
       " 'Letter',\n",
       " 'Number',\n",
       " 'Number',\n",
       " 'Number',\n",
       " 'Number',\n",
       " 'Number',\n",
       " 'Number',\n",
       " 'Number',\n",
       " 'Number',\n",
       " 'Number',\n",
       " 'Number',\n",
       " 'Number',\n",
       " 'Number',\n",
       " 'Letter',\n",
       " 'Letter',\n",
       " 'Number',\n",
       " 'Number',\n",
       " 'Number',\n",
       " 'Number',\n",
       " 'Number',\n",
       " 'Letter',\n",
       " 'Number',\n",
       " 'Number',\n",
       " 'Letter',\n",
       " 'Number',\n",
       " 'Number',\n",
       " 'Number',\n",
       " 'Number',\n",
       " 'Number',\n",
       " 'Letter',\n",
       " 'Letter',\n",
       " 'Letter',\n",
       " 'Number',\n",
       " 'Number',\n",
       " 'Number',\n",
       " 'Letter',\n",
       " 'Number',\n",
       " 'Number',\n",
       " 'Letter',\n",
       " 'Letter',\n",
       " 'Number',\n",
       " 'Number',\n",
       " 'Number',\n",
       " 'Number',\n",
       " 'Letter',\n",
       " 'Letter',\n",
       " 'Letter',\n",
       " 'Number',\n",
       " 'Number',\n",
       " 'Number',\n",
       " 'Number',\n",
       " 'Number',\n",
       " 'Number',\n",
       " 'Letter',\n",
       " 'Letter',\n",
       " 'Number',\n",
       " 'Letter',\n",
       " 'Number',\n",
       " 'Letter',\n",
       " 'Number',\n",
       " 'Number',\n",
       " 'Letter',\n",
       " 'Letter',\n",
       " 'Number',\n",
       " 'Number',\n",
       " 'Number',\n",
       " 'Number',\n",
       " 'Number',\n",
       " 'Number',\n",
       " 'Number',\n",
       " 'Number',\n",
       " 'Number',\n",
       " 'Letter',\n",
       " 'Number',\n",
       " 'Number',\n",
       " 'Letter',\n",
       " 'Number',\n",
       " 'Letter',\n",
       " 'Number',\n",
       " 'Number',\n",
       " 'Number',\n",
       " 'Number',\n",
       " 'Number',\n",
       " 'Number',\n",
       " 'Letter',\n",
       " 'Number',\n",
       " 'Number',\n",
       " 'Letter',\n",
       " 'Letter',\n",
       " 'Number',\n",
       " 'Letter',\n",
       " 'Number',\n",
       " 'Letter',\n",
       " 'Number',\n",
       " 'Number',\n",
       " 'Number',\n",
       " 'Number',\n",
       " 'Number',\n",
       " 'Letter',\n",
       " 'Number',\n",
       " 'Number',\n",
       " 'Number',\n",
       " 'Letter',\n",
       " 'Number',\n",
       " 'Number',\n",
       " 'Number',\n",
       " 'Number',\n",
       " 'Number',\n",
       " 'Number',\n",
       " 'Number',\n",
       " 'Number',\n",
       " 'Letter',\n",
       " 'Number',\n",
       " 'Number',\n",
       " 'Letter',\n",
       " 'Number',\n",
       " 'Number',\n",
       " 'Number',\n",
       " 'Letter',\n",
       " 'Number',\n",
       " 'Number',\n",
       " 'Letter',\n",
       " 'Number',\n",
       " 'Letter',\n",
       " 'Number',\n",
       " 'Number',\n",
       " 'Letter',\n",
       " 'Letter',\n",
       " 'Letter',\n",
       " 'Number',\n",
       " 'Letter',\n",
       " 'Number',\n",
       " 'Number',\n",
       " 'Letter',\n",
       " 'Number',\n",
       " 'Number',\n",
       " 'Number',\n",
       " 'Number',\n",
       " 'Number',\n",
       " 'Letter',\n",
       " 'Number',\n",
       " 'Number',\n",
       " 'Number',\n",
       " 'Letter',\n",
       " 'Letter',\n",
       " 'Number',\n",
       " 'Number',\n",
       " 'Number',\n",
       " 'Number',\n",
       " 'Number',\n",
       " 'Number',\n",
       " 'Letter',\n",
       " 'Number',\n",
       " 'Letter',\n",
       " 'Number',\n",
       " 'Number',\n",
       " 'Number',\n",
       " 'Number',\n",
       " 'Number',\n",
       " 'Number',\n",
       " 'Number',\n",
       " 'Number',\n",
       " 'Number',\n",
       " 'Number',\n",
       " 'Number',\n",
       " 'Number',\n",
       " 'Number',\n",
       " 'Letter',\n",
       " 'Number',\n",
       " 'Number',\n",
       " 'Number',\n",
       " 'Number',\n",
       " 'Number',\n",
       " 'Number',\n",
       " 'Number',\n",
       " 'Number',\n",
       " 'Number',\n",
       " 'Number',\n",
       " 'Number',\n",
       " 'Number',\n",
       " 'Letter',\n",
       " 'Number',\n",
       " 'Letter',\n",
       " 'Number',\n",
       " 'Letter',\n",
       " 'Number',\n",
       " 'Number',\n",
       " 'Number',\n",
       " 'Letter',\n",
       " 'Number',\n",
       " 'Number',\n",
       " 'Number',\n",
       " 'Letter',\n",
       " 'Number',\n",
       " 'Letter',\n",
       " 'Letter',\n",
       " 'Number',\n",
       " 'Number',\n",
       " 'Number',\n",
       " 'Letter',\n",
       " 'Number',\n",
       " 'Letter',\n",
       " 'Number',\n",
       " 'Number',\n",
       " 'Letter',\n",
       " 'Letter',\n",
       " 'Number',\n",
       " 'Number',\n",
       " 'Letter',\n",
       " 'Number',\n",
       " 'Number',\n",
       " 'Number',\n",
       " 'Number',\n",
       " 'Letter',\n",
       " 'Number',\n",
       " 'Number',\n",
       " 'Number',\n",
       " 'Number',\n",
       " 'Number',\n",
       " 'Letter',\n",
       " 'Number',\n",
       " 'Number',\n",
       " 'Letter',\n",
       " 'Number',\n",
       " 'Number',\n",
       " 'Number',\n",
       " 'Number',\n",
       " 'Number',\n",
       " 'Number',\n",
       " 'Number',\n",
       " 'Number',\n",
       " 'Number',\n",
       " 'Number',\n",
       " 'Letter',\n",
       " 'Number',\n",
       " 'Number',\n",
       " 'Number',\n",
       " 'Number',\n",
       " 'Number',\n",
       " 'Number',\n",
       " 'Letter',\n",
       " 'Number',\n",
       " 'Number',\n",
       " 'Number',\n",
       " 'Letter',\n",
       " 'Number',\n",
       " 'Number',\n",
       " 'Number',\n",
       " 'Letter',\n",
       " 'Number',\n",
       " 'Number',\n",
       " 'Letter',\n",
       " 'Letter',\n",
       " 'Number',\n",
       " 'Number',\n",
       " 'Letter',\n",
       " 'Number',\n",
       " 'Number',\n",
       " 'Letter',\n",
       " 'Letter',\n",
       " 'Number',\n",
       " 'Number',\n",
       " 'Number',\n",
       " 'Number',\n",
       " 'Number',\n",
       " 'Number',\n",
       " 'Number',\n",
       " 'Number',\n",
       " 'Number',\n",
       " 'Letter',\n",
       " 'Number',\n",
       " 'Number',\n",
       " 'Number',\n",
       " 'Letter',\n",
       " 'Number',\n",
       " 'Number',\n",
       " 'Number',\n",
       " 'Letter',\n",
       " 'Number',\n",
       " 'Number',\n",
       " 'Number',\n",
       " 'Number',\n",
       " 'Number',\n",
       " 'Letter',\n",
       " 'Letter',\n",
       " 'Number',\n",
       " 'Number',\n",
       " 'Number',\n",
       " 'Number',\n",
       " 'Number',\n",
       " 'Number',\n",
       " 'Letter',\n",
       " 'Letter',\n",
       " 'Number',\n",
       " 'Number',\n",
       " 'Number',\n",
       " 'Number',\n",
       " 'Number',\n",
       " 'Number',\n",
       " 'Letter',\n",
       " 'Number',\n",
       " 'Letter',\n",
       " 'Number',\n",
       " 'Number',\n",
       " 'Number',\n",
       " 'Number',\n",
       " 'Number',\n",
       " 'Letter',\n",
       " 'Letter',\n",
       " 'Number',\n",
       " 'Letter',\n",
       " 'Number',\n",
       " 'Letter',\n",
       " 'Letter',\n",
       " 'Number',\n",
       " 'Number',\n",
       " 'Letter',\n",
       " 'Number',\n",
       " 'Number',\n",
       " 'Number',\n",
       " 'Number',\n",
       " 'Number',\n",
       " 'Number',\n",
       " 'Number',\n",
       " 'Letter',\n",
       " 'Number',\n",
       " 'Number',\n",
       " 'Letter',\n",
       " 'Number',\n",
       " 'Number',\n",
       " 'Letter',\n",
       " 'Letter',\n",
       " 'Letter',\n",
       " 'Number',\n",
       " 'Number',\n",
       " 'Letter',\n",
       " 'Number',\n",
       " 'Number',\n",
       " 'Number',\n",
       " 'Number',\n",
       " 'Number',\n",
       " 'Number',\n",
       " 'Number',\n",
       " 'Number',\n",
       " 'Number',\n",
       " 'Letter',\n",
       " 'Letter',\n",
       " 'Number',\n",
       " 'Number',\n",
       " 'Number',\n",
       " 'Number',\n",
       " 'Number',\n",
       " 'Number',\n",
       " 'Number',\n",
       " 'Letter',\n",
       " 'Number',\n",
       " 'Letter',\n",
       " 'Number',\n",
       " 'Number',\n",
       " 'Letter',\n",
       " 'Number',\n",
       " 'Number',\n",
       " 'Number',\n",
       " 'Letter',\n",
       " 'Number',\n",
       " 'Number',\n",
       " 'Letter',\n",
       " 'Number',\n",
       " 'Letter',\n",
       " 'Number',\n",
       " 'Number',\n",
       " 'Number',\n",
       " 'Number',\n",
       " 'Number',\n",
       " 'Number',\n",
       " 'Number',\n",
       " 'Letter',\n",
       " 'Number',\n",
       " 'Number',\n",
       " 'Number',\n",
       " 'Number',\n",
       " 'Number',\n",
       " 'Letter',\n",
       " 'Letter',\n",
       " 'Letter',\n",
       " 'Number',\n",
       " 'Number',\n",
       " 'Number',\n",
       " 'Number',\n",
       " 'Letter',\n",
       " 'Number',\n",
       " 'Letter',\n",
       " 'Number',\n",
       " 'Letter',\n",
       " 'Number',\n",
       " 'Number',\n",
       " 'Number',\n",
       " 'Number',\n",
       " 'Letter',\n",
       " 'Number',\n",
       " 'Number',\n",
       " 'Number',\n",
       " 'Number',\n",
       " 'Number',\n",
       " 'Number',\n",
       " 'Number',\n",
       " 'Number',\n",
       " 'Number',\n",
       " 'Letter',\n",
       " 'Letter',\n",
       " 'Number',\n",
       " 'Letter',\n",
       " 'Number',\n",
       " 'Letter',\n",
       " 'Number',\n",
       " 'Number',\n",
       " 'Letter',\n",
       " 'Number',\n",
       " 'Letter',\n",
       " 'Number',\n",
       " 'Number',\n",
       " 'Number',\n",
       " 'Number',\n",
       " 'Number',\n",
       " 'Number',\n",
       " 'Number',\n",
       " 'Number',\n",
       " 'Letter',\n",
       " 'Letter',\n",
       " 'Number',\n",
       " 'Letter',\n",
       " 'Number',\n",
       " 'Number',\n",
       " 'Number',\n",
       " 'Number',\n",
       " 'Number',\n",
       " 'Letter',\n",
       " 'Number',\n",
       " 'Number',\n",
       " 'Number',\n",
       " 'Number',\n",
       " 'Number',\n",
       " 'Number',\n",
       " 'Number',\n",
       " 'Number',\n",
       " 'Number',\n",
       " 'Number',\n",
       " 'Number',\n",
       " 'Number',\n",
       " 'Number',\n",
       " 'Number',\n",
       " 'Number',\n",
       " 'Number',\n",
       " 'Number',\n",
       " 'Number',\n",
       " 'Letter',\n",
       " 'Letter',\n",
       " 'Number',\n",
       " 'Number',\n",
       " 'Number',\n",
       " 'Letter',\n",
       " 'Number',\n",
       " 'Number',\n",
       " 'Number',\n",
       " 'Letter',\n",
       " 'Number',\n",
       " 'Number',\n",
       " 'Letter',\n",
       " 'Letter',\n",
       " 'Number',\n",
       " 'Number',\n",
       " 'Number',\n",
       " 'Number',\n",
       " 'Number',\n",
       " 'Letter',\n",
       " 'Number',\n",
       " 'Number',\n",
       " 'Number',\n",
       " 'Number',\n",
       " 'Letter',\n",
       " 'Number',\n",
       " 'Number',\n",
       " 'Number',\n",
       " 'Letter',\n",
       " 'Letter',\n",
       " 'Number',\n",
       " 'Number',\n",
       " 'Letter',\n",
       " 'Number',\n",
       " 'Number',\n",
       " 'Letter',\n",
       " 'Letter',\n",
       " 'Number',\n",
       " 'Number',\n",
       " 'Number',\n",
       " 'Number',\n",
       " 'Number',\n",
       " 'Letter',\n",
       " 'Letter',\n",
       " 'Number',\n",
       " 'Letter',\n",
       " 'Number',\n",
       " 'Letter',\n",
       " 'Number',\n",
       " 'Letter',\n",
       " 'Number',\n",
       " 'Number',\n",
       " 'Number',\n",
       " 'Number',\n",
       " 'Number',\n",
       " 'Number',\n",
       " 'Number',\n",
       " 'Number',\n",
       " 'Number',\n",
       " 'Number',\n",
       " 'Number',\n",
       " 'Number',\n",
       " 'Number',\n",
       " 'Number',\n",
       " 'Letter',\n",
       " 'Letter',\n",
       " 'Number',\n",
       " 'Number',\n",
       " 'Number',\n",
       " 'Number',\n",
       " 'Number',\n",
       " 'Letter',\n",
       " 'Number',\n",
       " 'Number',\n",
       " 'Letter',\n",
       " 'Number',\n",
       " 'Number',\n",
       " 'Number',\n",
       " 'Number',\n",
       " 'Number',\n",
       " 'Letter',\n",
       " 'Number',\n",
       " 'Number',\n",
       " 'Number',\n",
       " 'Number',\n",
       " 'Number',\n",
       " 'Number',\n",
       " 'Number',\n",
       " 'Number',\n",
       " 'Number',\n",
       " 'Number',\n",
       " 'Number',\n",
       " 'Number',\n",
       " 'Letter',\n",
       " 'Number',\n",
       " 'Number',\n",
       " 'Number',\n",
       " 'Number',\n",
       " 'Number',\n",
       " 'Number',\n",
       " 'Letter',\n",
       " 'Letter',\n",
       " 'Number',\n",
       " 'Number',\n",
       " 'Number',\n",
       " 'Number',\n",
       " 'Letter',\n",
       " 'Number',\n",
       " 'Letter',\n",
       " 'Letter',\n",
       " 'Letter',\n",
       " 'Number',\n",
       " 'Number',\n",
       " 'Number',\n",
       " 'Number',\n",
       " 'Number',\n",
       " 'Number',\n",
       " 'Number',\n",
       " 'Number',\n",
       " 'Number',\n",
       " 'Number',\n",
       " 'Number',\n",
       " 'Number',\n",
       " 'Number',\n",
       " 'Number',\n",
       " 'Letter',\n",
       " 'Number',\n",
       " 'Number',\n",
       " 'Number',\n",
       " 'Number',\n",
       " 'Number',\n",
       " 'Number',\n",
       " 'Number',\n",
       " 'Number',\n",
       " 'Number',\n",
       " 'Number',\n",
       " 'Letter',\n",
       " 'Number',\n",
       " 'Number',\n",
       " 'Number',\n",
       " 'Number',\n",
       " 'Number',\n",
       " 'Number',\n",
       " 'Number',\n",
       " 'Number',\n",
       " 'Number',\n",
       " 'Number',\n",
       " 'Letter',\n",
       " 'Letter',\n",
       " 'Number',\n",
       " 'Number',\n",
       " 'Number',\n",
       " 'Letter',\n",
       " 'Letter',\n",
       " 'Number',\n",
       " 'Number',\n",
       " 'Letter',\n",
       " 'Letter',\n",
       " 'Number',\n",
       " 'Number',\n",
       " 'Number',\n",
       " 'Number',\n",
       " 'Number',\n",
       " 'Number',\n",
       " 'Number',\n",
       " 'Letter',\n",
       " 'Number',\n",
       " 'Number',\n",
       " 'Number',\n",
       " 'Number',\n",
       " 'Number',\n",
       " 'Number',\n",
       " 'Number',\n",
       " 'Number',\n",
       " 'Number',\n",
       " 'Letter',\n",
       " 'Number',\n",
       " 'Number',\n",
       " 'Number',\n",
       " 'Number',\n",
       " 'Letter',\n",
       " 'Letter',\n",
       " 'Letter',\n",
       " 'Number',\n",
       " 'Number',\n",
       " 'Number',\n",
       " 'Number',\n",
       " 'Number',\n",
       " 'Number',\n",
       " 'Number',\n",
       " 'Number',\n",
       " 'Letter',\n",
       " 'Number',\n",
       " 'Number',\n",
       " 'Number',\n",
       " 'Number',\n",
       " 'Number',\n",
       " 'Number',\n",
       " 'Number',\n",
       " 'Letter',\n",
       " 'Number',\n",
       " 'Number',\n",
       " 'Number',\n",
       " 'Number',\n",
       " 'Letter',\n",
       " 'Letter',\n",
       " 'Number',\n",
       " 'Number',\n",
       " 'Number',\n",
       " 'Letter',\n",
       " 'Letter',\n",
       " 'Number',\n",
       " 'Number',\n",
       " 'Number',\n",
       " 'Number',\n",
       " 'Number',\n",
       " 'Number',\n",
       " 'Letter',\n",
       " 'Number',\n",
       " 'Number',\n",
       " 'Number',\n",
       " 'Number',\n",
       " 'Number',\n",
       " 'Number',\n",
       " 'Number',\n",
       " 'Number',\n",
       " 'Number',\n",
       " 'Letter',\n",
       " 'Number',\n",
       " 'Number',\n",
       " 'Letter',\n",
       " 'Letter',\n",
       " 'Number',\n",
       " 'Number',\n",
       " 'Number',\n",
       " 'Number',\n",
       " 'Number',\n",
       " 'Number',\n",
       " 'Letter',\n",
       " 'Number',\n",
       " 'Number',\n",
       " 'Number',\n",
       " 'Number',\n",
       " 'Number',\n",
       " 'Number',\n",
       " 'Number',\n",
       " 'Number',\n",
       " 'Letter',\n",
       " 'Letter',\n",
       " 'Number',\n",
       " 'Number',\n",
       " 'Number',\n",
       " 'Letter',\n",
       " 'Number',\n",
       " 'Number']"
      ]
     },
     "execution_count": 45,
     "metadata": {},
     "output_type": "execute_result"
    }
   ],
   "source": [
    "Ticket = []\n",
    "for i in list(training_data.Ticket):\n",
    "    if  i.isdigit() :\n",
    "        Ticket.append('Number')\n",
    "    else:\n",
    "        Ticket.append(\"Letter\")\n",
    "Ticket"
   ]
  },
  {
   "cell_type": "code",
   "execution_count": 46,
   "metadata": {
    "execution": {
     "iopub.execute_input": "2021-01-17T15:35:37.201354Z",
     "iopub.status.busy": "2021-01-17T15:35:37.200659Z",
     "iopub.status.idle": "2021-01-17T15:35:37.352292Z",
     "shell.execute_reply": "2021-01-17T15:35:37.351649Z"
    },
    "papermill": {
     "duration": 0.256752,
     "end_time": "2021-01-17T15:35:37.352403",
     "exception": false,
     "start_time": "2021-01-17T15:35:37.095651",
     "status": "completed"
    },
    "tags": []
   },
   "outputs": [
    {
     "data": {
      "text/plain": [
       "<matplotlib.axes._subplots.AxesSubplot at 0x7f5918cf5b50>"
      ]
     },
     "execution_count": 46,
     "metadata": {},
     "output_type": "execute_result"
    },
    {
     "data": {
      "image/png": "[encoded data removed]",
      "text/plain": [
       "<Figure size 432x288 with 1 Axes>"
      ]
     },
     "metadata": {
      "needs_background": "light"
     },
     "output_type": "display_data"
    }
   ],
   "source": [
    "training_data['Ticket2']=Ticket\n",
    "sns.countplot(x=training_data['Ticket2'],hue=training_data['Survived'])"
   ]
  },
  {
   "cell_type": "code",
   "execution_count": 47,
   "metadata": {
    "execution": {
     "iopub.execute_input": "2021-01-17T15:35:37.564116Z",
     "iopub.status.busy": "2021-01-17T15:35:37.560909Z",
     "iopub.status.idle": "2021-01-17T15:35:37.716884Z",
     "shell.execute_reply": "2021-01-17T15:35:37.716208Z"
    },
    "papermill": {
     "duration": 0.264448,
     "end_time": "2021-01-17T15:35:37.717013",
     "exception": false,
     "start_time": "2021-01-17T15:35:37.452565",
     "status": "completed"
    },
    "tags": []
   },
   "outputs": [
    {
     "data": {
      "text/plain": [
       "<matplotlib.axes._subplots.AxesSubplot at 0x7f5918cd9c50>"
      ]
     },
     "execution_count": 47,
     "metadata": {},
     "output_type": "execute_result"
    },
    {
     "data": {
      "image/png": "[encoded data removed]",
      "text/plain": [
       "<Figure size 432x288 with 1 Axes>"
      ]
     },
     "metadata": {
      "needs_background": "light"
     },
     "output_type": "display_data"
    }
   ],
   "source": [
    "sns.countplot(x=training_data['Ticket2'],hue=training_data['Pclass'])"
   ]
  },
  {
   "cell_type": "markdown",
   "metadata": {
    "papermill": {
     "duration": 0.10167,
     "end_time": "2021-01-17T15:35:37.919942",
     "exception": false,
     "start_time": "2021-01-17T15:35:37.818272",
     "status": "completed"
    },
    "tags": []
   },
   "source": [
    "We can see that the majority of the tickets are \"number tickets\" but it seems that this new division does not bring much clarification in terms of the problem. It could be considered dropping the variable."
   ]
  },
  {
   "cell_type": "markdown",
   "metadata": {
    "papermill": {
     "duration": 0.099986,
     "end_time": "2021-01-17T15:35:38.121136",
     "exception": false,
     "start_time": "2021-01-17T15:35:38.021150",
     "status": "completed"
    },
    "tags": []
   },
   "source": [
    "## 3. Feature Engineering\n",
    "All the variables seem to bring information apart from \"Passenger ID\",\"Ticket\" and \"Cabin\".\n",
    "We also discovered some interesting things along the way. Passenger class means a lot in terms of survival rates.\n",
    "Age and family dimension play a role too. It might be wise to engineer a little \"SibSp\" and \"Parch\". \n",
    "Title has already been addressed during the exploratory analysis. \n",
    "\n",
    "### 3.1 Age\n",
    "First, the missing Age values need to be addressed."
   ]
  },
  {
   "cell_type": "code",
   "execution_count": 48,
   "metadata": {
    "execution": {
     "iopub.execute_input": "2021-01-17T15:35:38.340023Z",
     "iopub.status.busy": "2021-01-17T15:35:38.339261Z",
     "iopub.status.idle": "2021-01-17T15:35:38.343784Z",
     "shell.execute_reply": "2021-01-17T15:35:38.343128Z"
    },
    "papermill": {
     "duration": 0.123029,
     "end_time": "2021-01-17T15:35:38.343898",
     "exception": false,
     "start_time": "2021-01-17T15:35:38.220869",
     "status": "completed"
    },
    "tags": []
   },
   "outputs": [
    {
     "data": {
      "text/html": [
       "<div>\n",
       "<style scoped>\n",
       "    .dataframe tbody tr th:only-of-type {\n",
       "        vertical-align: middle;\n",
       "    }\n",
       "\n",
       "    .dataframe tbody tr th {\n",
       "        vertical-align: top;\n",
       "    }\n",
       "\n",
       "    .dataframe thead th {\n",
       "        text-align: right;\n",
       "    }\n",
       "</style>\n",
       "<table border=\"1\" class=\"dataframe\">\n",
       "  <thead>\n",
       "    <tr style=\"text-align: right;\">\n",
       "      <th></th>\n",
       "      <th>PassengerId</th>\n",
       "      <th>Survived</th>\n",
       "      <th>Pclass</th>\n",
       "      <th>Name</th>\n",
       "      <th>Sex</th>\n",
       "      <th>Age</th>\n",
       "      <th>SibSp</th>\n",
       "      <th>Parch</th>\n",
       "      <th>Ticket</th>\n",
       "      <th>Fare</th>\n",
       "      <th>Cabin</th>\n",
       "      <th>Embarked</th>\n",
       "      <th>Title</th>\n",
       "      <th>Ticket2</th>\n",
       "    </tr>\n",
       "  </thead>\n",
       "  <tbody>\n",
       "    <tr>\n",
       "      <th>0</th>\n",
       "      <td>1</td>\n",
       "      <td>0</td>\n",
       "      <td>3</td>\n",
       "      <td>Braund, Mr. Owen Harris</td>\n",
       "      <td>male</td>\n",
       "      <td>22.0</td>\n",
       "      <td>1</td>\n",
       "      <td>0</td>\n",
       "      <td>A/5 21171</td>\n",
       "      <td>7.2500</td>\n",
       "      <td>X</td>\n",
       "      <td>S</td>\n",
       "      <td>2</td>\n",
       "      <td>Letter</td>\n",
       "    </tr>\n",
       "    <tr>\n",
       "      <th>1</th>\n",
       "      <td>2</td>\n",
       "      <td>1</td>\n",
       "      <td>1</td>\n",
       "      <td>Cumings, Mrs. John Bradley (Florence Briggs Th...</td>\n",
       "      <td>female</td>\n",
       "      <td>38.0</td>\n",
       "      <td>1</td>\n",
       "      <td>0</td>\n",
       "      <td>PC 17599</td>\n",
       "      <td>71.2833</td>\n",
       "      <td>C</td>\n",
       "      <td>C</td>\n",
       "      <td>1</td>\n",
       "      <td>Letter</td>\n",
       "    </tr>\n",
       "    <tr>\n",
       "      <th>2</th>\n",
       "      <td>3</td>\n",
       "      <td>1</td>\n",
       "      <td>3</td>\n",
       "      <td>Heikkinen, Miss. Laina</td>\n",
       "      <td>female</td>\n",
       "      <td>26.0</td>\n",
       "      <td>0</td>\n",
       "      <td>0</td>\n",
       "      <td>STON/O2. 3101282</td>\n",
       "      <td>7.9250</td>\n",
       "      <td>X</td>\n",
       "      <td>S</td>\n",
       "      <td>1</td>\n",
       "      <td>Letter</td>\n",
       "    </tr>\n",
       "    <tr>\n",
       "      <th>3</th>\n",
       "      <td>4</td>\n",
       "      <td>1</td>\n",
       "      <td>1</td>\n",
       "      <td>Futrelle, Mrs. Jacques Heath (Lily May Peel)</td>\n",
       "      <td>female</td>\n",
       "      <td>35.0</td>\n",
       "      <td>1</td>\n",
       "      <td>0</td>\n",
       "      <td>113803</td>\n",
       "      <td>53.1000</td>\n",
       "      <td>C</td>\n",
       "      <td>S</td>\n",
       "      <td>1</td>\n",
       "      <td>Number</td>\n",
       "    </tr>\n",
       "    <tr>\n",
       "      <th>4</th>\n",
       "      <td>5</td>\n",
       "      <td>0</td>\n",
       "      <td>3</td>\n",
       "      <td>Allen, Mr. William Henry</td>\n",
       "      <td>male</td>\n",
       "      <td>35.0</td>\n",
       "      <td>0</td>\n",
       "      <td>0</td>\n",
       "      <td>373450</td>\n",
       "      <td>8.0500</td>\n",
       "      <td>X</td>\n",
       "      <td>S</td>\n",
       "      <td>2</td>\n",
       "      <td>Number</td>\n",
       "    </tr>\n",
       "  </tbody>\n",
       "</table>\n",
       "</div>"
      ],
      "text/plain": [
       "   PassengerId  Survived  Pclass  \\\n",
       "0            1         0       3   \n",
       "1            2         1       1   \n",
       "2            3         1       3   \n",
       "3            4         1       1   \n",
       "4            5         0       3   \n",
       "\n",
       "                                                Name     Sex   Age  SibSp  \\\n",
       "0                            Braund, Mr. Owen Harris    male  22.0      1   \n",
       "1  Cumings, Mrs. John Bradley (Florence Briggs Th...  female  38.0      1   \n",
       "2                             Heikkinen, Miss. Laina  female  26.0      0   \n",
       "3       Futrelle, Mrs. Jacques Heath (Lily May Peel)  female  35.0      1   \n",
       "4                           Allen, Mr. William Henry    male  35.0      0   \n",
       "\n",
       "   Parch            Ticket     Fare Cabin Embarked  Title Ticket2  \n",
       "0      0         A/5 21171   7.2500     X        S      2  Letter  \n",
       "1      0          PC 17599  71.2833     C        C      1  Letter  \n",
       "2      0  STON/O2. 3101282   7.9250     X        S      1  Letter  \n",
       "3      0            113803  53.1000     C        S      1  Number  \n",
       "4      0            373450   8.0500     X        S      2  Number  "
      ]
     },
     "execution_count": 48,
     "metadata": {},
     "output_type": "execute_result"
    }
   ],
   "source": [
    "training_data.head()"
   ]
  },
  {
   "cell_type": "markdown",
   "metadata": {
    "papermill": {
     "duration": 0.102688,
     "end_time": "2021-01-17T15:35:38.548206",
     "exception": false,
     "start_time": "2021-01-17T15:35:38.445518",
     "status": "completed"
    },
    "tags": []
   },
   "source": [
    "The median seems a good option to replace the missing values. It also makes to transform this variable into a categorical one. I'll use five bins to divide the variable (range: 0-80).\n"
   ]
  },
  {
   "cell_type": "code",
   "execution_count": 49,
   "metadata": {
    "execution": {
     "iopub.execute_input": "2021-01-17T15:35:38.756900Z",
     "iopub.status.busy": "2021-01-17T15:35:38.756198Z",
     "iopub.status.idle": "2021-01-17T15:35:38.759517Z",
     "shell.execute_reply": "2021-01-17T15:35:38.760148Z"
    },
    "papermill": {
     "duration": 0.11103,
     "end_time": "2021-01-17T15:35:38.760304",
     "exception": false,
     "start_time": "2021-01-17T15:35:38.649274",
     "status": "completed"
    },
    "tags": []
   },
   "outputs": [],
   "source": [
    "#training data\n",
    "training_data['Age']=training_data['Age'].fillna(training_data['Age'].median())\n",
    "\n",
    "#test data\n",
    "test_data['Age']=test_data['Age'].fillna(test_data['Age'].median())"
   ]
  },
  {
   "cell_type": "code",
   "execution_count": 50,
   "metadata": {
    "execution": {
     "iopub.execute_input": "2021-01-17T15:35:38.972062Z",
     "iopub.status.busy": "2021-01-17T15:35:38.971330Z",
     "iopub.status.idle": "2021-01-17T15:35:38.993513Z",
     "shell.execute_reply": "2021-01-17T15:35:38.994030Z"
    },
    "papermill": {
     "duration": 0.129073,
     "end_time": "2021-01-17T15:35:38.994189",
     "exception": false,
     "start_time": "2021-01-17T15:35:38.865116",
     "status": "completed"
    },
    "tags": []
   },
   "outputs": [],
   "source": [
    "#training data\n",
    "training_data['Age_band']=0\n",
    "training_data.loc[training_data['Age']<=16,'Age_band']=0\n",
    "training_data.loc[(training_data['Age']>16)&(training_data['Age']<=32),'Age_band']=1\n",
    "training_data.loc[(training_data['Age']>32)&(training_data['Age']<=48),'Age_band']=2\n",
    "training_data.loc[(training_data['Age']>48)&(training_data['Age']<=64),'Age_band']=3\n",
    "training_data.loc[training_data['Age']>64,'Age_band']=4\n",
    "\n",
    "#test data\n",
    "test_data['Age_band']=0\n",
    "test_data.loc[test_data['Age']<=16,'Age_band']=0\n",
    "test_data.loc[(test_data['Age']>16)&(test_data['Age']<=32),'Age_band']=1\n",
    "test_data.loc[(test_data['Age']>32)&(test_data['Age']<=48),'Age_band']=2\n",
    "test_data.loc[(test_data['Age']>48)&(test_data['Age']<=64),'Age_band']=3\n",
    "test_data.loc[test_data['Age']>64,'Age_band']=4"
   ]
  },
  {
   "cell_type": "code",
   "execution_count": 51,
   "metadata": {
    "execution": {
     "iopub.execute_input": "2021-01-17T15:35:39.202055Z",
     "iopub.status.busy": "2021-01-17T15:35:39.201049Z",
     "iopub.status.idle": "2021-01-17T15:35:39.217927Z",
     "shell.execute_reply": "2021-01-17T15:35:39.218376Z"
    },
    "papermill": {
     "duration": 0.121942,
     "end_time": "2021-01-17T15:35:39.218518",
     "exception": false,
     "start_time": "2021-01-17T15:35:39.096576",
     "status": "completed"
    },
    "tags": []
   },
   "outputs": [
    {
     "data": {
      "text/html": [
       "<div>\n",
       "<style scoped>\n",
       "    .dataframe tbody tr th:only-of-type {\n",
       "        vertical-align: middle;\n",
       "    }\n",
       "\n",
       "    .dataframe tbody tr th {\n",
       "        vertical-align: top;\n",
       "    }\n",
       "\n",
       "    .dataframe thead th {\n",
       "        text-align: right;\n",
       "    }\n",
       "</style>\n",
       "<table border=\"1\" class=\"dataframe\">\n",
       "  <thead>\n",
       "    <tr style=\"text-align: right;\">\n",
       "      <th></th>\n",
       "      <th>PassengerId</th>\n",
       "      <th>Survived</th>\n",
       "      <th>Pclass</th>\n",
       "      <th>Name</th>\n",
       "      <th>Sex</th>\n",
       "      <th>Age</th>\n",
       "      <th>SibSp</th>\n",
       "      <th>Parch</th>\n",
       "      <th>Ticket</th>\n",
       "      <th>Fare</th>\n",
       "      <th>Cabin</th>\n",
       "      <th>Embarked</th>\n",
       "      <th>Title</th>\n",
       "      <th>Ticket2</th>\n",
       "      <th>Age_band</th>\n",
       "    </tr>\n",
       "  </thead>\n",
       "  <tbody>\n",
       "    <tr>\n",
       "      <th>0</th>\n",
       "      <td>1</td>\n",
       "      <td>0</td>\n",
       "      <td>3</td>\n",
       "      <td>Braund, Mr. Owen Harris</td>\n",
       "      <td>male</td>\n",
       "      <td>22.0</td>\n",
       "      <td>1</td>\n",
       "      <td>0</td>\n",
       "      <td>A/5 21171</td>\n",
       "      <td>7.2500</td>\n",
       "      <td>X</td>\n",
       "      <td>S</td>\n",
       "      <td>2</td>\n",
       "      <td>Letter</td>\n",
       "      <td>1</td>\n",
       "    </tr>\n",
       "    <tr>\n",
       "      <th>1</th>\n",
       "      <td>2</td>\n",
       "      <td>1</td>\n",
       "      <td>1</td>\n",
       "      <td>Cumings, Mrs. John Bradley (Florence Briggs Th...</td>\n",
       "      <td>female</td>\n",
       "      <td>38.0</td>\n",
       "      <td>1</td>\n",
       "      <td>0</td>\n",
       "      <td>PC 17599</td>\n",
       "      <td>71.2833</td>\n",
       "      <td>C</td>\n",
       "      <td>C</td>\n",
       "      <td>1</td>\n",
       "      <td>Letter</td>\n",
       "      <td>2</td>\n",
       "    </tr>\n",
       "    <tr>\n",
       "      <th>2</th>\n",
       "      <td>3</td>\n",
       "      <td>1</td>\n",
       "      <td>3</td>\n",
       "      <td>Heikkinen, Miss. Laina</td>\n",
       "      <td>female</td>\n",
       "      <td>26.0</td>\n",
       "      <td>0</td>\n",
       "      <td>0</td>\n",
       "      <td>STON/O2. 3101282</td>\n",
       "      <td>7.9250</td>\n",
       "      <td>X</td>\n",
       "      <td>S</td>\n",
       "      <td>1</td>\n",
       "      <td>Letter</td>\n",
       "      <td>1</td>\n",
       "    </tr>\n",
       "  </tbody>\n",
       "</table>\n",
       "</div>"
      ],
      "text/plain": [
       "   PassengerId  Survived  Pclass  \\\n",
       "0            1         0       3   \n",
       "1            2         1       1   \n",
       "2            3         1       3   \n",
       "\n",
       "                                                Name     Sex   Age  SibSp  \\\n",
       "0                            Braund, Mr. Owen Harris    male  22.0      1   \n",
       "1  Cumings, Mrs. John Bradley (Florence Briggs Th...  female  38.0      1   \n",
       "2                             Heikkinen, Miss. Laina  female  26.0      0   \n",
       "\n",
       "   Parch            Ticket     Fare Cabin Embarked  Title Ticket2  Age_band  \n",
       "0      0         A/5 21171   7.2500     X        S      2  Letter         1  \n",
       "1      0          PC 17599  71.2833     C        C      1  Letter         2  \n",
       "2      0  STON/O2. 3101282   7.9250     X        S      1  Letter         1  "
      ]
     },
     "execution_count": 51,
     "metadata": {},
     "output_type": "execute_result"
    }
   ],
   "source": [
    "training_data.head(3)"
   ]
  },
  {
   "cell_type": "markdown",
   "metadata": {
    "papermill": {
     "duration": 0.101992,
     "end_time": "2021-01-17T15:35:39.423032",
     "exception": false,
     "start_time": "2021-01-17T15:35:39.321040",
     "status": "completed"
    },
    "tags": []
   },
   "source": [
    "### 3.2 Family size\n",
    "It would also make sense to combine the SibSp and Parch variables into a single one that will be named Familysize"
   ]
  },
  {
   "cell_type": "code",
   "execution_count": 52,
   "metadata": {
    "execution": {
     "iopub.execute_input": "2021-01-17T15:35:39.635468Z",
     "iopub.status.busy": "2021-01-17T15:35:39.634428Z",
     "iopub.status.idle": "2021-01-17T15:35:39.641670Z",
     "shell.execute_reply": "2021-01-17T15:35:39.642139Z"
    },
    "papermill": {
     "duration": 0.11486,
     "end_time": "2021-01-17T15:35:39.642289",
     "exception": false,
     "start_time": "2021-01-17T15:35:39.527429",
     "status": "completed"
    },
    "tags": []
   },
   "outputs": [],
   "source": [
    "# Creating family size variable\n",
    "\n",
    "#training data\n",
    "training_data[\"Familysize\"] = training_data[\"SibSp\"] + training_data[\"Parch\"] + 1\n",
    "\n",
    "#test data\n",
    "test_data[\"Familysize\"] = test_data[\"SibSp\"] + test_data[\"Parch\"] + 1"
   ]
  },
  {
   "cell_type": "code",
   "execution_count": 53,
   "metadata": {
    "execution": {
     "iopub.execute_input": "2021-01-17T15:35:39.853247Z",
     "iopub.status.busy": "2021-01-17T15:35:39.852240Z",
     "iopub.status.idle": "2021-01-17T15:35:40.356525Z",
     "shell.execute_reply": "2021-01-17T15:35:40.357042Z"
    },
    "papermill": {
     "duration": 0.610893,
     "end_time": "2021-01-17T15:35:40.357195",
     "exception": false,
     "start_time": "2021-01-17T15:35:39.746302",
     "status": "completed"
    },
    "tags": []
   },
   "outputs": [
    {
     "name": "stderr",
     "output_type": "stream",
     "text": [
      "/opt/conda/lib/python3.7/site-packages/seaborn/categorical.py:3669: UserWarning: The `factorplot` function has been renamed to `catplot`. The original name will be removed in a future release. Please update your code. Note that the default `kind` in `factorplot` (`'point'`) has changed `'strip'` in `catplot`.\n",
      "  warnings.warn(msg)\n"
     ]
    },
    {
     "data": {
      "text/plain": [
       "<seaborn.axisgrid.FacetGrid at 0x7f5918c59a90>"
      ]
     },
     "execution_count": 53,
     "metadata": {},
     "output_type": "execute_result"
    },
    {
     "data": {
      "image/png": "[encoded data removed]",
      "text/plain": [
       "<Figure size 360x360 with 1 Axes>"
      ]
     },
     "metadata": {
      "needs_background": "light"
     },
     "output_type": "display_data"
    }
   ],
   "source": [
    "sns.factorplot(x=\"Familysize\",y=\"Survived\",data = training_data, kind='bar')"
   ]
  },
  {
   "cell_type": "markdown",
   "metadata": {
    "papermill": {
     "duration": 0.106656,
     "end_time": "2021-01-17T15:35:40.569190",
     "exception": false,
     "start_time": "2021-01-17T15:35:40.462534",
     "status": "completed"
    },
    "tags": []
   },
   "source": [
    "3.3 Fare\n",
    "\n",
    "It would be a good idea to turn Fare into a categorical variable as well. I will use 3 bins."
   ]
  },
  {
   "cell_type": "code",
   "execution_count": 54,
   "metadata": {
    "execution": {
     "iopub.execute_input": "2021-01-17T15:35:40.802470Z",
     "iopub.status.busy": "2021-01-17T15:35:40.797334Z",
     "iopub.status.idle": "2021-01-17T15:35:40.808487Z",
     "shell.execute_reply": "2021-01-17T15:35:40.808992Z"
    },
    "papermill": {
     "duration": 0.134206,
     "end_time": "2021-01-17T15:35:40.809144",
     "exception": false,
     "start_time": "2021-01-17T15:35:40.674938",
     "status": "completed"
    },
    "tags": []
   },
   "outputs": [
    {
     "data": {
      "text/html": [
       "<div>\n",
       "<style scoped>\n",
       "    .dataframe tbody tr th:only-of-type {\n",
       "        vertical-align: middle;\n",
       "    }\n",
       "\n",
       "    .dataframe tbody tr th {\n",
       "        vertical-align: top;\n",
       "    }\n",
       "\n",
       "    .dataframe thead th {\n",
       "        text-align: right;\n",
       "    }\n",
       "</style>\n",
       "<table border=\"1\" class=\"dataframe\">\n",
       "  <thead>\n",
       "    <tr style=\"text-align: right;\">\n",
       "      <th></th>\n",
       "      <th>Survived</th>\n",
       "    </tr>\n",
       "    <tr>\n",
       "      <th>Fare_Range</th>\n",
       "      <th></th>\n",
       "    </tr>\n",
       "  </thead>\n",
       "  <tbody>\n",
       "    <tr>\n",
       "      <th>(-0.001, 8.662]</th>\n",
       "      <td>0.198052</td>\n",
       "    </tr>\n",
       "    <tr>\n",
       "      <th>(8.662, 26.0]</th>\n",
       "      <td>0.402778</td>\n",
       "    </tr>\n",
       "    <tr>\n",
       "      <th>(26.0, 512.329]</th>\n",
       "      <td>0.559322</td>\n",
       "    </tr>\n",
       "  </tbody>\n",
       "</table>\n",
       "</div>"
      ],
      "text/plain": [
       "                 Survived\n",
       "Fare_Range               \n",
       "(-0.001, 8.662]  0.198052\n",
       "(8.662, 26.0]    0.402778\n",
       "(26.0, 512.329]  0.559322"
      ]
     },
     "execution_count": 54,
     "metadata": {},
     "output_type": "execute_result"
    }
   ],
   "source": [
    "training_data['Fare_Range']=pd.qcut(training_data['Fare'],3)\n",
    "training_data.groupby(['Fare_Range'])['Survived'].mean().to_frame()"
   ]
  },
  {
   "cell_type": "code",
   "execution_count": 55,
   "metadata": {
    "execution": {
     "iopub.execute_input": "2021-01-17T15:35:41.035324Z",
     "iopub.status.busy": "2021-01-17T15:35:41.034360Z",
     "iopub.status.idle": "2021-01-17T15:35:41.037473Z",
     "shell.execute_reply": "2021-01-17T15:35:41.036787Z"
    },
    "papermill": {
     "duration": 0.122405,
     "end_time": "2021-01-17T15:35:41.037619",
     "exception": false,
     "start_time": "2021-01-17T15:35:40.915214",
     "status": "completed"
    },
    "tags": []
   },
   "outputs": [],
   "source": [
    "#training data\n",
    "training_data['Fare_cat']=0\n",
    "training_data.loc[training_data['Fare']<=8.662,'Fare_cat']=0\n",
    "training_data.loc[(training_data['Fare']>8.662)&(training_data['Fare']<=26.0),'Fare_cat']=1\n",
    "training_data.loc[(training_data['Fare']>26.0)&(training_data['Fare']<=513),'Fare_cat']=2\n",
    "training_data.head()\n",
    "\n",
    "#test data\n",
    "test_data['Fare']=test_data['Fare'].fillna(test_data['Fare'].mean())#replacing the one missing value with the mean"
   ]
  },
  {
   "cell_type": "code",
   "execution_count": 56,
   "metadata": {
    "execution": {
     "iopub.execute_input": "2021-01-17T15:35:41.259431Z",
     "iopub.status.busy": "2021-01-17T15:35:41.258635Z",
     "iopub.status.idle": "2021-01-17T15:35:41.283302Z",
     "shell.execute_reply": "2021-01-17T15:35:41.282740Z"
    },
    "papermill": {
     "duration": 0.138469,
     "end_time": "2021-01-17T15:35:41.283428",
     "exception": false,
     "start_time": "2021-01-17T15:35:41.144959",
     "status": "completed"
    },
    "tags": []
   },
   "outputs": [
    {
     "data": {
      "text/html": [
       "<div>\n",
       "<style scoped>\n",
       "    .dataframe tbody tr th:only-of-type {\n",
       "        vertical-align: middle;\n",
       "    }\n",
       "\n",
       "    .dataframe tbody tr th {\n",
       "        vertical-align: top;\n",
       "    }\n",
       "\n",
       "    .dataframe thead th {\n",
       "        text-align: right;\n",
       "    }\n",
       "</style>\n",
       "<table border=\"1\" class=\"dataframe\">\n",
       "  <thead>\n",
       "    <tr style=\"text-align: right;\">\n",
       "      <th></th>\n",
       "      <th>PassengerId</th>\n",
       "      <th>Pclass</th>\n",
       "      <th>Name</th>\n",
       "      <th>Sex</th>\n",
       "      <th>Age</th>\n",
       "      <th>SibSp</th>\n",
       "      <th>Parch</th>\n",
       "      <th>Ticket</th>\n",
       "      <th>Fare</th>\n",
       "      <th>Cabin</th>\n",
       "      <th>Embarked</th>\n",
       "      <th>Title</th>\n",
       "      <th>Age_band</th>\n",
       "      <th>Familysize</th>\n",
       "      <th>Fare_cat</th>\n",
       "    </tr>\n",
       "  </thead>\n",
       "  <tbody>\n",
       "    <tr>\n",
       "      <th>0</th>\n",
       "      <td>892</td>\n",
       "      <td>3</td>\n",
       "      <td>Kelly, Mr. James</td>\n",
       "      <td>male</td>\n",
       "      <td>34.5</td>\n",
       "      <td>0</td>\n",
       "      <td>0</td>\n",
       "      <td>330911</td>\n",
       "      <td>7.8292</td>\n",
       "      <td>NaN</td>\n",
       "      <td>Q</td>\n",
       "      <td>2</td>\n",
       "      <td>2</td>\n",
       "      <td>1</td>\n",
       "      <td>0</td>\n",
       "    </tr>\n",
       "    <tr>\n",
       "      <th>1</th>\n",
       "      <td>893</td>\n",
       "      <td>3</td>\n",
       "      <td>Wilkes, Mrs. James (Ellen Needs)</td>\n",
       "      <td>female</td>\n",
       "      <td>47.0</td>\n",
       "      <td>1</td>\n",
       "      <td>0</td>\n",
       "      <td>363272</td>\n",
       "      <td>7.0000</td>\n",
       "      <td>NaN</td>\n",
       "      <td>S</td>\n",
       "      <td>1</td>\n",
       "      <td>2</td>\n",
       "      <td>2</td>\n",
       "      <td>0</td>\n",
       "    </tr>\n",
       "    <tr>\n",
       "      <th>2</th>\n",
       "      <td>894</td>\n",
       "      <td>2</td>\n",
       "      <td>Myles, Mr. Thomas Francis</td>\n",
       "      <td>male</td>\n",
       "      <td>62.0</td>\n",
       "      <td>0</td>\n",
       "      <td>0</td>\n",
       "      <td>240276</td>\n",
       "      <td>9.6875</td>\n",
       "      <td>NaN</td>\n",
       "      <td>Q</td>\n",
       "      <td>2</td>\n",
       "      <td>3</td>\n",
       "      <td>1</td>\n",
       "      <td>1</td>\n",
       "    </tr>\n",
       "    <tr>\n",
       "      <th>3</th>\n",
       "      <td>895</td>\n",
       "      <td>3</td>\n",
       "      <td>Wirz, Mr. Albert</td>\n",
       "      <td>male</td>\n",
       "      <td>27.0</td>\n",
       "      <td>0</td>\n",
       "      <td>0</td>\n",
       "      <td>315154</td>\n",
       "      <td>8.6625</td>\n",
       "      <td>NaN</td>\n",
       "      <td>S</td>\n",
       "      <td>2</td>\n",
       "      <td>1</td>\n",
       "      <td>1</td>\n",
       "      <td>1</td>\n",
       "    </tr>\n",
       "    <tr>\n",
       "      <th>4</th>\n",
       "      <td>896</td>\n",
       "      <td>3</td>\n",
       "      <td>Hirvonen, Mrs. Alexander (Helga E Lindqvist)</td>\n",
       "      <td>female</td>\n",
       "      <td>22.0</td>\n",
       "      <td>1</td>\n",
       "      <td>1</td>\n",
       "      <td>3101298</td>\n",
       "      <td>12.2875</td>\n",
       "      <td>NaN</td>\n",
       "      <td>S</td>\n",
       "      <td>1</td>\n",
       "      <td>1</td>\n",
       "      <td>3</td>\n",
       "      <td>1</td>\n",
       "    </tr>\n",
       "  </tbody>\n",
       "</table>\n",
       "</div>"
      ],
      "text/plain": [
       "   PassengerId  Pclass                                          Name     Sex  \\\n",
       "0          892       3                              Kelly, Mr. James    male   \n",
       "1          893       3              Wilkes, Mrs. James (Ellen Needs)  female   \n",
       "2          894       2                     Myles, Mr. Thomas Francis    male   \n",
       "3          895       3                              Wirz, Mr. Albert    male   \n",
       "4          896       3  Hirvonen, Mrs. Alexander (Helga E Lindqvist)  female   \n",
       "\n",
       "    Age  SibSp  Parch   Ticket     Fare Cabin Embarked  Title  Age_band  \\\n",
       "0  34.5      0      0   330911   7.8292   NaN        Q      2         2   \n",
       "1  47.0      1      0   363272   7.0000   NaN        S      1         2   \n",
       "2  62.0      0      0   240276   9.6875   NaN        Q      2         3   \n",
       "3  27.0      0      0   315154   8.6625   NaN        S      2         1   \n",
       "4  22.0      1      1  3101298  12.2875   NaN        S      1         1   \n",
       "\n",
       "   Familysize  Fare_cat  \n",
       "0           1         0  \n",
       "1           2         0  \n",
       "2           1         1  \n",
       "3           1         1  \n",
       "4           3         1  "
      ]
     },
     "execution_count": 56,
     "metadata": {},
     "output_type": "execute_result"
    }
   ],
   "source": [
    "#test data\n",
    "test_data['Fare_cat']=0\n",
    "test_data.loc[test_data['Fare']<=8.662,'Fare_cat']=0\n",
    "test_data.loc[(test_data['Fare']>8.662)&(test_data['Fare']<=26.0),'Fare_cat']=1\n",
    "test_data.loc[(test_data['Fare']>26.0)&(test_data['Fare']<=513),'Fare_cat']=2\n",
    "test_data.head()"
   ]
  },
  {
   "cell_type": "markdown",
   "metadata": {
    "papermill": {
     "duration": 0.106713,
     "end_time": "2021-01-17T15:35:41.496974",
     "exception": false,
     "start_time": "2021-01-17T15:35:41.390261",
     "status": "completed"
    },
    "tags": []
   },
   "source": [
    "Lastly, the variables Sex and Embarked need to be remapped."
   ]
  },
  {
   "cell_type": "code",
   "execution_count": 57,
   "metadata": {
    "execution": {
     "iopub.execute_input": "2021-01-17T15:35:41.726150Z",
     "iopub.status.busy": "2021-01-17T15:35:41.725328Z",
     "iopub.status.idle": "2021-01-17T15:35:41.728665Z",
     "shell.execute_reply": "2021-01-17T15:35:41.728102Z"
    },
    "papermill": {
     "duration": 0.125637,
     "end_time": "2021-01-17T15:35:41.728788",
     "exception": false,
     "start_time": "2021-01-17T15:35:41.603151",
     "status": "completed"
    },
    "tags": []
   },
   "outputs": [],
   "source": [
    "#training data\n",
    "training_data['Sex']=training_data['Sex'].map({'male':0,\"female\":1})\n",
    "training_data['Embarked']=training_data['Embarked'].map({'S':0,\"C\":1,\"Q\":2})\n",
    "\n",
    "#test data\n",
    "test_data['Sex']=test_data['Sex'].map({'male':0,\"female\":1})\n",
    "test_data['Embarked']=test_data['Embarked'].map({'S':0,\"C\":1,\"Q\":2})"
   ]
  },
  {
   "cell_type": "markdown",
   "metadata": {
    "papermill": {
     "duration": 0.107169,
     "end_time": "2021-01-17T15:35:41.943666",
     "exception": false,
     "start_time": "2021-01-17T15:35:41.836497",
     "status": "completed"
    },
    "tags": []
   },
   "source": [
    "Now that everything is ready I will create the X and Y variables for modelling."
   ]
  },
  {
   "cell_type": "code",
   "execution_count": 58,
   "metadata": {
    "execution": {
     "iopub.execute_input": "2021-01-17T15:35:42.181090Z",
     "iopub.status.busy": "2021-01-17T15:35:42.170868Z",
     "iopub.status.idle": "2021-01-17T15:35:42.185945Z",
     "shell.execute_reply": "2021-01-17T15:35:42.185308Z"
    },
    "papermill": {
     "duration": 0.132703,
     "end_time": "2021-01-17T15:35:42.186058",
     "exception": false,
     "start_time": "2021-01-17T15:35:42.053355",
     "status": "completed"
    },
    "tags": []
   },
   "outputs": [
    {
     "data": {
      "text/html": [
       "<div>\n",
       "<style scoped>\n",
       "    .dataframe tbody tr th:only-of-type {\n",
       "        vertical-align: middle;\n",
       "    }\n",
       "\n",
       "    .dataframe tbody tr th {\n",
       "        vertical-align: top;\n",
       "    }\n",
       "\n",
       "    .dataframe thead th {\n",
       "        text-align: right;\n",
       "    }\n",
       "</style>\n",
       "<table border=\"1\" class=\"dataframe\">\n",
       "  <thead>\n",
       "    <tr style=\"text-align: right;\">\n",
       "      <th></th>\n",
       "      <th>Pclass</th>\n",
       "      <th>Sex</th>\n",
       "      <th>Embarked</th>\n",
       "      <th>Title</th>\n",
       "      <th>Age_band</th>\n",
       "      <th>Familysize</th>\n",
       "      <th>Fare_cat</th>\n",
       "    </tr>\n",
       "  </thead>\n",
       "  <tbody>\n",
       "    <tr>\n",
       "      <th>0</th>\n",
       "      <td>3</td>\n",
       "      <td>0</td>\n",
       "      <td>0</td>\n",
       "      <td>2</td>\n",
       "      <td>1</td>\n",
       "      <td>2</td>\n",
       "      <td>0</td>\n",
       "    </tr>\n",
       "    <tr>\n",
       "      <th>1</th>\n",
       "      <td>1</td>\n",
       "      <td>1</td>\n",
       "      <td>1</td>\n",
       "      <td>1</td>\n",
       "      <td>2</td>\n",
       "      <td>2</td>\n",
       "      <td>2</td>\n",
       "    </tr>\n",
       "    <tr>\n",
       "      <th>2</th>\n",
       "      <td>3</td>\n",
       "      <td>1</td>\n",
       "      <td>0</td>\n",
       "      <td>1</td>\n",
       "      <td>1</td>\n",
       "      <td>1</td>\n",
       "      <td>0</td>\n",
       "    </tr>\n",
       "    <tr>\n",
       "      <th>3</th>\n",
       "      <td>1</td>\n",
       "      <td>1</td>\n",
       "      <td>0</td>\n",
       "      <td>1</td>\n",
       "      <td>2</td>\n",
       "      <td>2</td>\n",
       "      <td>2</td>\n",
       "    </tr>\n",
       "    <tr>\n",
       "      <th>4</th>\n",
       "      <td>3</td>\n",
       "      <td>0</td>\n",
       "      <td>0</td>\n",
       "      <td>2</td>\n",
       "      <td>2</td>\n",
       "      <td>1</td>\n",
       "      <td>0</td>\n",
       "    </tr>\n",
       "    <tr>\n",
       "      <th>...</th>\n",
       "      <td>...</td>\n",
       "      <td>...</td>\n",
       "      <td>...</td>\n",
       "      <td>...</td>\n",
       "      <td>...</td>\n",
       "      <td>...</td>\n",
       "      <td>...</td>\n",
       "    </tr>\n",
       "    <tr>\n",
       "      <th>886</th>\n",
       "      <td>2</td>\n",
       "      <td>0</td>\n",
       "      <td>0</td>\n",
       "      <td>3</td>\n",
       "      <td>1</td>\n",
       "      <td>1</td>\n",
       "      <td>1</td>\n",
       "    </tr>\n",
       "    <tr>\n",
       "      <th>887</th>\n",
       "      <td>1</td>\n",
       "      <td>1</td>\n",
       "      <td>0</td>\n",
       "      <td>1</td>\n",
       "      <td>1</td>\n",
       "      <td>1</td>\n",
       "      <td>2</td>\n",
       "    </tr>\n",
       "    <tr>\n",
       "      <th>888</th>\n",
       "      <td>3</td>\n",
       "      <td>1</td>\n",
       "      <td>0</td>\n",
       "      <td>1</td>\n",
       "      <td>1</td>\n",
       "      <td>4</td>\n",
       "      <td>1</td>\n",
       "    </tr>\n",
       "    <tr>\n",
       "      <th>889</th>\n",
       "      <td>1</td>\n",
       "      <td>0</td>\n",
       "      <td>1</td>\n",
       "      <td>2</td>\n",
       "      <td>1</td>\n",
       "      <td>1</td>\n",
       "      <td>2</td>\n",
       "    </tr>\n",
       "    <tr>\n",
       "      <th>890</th>\n",
       "      <td>3</td>\n",
       "      <td>0</td>\n",
       "      <td>2</td>\n",
       "      <td>2</td>\n",
       "      <td>1</td>\n",
       "      <td>1</td>\n",
       "      <td>0</td>\n",
       "    </tr>\n",
       "  </tbody>\n",
       "</table>\n",
       "<p>891 rows × 7 columns</p>\n",
       "</div>"
      ],
      "text/plain": [
       "     Pclass  Sex  Embarked  Title  Age_band  Familysize  Fare_cat\n",
       "0         3    0         0      2         1           2         0\n",
       "1         1    1         1      1         2           2         2\n",
       "2         3    1         0      1         1           1         0\n",
       "3         1    1         0      1         2           2         2\n",
       "4         3    0         0      2         2           1         0\n",
       "..      ...  ...       ...    ...       ...         ...       ...\n",
       "886       2    0         0      3         1           1         1\n",
       "887       1    1         0      1         1           1         2\n",
       "888       3    1         0      1         1           4         1\n",
       "889       1    0         1      2         1           1         2\n",
       "890       3    0         2      2         1           1         0\n",
       "\n",
       "[891 rows x 7 columns]"
      ]
     },
     "execution_count": 58,
     "metadata": {},
     "output_type": "execute_result"
    }
   ],
   "source": [
    "#creating variables for training\n",
    "X_train=training_data.drop(labels = ['PassengerId','Survived','Name','Age','SibSp','Parch','Ticket','Fare','Ticket2',\n",
    "                           'Fare_Range','Cabin'], axis=1)\n",
    "Y_train=training_data['Survived']\n",
    "X_train"
   ]
  },
  {
   "cell_type": "code",
   "execution_count": 59,
   "metadata": {
    "execution": {
     "iopub.execute_input": "2021-01-17T15:35:42.416613Z",
     "iopub.status.busy": "2021-01-17T15:35:42.415637Z",
     "iopub.status.idle": "2021-01-17T15:35:42.420503Z",
     "shell.execute_reply": "2021-01-17T15:35:42.419807Z"
    },
    "papermill": {
     "duration": 0.126673,
     "end_time": "2021-01-17T15:35:42.420666",
     "exception": false,
     "start_time": "2021-01-17T15:35:42.293993",
     "status": "completed"
    },
    "tags": []
   },
   "outputs": [
    {
     "data": {
      "text/html": [
       "<div>\n",
       "<style scoped>\n",
       "    .dataframe tbody tr th:only-of-type {\n",
       "        vertical-align: middle;\n",
       "    }\n",
       "\n",
       "    .dataframe tbody tr th {\n",
       "        vertical-align: top;\n",
       "    }\n",
       "\n",
       "    .dataframe thead th {\n",
       "        text-align: right;\n",
       "    }\n",
       "</style>\n",
       "<table border=\"1\" class=\"dataframe\">\n",
       "  <thead>\n",
       "    <tr style=\"text-align: right;\">\n",
       "      <th></th>\n",
       "      <th>Pclass</th>\n",
       "      <th>Sex</th>\n",
       "      <th>Embarked</th>\n",
       "      <th>Title</th>\n",
       "      <th>Age_band</th>\n",
       "      <th>Familysize</th>\n",
       "      <th>Fare_cat</th>\n",
       "    </tr>\n",
       "  </thead>\n",
       "  <tbody>\n",
       "    <tr>\n",
       "      <th>0</th>\n",
       "      <td>3</td>\n",
       "      <td>0</td>\n",
       "      <td>2</td>\n",
       "      <td>2</td>\n",
       "      <td>2</td>\n",
       "      <td>1</td>\n",
       "      <td>0</td>\n",
       "    </tr>\n",
       "    <tr>\n",
       "      <th>1</th>\n",
       "      <td>3</td>\n",
       "      <td>1</td>\n",
       "      <td>0</td>\n",
       "      <td>1</td>\n",
       "      <td>2</td>\n",
       "      <td>2</td>\n",
       "      <td>0</td>\n",
       "    </tr>\n",
       "    <tr>\n",
       "      <th>2</th>\n",
       "      <td>2</td>\n",
       "      <td>0</td>\n",
       "      <td>2</td>\n",
       "      <td>2</td>\n",
       "      <td>3</td>\n",
       "      <td>1</td>\n",
       "      <td>1</td>\n",
       "    </tr>\n",
       "    <tr>\n",
       "      <th>3</th>\n",
       "      <td>3</td>\n",
       "      <td>0</td>\n",
       "      <td>0</td>\n",
       "      <td>2</td>\n",
       "      <td>1</td>\n",
       "      <td>1</td>\n",
       "      <td>1</td>\n",
       "    </tr>\n",
       "    <tr>\n",
       "      <th>4</th>\n",
       "      <td>3</td>\n",
       "      <td>1</td>\n",
       "      <td>0</td>\n",
       "      <td>1</td>\n",
       "      <td>1</td>\n",
       "      <td>3</td>\n",
       "      <td>1</td>\n",
       "    </tr>\n",
       "    <tr>\n",
       "      <th>...</th>\n",
       "      <td>...</td>\n",
       "      <td>...</td>\n",
       "      <td>...</td>\n",
       "      <td>...</td>\n",
       "      <td>...</td>\n",
       "      <td>...</td>\n",
       "      <td>...</td>\n",
       "    </tr>\n",
       "    <tr>\n",
       "      <th>413</th>\n",
       "      <td>3</td>\n",
       "      <td>0</td>\n",
       "      <td>0</td>\n",
       "      <td>2</td>\n",
       "      <td>1</td>\n",
       "      <td>1</td>\n",
       "      <td>0</td>\n",
       "    </tr>\n",
       "    <tr>\n",
       "      <th>414</th>\n",
       "      <td>1</td>\n",
       "      <td>1</td>\n",
       "      <td>1</td>\n",
       "      <td>3</td>\n",
       "      <td>2</td>\n",
       "      <td>1</td>\n",
       "      <td>2</td>\n",
       "    </tr>\n",
       "    <tr>\n",
       "      <th>415</th>\n",
       "      <td>3</td>\n",
       "      <td>0</td>\n",
       "      <td>0</td>\n",
       "      <td>2</td>\n",
       "      <td>2</td>\n",
       "      <td>1</td>\n",
       "      <td>0</td>\n",
       "    </tr>\n",
       "    <tr>\n",
       "      <th>416</th>\n",
       "      <td>3</td>\n",
       "      <td>0</td>\n",
       "      <td>0</td>\n",
       "      <td>2</td>\n",
       "      <td>1</td>\n",
       "      <td>1</td>\n",
       "      <td>0</td>\n",
       "    </tr>\n",
       "    <tr>\n",
       "      <th>417</th>\n",
       "      <td>3</td>\n",
       "      <td>0</td>\n",
       "      <td>1</td>\n",
       "      <td>0</td>\n",
       "      <td>1</td>\n",
       "      <td>3</td>\n",
       "      <td>1</td>\n",
       "    </tr>\n",
       "  </tbody>\n",
       "</table>\n",
       "<p>418 rows × 7 columns</p>\n",
       "</div>"
      ],
      "text/plain": [
       "     Pclass  Sex  Embarked  Title  Age_band  Familysize  Fare_cat\n",
       "0         3    0         2      2         2           1         0\n",
       "1         3    1         0      1         2           2         0\n",
       "2         2    0         2      2         3           1         1\n",
       "3         3    0         0      2         1           1         1\n",
       "4         3    1         0      1         1           3         1\n",
       "..      ...  ...       ...    ...       ...         ...       ...\n",
       "413       3    0         0      2         1           1         0\n",
       "414       1    1         1      3         2           1         2\n",
       "415       3    0         0      2         2           1         0\n",
       "416       3    0         0      2         1           1         0\n",
       "417       3    0         1      0         1           3         1\n",
       "\n",
       "[418 rows x 7 columns]"
      ]
     },
     "execution_count": 59,
     "metadata": {},
     "output_type": "execute_result"
    }
   ],
   "source": [
    "#creating variables for test\n",
    "X_test=test_data.drop(labels = ['PassengerId','Name','Age','SibSp','Parch','Ticket','Fare',\n",
    "                           'Cabin'], axis=1)\n",
    "X_test"
   ]
  },
  {
   "cell_type": "markdown",
   "metadata": {
    "papermill": {
     "duration": 0.108421,
     "end_time": "2021-01-17T15:35:42.639529",
     "exception": false,
     "start_time": "2021-01-17T15:35:42.531108",
     "status": "completed"
    },
    "tags": []
   },
   "source": [
    "### 4. Modelling\n",
    "I will use the main Classification algorithms:\n",
    " - Logistic Regression\n",
    " - KNN\n",
    " - SVM\n",
    " - Naive Bayes\n",
    " - Decision Tree\n",
    " - Random Forest\n",
    " - XGBoost\n",
    "\n",
    "5 fold cross validation will be used."
   ]
  },
  {
   "cell_type": "code",
   "execution_count": 60,
   "metadata": {
    "execution": {
     "iopub.execute_input": "2021-01-17T15:35:42.877308Z",
     "iopub.status.busy": "2021-01-17T15:35:42.871652Z",
     "iopub.status.idle": "2021-01-17T15:35:44.881306Z",
     "shell.execute_reply": "2021-01-17T15:35:44.882200Z"
    },
    "papermill": {
     "duration": 2.134621,
     "end_time": "2021-01-17T15:35:44.882393",
     "exception": false,
     "start_time": "2021-01-17T15:35:42.747772",
     "status": "completed"
    },
    "tags": []
   },
   "outputs": [
    {
     "name": "stdout",
     "output_type": "stream",
     "text": [
      "[0.83240223 0.79213483 0.80898876 0.79775281 0.84831461]\n",
      "0.8159186491745652\n",
      "Logistic Regression:0.82 accuracy with a standard deviation of 0.02\n",
      "[0.76536313 0.7752809  0.8258427  0.80337079 0.85393258]\n",
      "0.804758018956751\n",
      "KNN: 0.80 accuracy with a standard deviation of 0.03\n",
      "[0.81564246 0.8258427  0.81460674 0.79213483 0.78651685]\n",
      "0.8069487163392128\n",
      "SVM: 0.81 accuracy with a standard deviation of 0.02\n",
      "[0.74301676 0.80337079 0.80898876 0.78089888 0.84831461]\n",
      "0.7969179586968803\n",
      "Naive Bayes: 0.80 accuracy with a standard deviation of 0.03\n",
      "[0.77653631 0.80337079 0.79775281 0.81460674 0.83707865]\n",
      "0.8058690603226413\n",
      "Decision Tree: 0.81 accuracy with a standard deviation of 0.02\n",
      "[0.78212291 0.80337079 0.82022472 0.79775281 0.83707865]\n",
      "0.8081099742640137\n",
      "Random Forest: 0.81 accuracy with a standard deviation of 0.02\n",
      "[0.78212291 0.80898876 0.8258427  0.82022472 0.84269663]\n",
      "0.8159751428033394\n",
      "XGBoost: 0.82 accuracy with a standard deviation of 0.02\n",
      "[0.78212291 0.80898876 0.8258427  0.82022472 0.84269663]\n",
      "0.8159751428033394\n",
      "XGBoost: 0.82 accuracy with a standard deviation of 0.02\n"
     ]
    }
   ],
   "source": [
    "#Logistic Regression\n",
    "LR=LogisticRegression(random_state=1)\n",
    "cv = cross_val_score(LR,X_train,Y_train,cv=5 )\n",
    "print(cv)\n",
    "print(cv.mean())\n",
    "print(\"Logistic Regression:%0.2f accuracy with a standard deviation of %0.2f\" % (cv.mean(), cv.std()))\n",
    "\n",
    "#KNN\n",
    "KNN=KNeighborsClassifier(n_neighbors=5, metric=\"minkowski\", p=2,)\n",
    "cv = cross_val_score(KNN,X_train,Y_train,cv=5)\n",
    "print(cv)\n",
    "print(cv.mean())\n",
    "print(\"KNN: %0.2f accuracy with a standard deviation of %0.2f\" % (cv.mean(), cv.std()))\n",
    "\n",
    "#SVM\n",
    "SVM=SVC(kernel='linear', random_state=1)\n",
    "cv = cross_val_score(SVM,X_train,Y_train,cv=5)\n",
    "print(cv)\n",
    "print(cv.mean())\n",
    "print(\"SVM: %0.2f accuracy with a standard deviation of %0.2f\" % (cv.mean(), cv.std()))\n",
    "\n",
    "#Naive bayes\n",
    "NB=GaussianNB()\n",
    "cv = cross_val_score(NB,X_train,Y_train,cv=5)\n",
    "print(cv)\n",
    "print(cv.mean())\n",
    "print(\"Naive Bayes: %0.2f accuracy with a standard deviation of %0.2f\" % (cv.mean(), cv.std()))\n",
    "\n",
    "#Decision Tree\n",
    "DT=DecisionTreeClassifier(criterion='entropy', random_state=1)\n",
    "cv = cross_val_score(DT,X_train,Y_train,cv=5)\n",
    "print(cv)\n",
    "print(cv.mean())\n",
    "print(\"Decision Tree: %0.2f accuracy with a standard deviation of %0.2f\" % (cv.mean(), cv.std()))\n",
    "\n",
    "#Random Forest\n",
    "RF=RandomForestClassifier(n_estimators= 100,criterion='entropy', random_state=1)\n",
    "cv = cross_val_score(RF,X_train,Y_train,cv=5)\n",
    "print(cv)\n",
    "print(cv.mean())\n",
    "print(\"Random Forest: %0.2f accuracy with a standard deviation of %0.2f\" % (cv.mean(), cv.std()))\n",
    "\n",
    "XGB=XGBClassifier(random_state=1)\n",
    "cv = cross_val_score(XGB,X_train,Y_train,cv=5)\n",
    "print(cv)\n",
    "print(cv.mean())\n",
    "print(\"XGBoost: %0.2f accuracy with a standard deviation of %0.2f\" % (cv.mean(), cv.std()))\n",
    "\n",
    "#XGBoost\n",
    "XGB=XGBClassifier(random_state=1)\n",
    "cv = cross_val_score(XGB,X_train,Y_train,cv=5)\n",
    "print(cv)\n",
    "print(cv.mean())\n",
    "print(\"XGBoost: %0.2f accuracy with a standard deviation of %0.2f\" % (cv.mean(), cv.std()))"
   ]
  },
  {
   "cell_type": "markdown",
   "metadata": {
    "papermill": {
     "duration": 0.118994,
     "end_time": "2021-01-17T15:35:45.144368",
     "exception": false,
     "start_time": "2021-01-17T15:35:45.025374",
     "status": "completed"
    },
    "tags": []
   },
   "source": [
    "I'll use gridsearch on the two best performing models: XGBoost and Logistic Regression\n"
   ]
  },
  {
   "cell_type": "code",
   "execution_count": 61,
   "metadata": {
    "execution": {
     "iopub.execute_input": "2021-01-17T15:35:45.372892Z",
     "iopub.status.busy": "2021-01-17T15:35:45.372193Z",
     "iopub.status.idle": "2021-01-17T15:37:48.251135Z",
     "shell.execute_reply": "2021-01-17T15:37:48.249922Z"
    },
    "papermill": {
     "duration": 122.99812,
     "end_time": "2021-01-17T15:37:48.251313",
     "exception": false,
     "start_time": "2021-01-17T15:35:45.253193",
     "status": "completed"
    },
    "tags": []
   },
   "outputs": [
    {
     "name": "stdout",
     "output_type": "stream",
     "text": [
      "Fitting 5 folds for each of 243 candidates, totalling 1215 fits\n"
     ]
    },
    {
     "name": "stderr",
     "output_type": "stream",
     "text": [
      "[Parallel(n_jobs=-1)]: Using backend LokyBackend with 4 concurrent workers.\n",
      "[Parallel(n_jobs=-1)]: Done  42 tasks      | elapsed:    6.7s\n",
      "[Parallel(n_jobs=-1)]: Done 192 tasks      | elapsed:   21.2s\n",
      "[Parallel(n_jobs=-1)]: Done 442 tasks      | elapsed:   46.6s\n",
      "[Parallel(n_jobs=-1)]: Done 792 tasks      | elapsed:  1.3min\n",
      "[Parallel(n_jobs=-1)]: Done 1215 out of 1215 | elapsed:  2.0min finished\n"
     ]
    },
    {
     "name": "stdout",
     "output_type": "stream",
     "text": [
      "best_accuracy: 0.8316238779737619\n",
      "best_parameters: {'colsample_bytree': 0.75, 'gamma': 2, 'learning_rate': 0.5, 'max_depth': None, 'min_child_weight': 0.01, 'n_estimators': 450, 'reg_alpha': 1, 'reg_lambda': 5, 'sampling_method': 'uniform', 'subsample': 0.65}\n"
     ]
    }
   ],
   "source": [
    "#Gridesearch XGB\n",
    "XGB = XGBClassifier(random_state = 1)\n",
    "\n",
    "param_grid = {\n",
    "    'n_estimators': [450,500,550],\n",
    "    'colsample_bytree': [0.75,0.8,0.85],\n",
    "    'max_depth': [None],\n",
    "    'reg_alpha': [1],\n",
    "    'reg_lambda': [2, 5, 10],\n",
    "    'subsample': [0.55, 0.6, .65],\n",
    "    'learning_rate':[0.5],\n",
    "    'gamma':[.5,1,2],\n",
    "    'min_child_weight':[0.01],\n",
    "    'sampling_method': ['uniform']\n",
    "}\n",
    "\n",
    "grid_search=GridSearchCV(XGB, param_grid = param_grid, scoring=\"accuracy\",cv = 5, verbose = True, n_jobs = -1)\n",
    "grid_search.fit(X_train,Y_train)\n",
    "print(\"best_accuracy:\",grid_search.best_score_)\n",
    "print(\"best_parameters:\",grid_search.best_params_)"
   ]
  },
  {
   "cell_type": "code",
   "execution_count": 62,
   "metadata": {
    "execution": {
     "iopub.execute_input": "2021-01-17T15:37:48.494369Z",
     "iopub.status.busy": "2021-01-17T15:37:48.493565Z",
     "iopub.status.idle": "2021-01-17T15:37:49.266922Z",
     "shell.execute_reply": "2021-01-17T15:37:49.266174Z"
    },
    "papermill": {
     "duration": 0.895955,
     "end_time": "2021-01-17T15:37:49.267057",
     "exception": false,
     "start_time": "2021-01-17T15:37:48.371102",
     "status": "completed"
    },
    "tags": []
   },
   "outputs": [
    {
     "name": "stdout",
     "output_type": "stream",
     "text": [
      "Fitting 5 folds for each of 56 candidates, totalling 280 fits\n"
     ]
    },
    {
     "name": "stderr",
     "output_type": "stream",
     "text": [
      "[Parallel(n_jobs=-1)]: Using backend LokyBackend with 4 concurrent workers.\n",
      "[Parallel(n_jobs=-1)]: Done 205 tasks      | elapsed:    0.5s\n"
     ]
    },
    {
     "name": "stdout",
     "output_type": "stream",
     "text": [
      "best_accuracy: 0.819295712761283\n",
      "best_parameters: {'C': 0.1, 'dual': False, 'penalty': 'l2'}\n"
     ]
    },
    {
     "name": "stderr",
     "output_type": "stream",
     "text": [
      "[Parallel(n_jobs=-1)]: Done 280 out of 280 | elapsed:    0.7s finished\n"
     ]
    }
   ],
   "source": [
    "#Gridesearch LogisticRegression\n",
    "\n",
    "param_grid={\"C\":[0.001,0.01,0.1,1,10,100,1000], \n",
    "            \"penalty\":[\"l1\",\"l2\",\"elasticnet\",\"none\"],\n",
    "            \"dual\":[True, False]}# l1 lasso l2 ridge\n",
    "LR=LogisticRegression()\n",
    "grid_search=GridSearchCV(LR, param_grid = param_grid, scoring=\"accuracy\",cv = 5, verbose = True, n_jobs = -1)\n",
    "grid_search.fit(X_train,Y_train)\n",
    "\n",
    "\n",
    "print(\"best_accuracy:\",grid_search.best_score_)\n",
    "print(\"best_parameters:\",grid_search.best_params_)"
   ]
  },
  {
   "cell_type": "markdown",
   "metadata": {
    "papermill": {
     "duration": 0.114697,
     "end_time": "2021-01-17T15:37:49.497450",
     "exception": false,
     "start_time": "2021-01-17T15:37:49.382753",
     "status": "completed"
    },
    "tags": []
   },
   "source": [
    "It looks like XGBoost can grant the best accuracy, so I will tune it with the parameters found using gridsearch and use it for predictions.\n",
    "I also would like to take a look at the variable imporance in terms of \"Gain\"."
   ]
  },
  {
   "cell_type": "code",
   "execution_count": 63,
   "metadata": {
    "execution": {
     "iopub.execute_input": "2021-01-17T15:37:49.729168Z",
     "iopub.status.busy": "2021-01-17T15:37:49.728446Z",
     "iopub.status.idle": "2021-01-17T15:37:49.945164Z",
     "shell.execute_reply": "2021-01-17T15:37:49.945855Z"
    },
    "papermill": {
     "duration": 0.334101,
     "end_time": "2021-01-17T15:37:49.946038",
     "exception": false,
     "start_time": "2021-01-17T15:37:49.611937",
     "status": "completed"
    },
    "tags": []
   },
   "outputs": [
    {
     "name": "stdout",
     "output_type": "stream",
     "text": [
      "Gain: {'Title': 19.73551081728571, 'Sex': 1.7725328427500002, 'Fare_cat': 3.0824809996999996, 'Age_band': 2.3442246475, 'Familysize': 4.137151337466666, 'Pclass': 4.498664081565217, 'Embarked': 1.979800145111111}\n"
     ]
    }
   ],
   "source": [
    "XGB_Tuned=XGBClassifier(colsample_bytree= 0.75, gamma=2, learning_rate= 0.5, max_depth= None, \n",
    "                        min_child_weight=0.01, n_estimators= 450, reg_alpha= 1, \n",
    "                        reg_lambda=5, sampling_method='uniform',subsample=0.65, random_state=1)\n",
    "\n",
    "XGB_Tuned.fit(X_train,Y_train)\n",
    "f = 'gain'\n",
    "print(\"Gain:\",XGB_Tuned.get_booster().get_score(importance_type= f))"
   ]
  },
  {
   "cell_type": "code",
   "execution_count": 64,
   "metadata": {
    "execution": {
     "iopub.execute_input": "2021-01-17T15:37:50.235418Z",
     "iopub.status.busy": "2021-01-17T15:37:50.234478Z",
     "iopub.status.idle": "2021-01-17T15:37:50.387803Z",
     "shell.execute_reply": "2021-01-17T15:37:50.388341Z"
    },
    "papermill": {
     "duration": 0.291581,
     "end_time": "2021-01-17T15:37:50.388486",
     "exception": false,
     "start_time": "2021-01-17T15:37:50.096905",
     "status": "completed"
    },
    "tags": []
   },
   "outputs": [
    {
     "data": {
      "text/plain": [
       "<matplotlib.axes._subplots.AxesSubplot at 0x7f59182de2d0>"
      ]
     },
     "execution_count": 64,
     "metadata": {},
     "output_type": "execute_result"
    },
    {
     "data": {
      "image/png": "[encoded data removed]",
      "text/plain": [
       "<Figure size 432x288 with 1 Axes>"
      ]
     },
     "metadata": {
      "needs_background": "light"
     },
     "output_type": "display_data"
    }
   ],
   "source": [
    "x={'Title': 19.73551081728571, 'Sex': 1.7725328427500002, \n",
    "   'Fare_cat': 3.0824809996999996, 'Age_band': 2.3442246475, 'Familysize': 4.137151337466666, \n",
    "   'Pclass': 4.498664081565217, 'Embarked': 1.979800145111111}\n",
    "df = pd.DataFrame(list(x.items()),columns = ['Feature','Gain']).sort_values(by=['Gain'], ascending=False)\n",
    "sns.barplot(x=df['Gain'],y=df['Feature'])"
   ]
  },
  {
   "cell_type": "code",
   "execution_count": 65,
   "metadata": {
    "execution": {
     "iopub.execute_input": "2021-01-17T15:37:50.625265Z",
     "iopub.status.busy": "2021-01-17T15:37:50.624495Z",
     "iopub.status.idle": "2021-01-17T15:37:50.637592Z",
     "shell.execute_reply": "2021-01-17T15:37:50.638292Z"
    },
    "papermill": {
     "duration": 0.132477,
     "end_time": "2021-01-17T15:37:50.638469",
     "exception": false,
     "start_time": "2021-01-17T15:37:50.505992",
     "status": "completed"
    },
    "tags": []
   },
   "outputs": [
    {
     "data": {
      "text/plain": [
       "array([0, 0, 0, 0, 1, 0, 1, 0, 1, 0, 0, 0, 1, 0, 1, 1, 0, 0, 0, 1, 0, 1,\n",
       "       1, 0, 1, 0, 1, 0, 0, 0, 0, 0, 0, 0, 0, 0, 1, 1, 0, 0, 0, 0, 0, 1,\n",
       "       1, 0, 0, 0, 1, 0, 0, 0, 1, 1, 0, 0, 0, 0, 0, 1, 0, 0, 0, 1, 1, 1,\n",
       "       1, 0, 0, 1, 1, 0, 1, 0, 1, 0, 0, 1, 0, 1, 1, 0, 0, 0, 0, 0, 1, 1,\n",
       "       1, 1, 0, 0, 1, 0, 0, 0, 1, 0, 1, 0, 1, 0, 0, 0, 1, 0, 0, 0, 0, 0,\n",
       "       0, 1, 1, 1, 1, 0, 0, 1, 0, 1, 1, 0, 1, 0, 0, 0, 0, 1, 0, 0, 0, 0,\n",
       "       0, 0, 0, 0, 0, 0, 1, 0, 0, 1, 0, 0, 0, 0, 0, 0, 0, 0, 1, 0, 0, 0,\n",
       "       0, 0, 1, 1, 0, 1, 1, 1, 1, 0, 0, 1, 0, 0, 1, 1, 0, 0, 0, 0, 0, 1,\n",
       "       1, 0, 1, 1, 0, 0, 1, 0, 1, 0, 1, 0, 0, 0, 0, 0, 1, 0, 1, 0, 1, 1,\n",
       "       0, 1, 1, 1, 0, 1, 0, 0, 1, 0, 1, 0, 0, 0, 0, 1, 0, 0, 1, 0, 1, 0,\n",
       "       1, 0, 1, 0, 1, 1, 0, 1, 0, 0, 0, 1, 0, 0, 0, 0, 0, 0, 1, 1, 1, 1,\n",
       "       0, 0, 1, 0, 1, 0, 1, 1, 1, 0, 0, 0, 0, 0, 0, 0, 1, 0, 0, 0, 1, 1,\n",
       "       0, 0, 0, 0, 1, 0, 0, 0, 1, 1, 0, 1, 0, 0, 0, 0, 1, 1, 1, 1, 1, 0,\n",
       "       0, 0, 0, 0, 0, 1, 0, 0, 0, 0, 1, 0, 0, 0, 0, 0, 0, 0, 1, 1, 0, 1,\n",
       "       0, 0, 0, 0, 0, 1, 1, 1, 0, 0, 0, 0, 0, 0, 0, 0, 1, 0, 1, 0, 0, 0,\n",
       "       1, 0, 0, 1, 0, 0, 0, 0, 0, 1, 0, 0, 0, 1, 1, 1, 0, 1, 0, 1, 1, 0,\n",
       "       0, 0, 1, 0, 1, 0, 0, 0, 0, 1, 1, 0, 1, 0, 0, 1, 1, 0, 0, 1, 0, 0,\n",
       "       1, 1, 1, 0, 0, 0, 0, 0, 1, 0, 0, 1, 0, 0, 0, 0, 0, 1, 1, 0, 0, 1,\n",
       "       0, 1, 0, 0, 1, 0, 1, 0, 0, 0, 0, 0, 1, 1, 1, 1, 1, 0, 1, 0, 0, 1])"
      ]
     },
     "execution_count": 65,
     "metadata": {},
     "output_type": "execute_result"
    }
   ],
   "source": [
    "Y_hat = XGB_Tuned.predict(X_test).astype(int)\n",
    "Y_hat\n"
   ]
  },
  {
   "cell_type": "code",
   "execution_count": 66,
   "metadata": {
    "execution": {
     "iopub.execute_input": "2021-01-17T15:37:50.921694Z",
     "iopub.status.busy": "2021-01-17T15:37:50.920660Z",
     "iopub.status.idle": "2021-01-17T15:37:50.923360Z",
     "shell.execute_reply": "2021-01-17T15:37:50.923895Z"
    },
    "papermill": {
     "duration": 0.132685,
     "end_time": "2021-01-17T15:37:50.924030",
     "exception": false,
     "start_time": "2021-01-17T15:37:50.791345",
     "status": "completed"
    },
    "tags": []
   },
   "outputs": [],
   "source": [
    "XGBsubmission = {'PassengerId': test_data.PassengerId, 'Survived': Y_hat}\n",
    "submission_xgb = pd.DataFrame(data=XGBsubmission)\n",
    "#submission_xgb.to_csv('xgb_submission.csv', index=False)"
   ]
  }
 ],
 "metadata": {
  "kernelspec": {
   "display_name": "Python 3 (ipykernel)",
   "language": "python",
   "name": "python3"
  },
  "language_info": {
   "codemirror_mode": {
    "name": "ipython",
    "version": 3
   },
   "file_extension": ".py",
   "mimetype": "text/x-python",
   "name": "python",
   "nbconvert_exporter": "python",
   "pygments_lexer": "ipython3",
   "version": "3.9.7"
  },
  "papermill": {
   "duration": 166.182913,
   "end_time": "2021-01-17T15:37:52.063040",
   "environment_variables": {},
   "exception": null,
   "input_path": "__notebook__.ipynb",
   "output_path": "__notebook__.ipynb",
   "parameters": {},
   "start_time": "2021-01-17T15:35:05.880127",
   "version": "2.1.0"
  }
 },
 "nbformat": 4,
 "nbformat_minor": 4
}
